{
 "cells": [
  {
   "cell_type": "markdown",
   "metadata": {},
   "source": [
    "<h1>Estimating The Price of Hydrogen From Different Production Methods</h1>\n",
    "<h3>Graham Smith, Feb 2020</h3>\n",
    "\n",
    "<h3>Introduction</h3>\n",
    "<p>This tool is designed to extend reports such as the International Energy Agency's <a href=\"http://example.com/\">\n",
    "G20 Hydrogen Report</a> by providing an interactive graphs that let users explore the impact of assumptions on hydrogen price. This is important as rapid changes in the price of renewable electricity,  electrolysers and gas means that reports based on data that are only a few years old can be misleading. The base case presented here is most relevant to the United Kingdom with the output in GBP but the tool should be globally applicable.  <em>The code preceedes the interactive graph, so you can skip to the bottom if you're not interested in checking the method or code.</em></p>"
   ]
  },
  {
   "cell_type": "markdown",
   "metadata": {},
   "source": [
    "<h3>Setting Up Model</h3>"
   ]
  },
  {
   "cell_type": "code",
   "execution_count": 57,
   "metadata": {},
   "outputs": [
    {
     "data": {
      "text/html": [
       "\n",
       "    <div class=\"bk-root\">\n",
       "        <a href=\"https://bokeh.org\" target=\"_blank\" class=\"bk-logo bk-logo-small bk-logo-notebook\"></a>\n",
       "        <span id=\"7157\">Loading BokehJS ...</span>\n",
       "    </div>"
      ]
     },
     "metadata": {},
     "output_type": "display_data"
    },
    {
     "data": {
      "application/javascript": [
       "\n",
       "(function(root) {\n",
       "  function now() {\n",
       "    return new Date();\n",
       "  }\n",
       "\n",
       "  var force = true;\n",
       "\n",
       "  if (typeof root._bokeh_onload_callbacks === \"undefined\" || force === true) {\n",
       "    root._bokeh_onload_callbacks = [];\n",
       "    root._bokeh_is_loading = undefined;\n",
       "  }\n",
       "\n",
       "  var JS_MIME_TYPE = 'application/javascript';\n",
       "  var HTML_MIME_TYPE = 'text/html';\n",
       "  var EXEC_MIME_TYPE = 'application/vnd.bokehjs_exec.v0+json';\n",
       "  var CLASS_NAME = 'output_bokeh rendered_html';\n",
       "\n",
       "  /**\n",
       "   * Render data to the DOM node\n",
       "   */\n",
       "  function render(props, node) {\n",
       "    var script = document.createElement(\"script\");\n",
       "    node.appendChild(script);\n",
       "  }\n",
       "\n",
       "  /**\n",
       "   * Handle when an output is cleared or removed\n",
       "   */\n",
       "  function handleClearOutput(event, handle) {\n",
       "    var cell = handle.cell;\n",
       "\n",
       "    var id = cell.output_area._bokeh_element_id;\n",
       "    var server_id = cell.output_area._bokeh_server_id;\n",
       "    // Clean up Bokeh references\n",
       "    if (id != null && id in Bokeh.index) {\n",
       "      Bokeh.index[id].model.document.clear();\n",
       "      delete Bokeh.index[id];\n",
       "    }\n",
       "\n",
       "    if (server_id !== undefined) {\n",
       "      // Clean up Bokeh references\n",
       "      var cmd = \"from bokeh.io.state import curstate; print(curstate().uuid_to_server['\" + server_id + \"'].get_sessions()[0].document.roots[0]._id)\";\n",
       "      cell.notebook.kernel.execute(cmd, {\n",
       "        iopub: {\n",
       "          output: function(msg) {\n",
       "            var id = msg.content.text.trim();\n",
       "            if (id in Bokeh.index) {\n",
       "              Bokeh.index[id].model.document.clear();\n",
       "              delete Bokeh.index[id];\n",
       "            }\n",
       "          }\n",
       "        }\n",
       "      });\n",
       "      // Destroy server and session\n",
       "      var cmd = \"import bokeh.io.notebook as ion; ion.destroy_server('\" + server_id + \"')\";\n",
       "      cell.notebook.kernel.execute(cmd);\n",
       "    }\n",
       "  }\n",
       "\n",
       "  /**\n",
       "   * Handle when a new output is added\n",
       "   */\n",
       "  function handleAddOutput(event, handle) {\n",
       "    var output_area = handle.output_area;\n",
       "    var output = handle.output;\n",
       "\n",
       "    // limit handleAddOutput to display_data with EXEC_MIME_TYPE content only\n",
       "    if ((output.output_type != \"display_data\") || (!output.data.hasOwnProperty(EXEC_MIME_TYPE))) {\n",
       "      return\n",
       "    }\n",
       "\n",
       "    var toinsert = output_area.element.find(\".\" + CLASS_NAME.split(' ')[0]);\n",
       "\n",
       "    if (output.metadata[EXEC_MIME_TYPE][\"id\"] !== undefined) {\n",
       "      toinsert[toinsert.length - 1].firstChild.textContent = output.data[JS_MIME_TYPE];\n",
       "      // store reference to embed id on output_area\n",
       "      output_area._bokeh_element_id = output.metadata[EXEC_MIME_TYPE][\"id\"];\n",
       "    }\n",
       "    if (output.metadata[EXEC_MIME_TYPE][\"server_id\"] !== undefined) {\n",
       "      var bk_div = document.createElement(\"div\");\n",
       "      bk_div.innerHTML = output.data[HTML_MIME_TYPE];\n",
       "      var script_attrs = bk_div.children[0].attributes;\n",
       "      for (var i = 0; i < script_attrs.length; i++) {\n",
       "        toinsert[toinsert.length - 1].firstChild.setAttribute(script_attrs[i].name, script_attrs[i].value);\n",
       "      }\n",
       "      // store reference to server id on output_area\n",
       "      output_area._bokeh_server_id = output.metadata[EXEC_MIME_TYPE][\"server_id\"];\n",
       "    }\n",
       "  }\n",
       "\n",
       "  function register_renderer(events, OutputArea) {\n",
       "\n",
       "    function append_mime(data, metadata, element) {\n",
       "      // create a DOM node to render to\n",
       "      var toinsert = this.create_output_subarea(\n",
       "        metadata,\n",
       "        CLASS_NAME,\n",
       "        EXEC_MIME_TYPE\n",
       "      );\n",
       "      this.keyboard_manager.register_events(toinsert);\n",
       "      // Render to node\n",
       "      var props = {data: data, metadata: metadata[EXEC_MIME_TYPE]};\n",
       "      render(props, toinsert[toinsert.length - 1]);\n",
       "      element.append(toinsert);\n",
       "      return toinsert\n",
       "    }\n",
       "\n",
       "    /* Handle when an output is cleared or removed */\n",
       "    events.on('clear_output.CodeCell', handleClearOutput);\n",
       "    events.on('delete.Cell', handleClearOutput);\n",
       "\n",
       "    /* Handle when a new output is added */\n",
       "    events.on('output_added.OutputArea', handleAddOutput);\n",
       "\n",
       "    /**\n",
       "     * Register the mime type and append_mime function with output_area\n",
       "     */\n",
       "    OutputArea.prototype.register_mime_type(EXEC_MIME_TYPE, append_mime, {\n",
       "      /* Is output safe? */\n",
       "      safe: true,\n",
       "      /* Index of renderer in `output_area.display_order` */\n",
       "      index: 0\n",
       "    });\n",
       "  }\n",
       "\n",
       "  // register the mime type if in Jupyter Notebook environment and previously unregistered\n",
       "  if (root.Jupyter !== undefined) {\n",
       "    var events = require('base/js/events');\n",
       "    var OutputArea = require('notebook/js/outputarea').OutputArea;\n",
       "\n",
       "    if (OutputArea.prototype.mime_types().indexOf(EXEC_MIME_TYPE) == -1) {\n",
       "      register_renderer(events, OutputArea);\n",
       "    }\n",
       "  }\n",
       "\n",
       "  \n",
       "  if (typeof (root._bokeh_timeout) === \"undefined\" || force === true) {\n",
       "    root._bokeh_timeout = Date.now() + 5000;\n",
       "    root._bokeh_failed_load = false;\n",
       "  }\n",
       "\n",
       "  var NB_LOAD_WARNING = {'data': {'text/html':\n",
       "     \"<div style='background-color: #fdd'>\\n\"+\n",
       "     \"<p>\\n\"+\n",
       "     \"BokehJS does not appear to have successfully loaded. If loading BokehJS from CDN, this \\n\"+\n",
       "     \"may be due to a slow or bad network connection. Possible fixes:\\n\"+\n",
       "     \"</p>\\n\"+\n",
       "     \"<ul>\\n\"+\n",
       "     \"<li>re-rerun `output_notebook()` to attempt to load from CDN again, or</li>\\n\"+\n",
       "     \"<li>use INLINE resources instead, as so:</li>\\n\"+\n",
       "     \"</ul>\\n\"+\n",
       "     \"<code>\\n\"+\n",
       "     \"from bokeh.resources import INLINE\\n\"+\n",
       "     \"output_notebook(resources=INLINE)\\n\"+\n",
       "     \"</code>\\n\"+\n",
       "     \"</div>\"}};\n",
       "\n",
       "  function display_loaded() {\n",
       "    var el = document.getElementById(\"7157\");\n",
       "    if (el != null) {\n",
       "      el.textContent = \"BokehJS is loading...\";\n",
       "    }\n",
       "    if (root.Bokeh !== undefined) {\n",
       "      if (el != null) {\n",
       "        el.textContent = \"BokehJS \" + root.Bokeh.version + \" successfully loaded.\";\n",
       "      }\n",
       "    } else if (Date.now() < root._bokeh_timeout) {\n",
       "      setTimeout(display_loaded, 100)\n",
       "    }\n",
       "  }\n",
       "\n",
       "\n",
       "  function run_callbacks() {\n",
       "    try {\n",
       "      root._bokeh_onload_callbacks.forEach(function(callback) {\n",
       "        if (callback != null)\n",
       "          callback();\n",
       "      });\n",
       "    } finally {\n",
       "      delete root._bokeh_onload_callbacks\n",
       "    }\n",
       "    console.debug(\"Bokeh: all callbacks have finished\");\n",
       "  }\n",
       "\n",
       "  function load_libs(css_urls, js_urls, callback) {\n",
       "    if (css_urls == null) css_urls = [];\n",
       "    if (js_urls == null) js_urls = [];\n",
       "\n",
       "    root._bokeh_onload_callbacks.push(callback);\n",
       "    if (root._bokeh_is_loading > 0) {\n",
       "      console.debug(\"Bokeh: BokehJS is being loaded, scheduling callback at\", now());\n",
       "      return null;\n",
       "    }\n",
       "    if (js_urls == null || js_urls.length === 0) {\n",
       "      run_callbacks();\n",
       "      return null;\n",
       "    }\n",
       "    console.debug(\"Bokeh: BokehJS not loaded, scheduling load and callback at\", now());\n",
       "    root._bokeh_is_loading = css_urls.length + js_urls.length;\n",
       "\n",
       "    function on_load() {\n",
       "      root._bokeh_is_loading--;\n",
       "      if (root._bokeh_is_loading === 0) {\n",
       "        console.debug(\"Bokeh: all BokehJS libraries/stylesheets loaded\");\n",
       "        run_callbacks()\n",
       "      }\n",
       "    }\n",
       "\n",
       "    function on_error() {\n",
       "      console.error(\"failed to load \" + url);\n",
       "    }\n",
       "\n",
       "    for (var i = 0; i < css_urls.length; i++) {\n",
       "      var url = css_urls[i];\n",
       "      const element = document.createElement(\"link\");\n",
       "      element.onload = on_load;\n",
       "      element.onerror = on_error;\n",
       "      element.rel = \"stylesheet\";\n",
       "      element.type = \"text/css\";\n",
       "      element.href = url;\n",
       "      console.debug(\"Bokeh: injecting link tag for BokehJS stylesheet: \", url);\n",
       "      document.body.appendChild(element);\n",
       "    }\n",
       "\n",
       "    for (var i = 0; i < js_urls.length; i++) {\n",
       "      var url = js_urls[i];\n",
       "      var element = document.createElement('script');\n",
       "      element.onload = on_load;\n",
       "      element.onerror = on_error;\n",
       "      element.async = false;\n",
       "      element.src = url;\n",
       "      console.debug(\"Bokeh: injecting script tag for BokehJS library: \", url);\n",
       "      document.head.appendChild(element);\n",
       "    }\n",
       "  };var element = document.getElementById(\"7157\");\n",
       "  if (element == null) {\n",
       "    console.error(\"Bokeh: ERROR: autoload.js configured with elementid '7157' but no matching script tag was found. \")\n",
       "    return false;\n",
       "  }\n",
       "\n",
       "  function inject_raw_css(css) {\n",
       "    const element = document.createElement(\"style\");\n",
       "    element.appendChild(document.createTextNode(css));\n",
       "    document.body.appendChild(element);\n",
       "  }\n",
       "\n",
       "  \n",
       "  var js_urls = [\"https://cdn.pydata.org/bokeh/release/bokeh-1.4.0.min.js\", \"https://cdn.pydata.org/bokeh/release/bokeh-widgets-1.4.0.min.js\", \"https://cdn.pydata.org/bokeh/release/bokeh-tables-1.4.0.min.js\", \"https://cdn.pydata.org/bokeh/release/bokeh-gl-1.4.0.min.js\"];\n",
       "  var css_urls = [];\n",
       "  \n",
       "\n",
       "  var inline_js = [\n",
       "    function(Bokeh) {\n",
       "      Bokeh.set_log_level(\"info\");\n",
       "    },\n",
       "    function(Bokeh) {\n",
       "    \n",
       "    \n",
       "    }\n",
       "  ];\n",
       "\n",
       "  function run_inline_js() {\n",
       "    \n",
       "    if (root.Bokeh !== undefined || force === true) {\n",
       "      \n",
       "    for (var i = 0; i < inline_js.length; i++) {\n",
       "      inline_js[i].call(root, root.Bokeh);\n",
       "    }\n",
       "    if (force === true) {\n",
       "        display_loaded();\n",
       "      }} else if (Date.now() < root._bokeh_timeout) {\n",
       "      setTimeout(run_inline_js, 100);\n",
       "    } else if (!root._bokeh_failed_load) {\n",
       "      console.log(\"Bokeh: BokehJS failed to load within specified timeout.\");\n",
       "      root._bokeh_failed_load = true;\n",
       "    } else if (force !== true) {\n",
       "      var cell = $(document.getElementById(\"7157\")).parents('.cell').data().cell;\n",
       "      cell.output_area.append_execute_result(NB_LOAD_WARNING)\n",
       "    }\n",
       "\n",
       "  }\n",
       "\n",
       "  if (root._bokeh_is_loading === 0) {\n",
       "    console.debug(\"Bokeh: BokehJS loaded, going straight to plotting\");\n",
       "    run_inline_js();\n",
       "  } else {\n",
       "    load_libs(css_urls, js_urls, function() {\n",
       "      console.debug(\"Bokeh: BokehJS plotting callback run at\", now());\n",
       "      run_inline_js();\n",
       "    });\n",
       "  }\n",
       "}(window));"
      ],
      "application/vnd.bokehjs_load.v0+json": "\n(function(root) {\n  function now() {\n    return new Date();\n  }\n\n  var force = true;\n\n  if (typeof root._bokeh_onload_callbacks === \"undefined\" || force === true) {\n    root._bokeh_onload_callbacks = [];\n    root._bokeh_is_loading = undefined;\n  }\n\n  \n\n  \n  if (typeof (root._bokeh_timeout) === \"undefined\" || force === true) {\n    root._bokeh_timeout = Date.now() + 5000;\n    root._bokeh_failed_load = false;\n  }\n\n  var NB_LOAD_WARNING = {'data': {'text/html':\n     \"<div style='background-color: #fdd'>\\n\"+\n     \"<p>\\n\"+\n     \"BokehJS does not appear to have successfully loaded. If loading BokehJS from CDN, this \\n\"+\n     \"may be due to a slow or bad network connection. Possible fixes:\\n\"+\n     \"</p>\\n\"+\n     \"<ul>\\n\"+\n     \"<li>re-rerun `output_notebook()` to attempt to load from CDN again, or</li>\\n\"+\n     \"<li>use INLINE resources instead, as so:</li>\\n\"+\n     \"</ul>\\n\"+\n     \"<code>\\n\"+\n     \"from bokeh.resources import INLINE\\n\"+\n     \"output_notebook(resources=INLINE)\\n\"+\n     \"</code>\\n\"+\n     \"</div>\"}};\n\n  function display_loaded() {\n    var el = document.getElementById(\"7157\");\n    if (el != null) {\n      el.textContent = \"BokehJS is loading...\";\n    }\n    if (root.Bokeh !== undefined) {\n      if (el != null) {\n        el.textContent = \"BokehJS \" + root.Bokeh.version + \" successfully loaded.\";\n      }\n    } else if (Date.now() < root._bokeh_timeout) {\n      setTimeout(display_loaded, 100)\n    }\n  }\n\n\n  function run_callbacks() {\n    try {\n      root._bokeh_onload_callbacks.forEach(function(callback) {\n        if (callback != null)\n          callback();\n      });\n    } finally {\n      delete root._bokeh_onload_callbacks\n    }\n    console.debug(\"Bokeh: all callbacks have finished\");\n  }\n\n  function load_libs(css_urls, js_urls, callback) {\n    if (css_urls == null) css_urls = [];\n    if (js_urls == null) js_urls = [];\n\n    root._bokeh_onload_callbacks.push(callback);\n    if (root._bokeh_is_loading > 0) {\n      console.debug(\"Bokeh: BokehJS is being loaded, scheduling callback at\", now());\n      return null;\n    }\n    if (js_urls == null || js_urls.length === 0) {\n      run_callbacks();\n      return null;\n    }\n    console.debug(\"Bokeh: BokehJS not loaded, scheduling load and callback at\", now());\n    root._bokeh_is_loading = css_urls.length + js_urls.length;\n\n    function on_load() {\n      root._bokeh_is_loading--;\n      if (root._bokeh_is_loading === 0) {\n        console.debug(\"Bokeh: all BokehJS libraries/stylesheets loaded\");\n        run_callbacks()\n      }\n    }\n\n    function on_error() {\n      console.error(\"failed to load \" + url);\n    }\n\n    for (var i = 0; i < css_urls.length; i++) {\n      var url = css_urls[i];\n      const element = document.createElement(\"link\");\n      element.onload = on_load;\n      element.onerror = on_error;\n      element.rel = \"stylesheet\";\n      element.type = \"text/css\";\n      element.href = url;\n      console.debug(\"Bokeh: injecting link tag for BokehJS stylesheet: \", url);\n      document.body.appendChild(element);\n    }\n\n    for (var i = 0; i < js_urls.length; i++) {\n      var url = js_urls[i];\n      var element = document.createElement('script');\n      element.onload = on_load;\n      element.onerror = on_error;\n      element.async = false;\n      element.src = url;\n      console.debug(\"Bokeh: injecting script tag for BokehJS library: \", url);\n      document.head.appendChild(element);\n    }\n  };var element = document.getElementById(\"7157\");\n  if (element == null) {\n    console.error(\"Bokeh: ERROR: autoload.js configured with elementid '7157' but no matching script tag was found. \")\n    return false;\n  }\n\n  function inject_raw_css(css) {\n    const element = document.createElement(\"style\");\n    element.appendChild(document.createTextNode(css));\n    document.body.appendChild(element);\n  }\n\n  \n  var js_urls = [\"https://cdn.pydata.org/bokeh/release/bokeh-1.4.0.min.js\", \"https://cdn.pydata.org/bokeh/release/bokeh-widgets-1.4.0.min.js\", \"https://cdn.pydata.org/bokeh/release/bokeh-tables-1.4.0.min.js\", \"https://cdn.pydata.org/bokeh/release/bokeh-gl-1.4.0.min.js\"];\n  var css_urls = [];\n  \n\n  var inline_js = [\n    function(Bokeh) {\n      Bokeh.set_log_level(\"info\");\n    },\n    function(Bokeh) {\n    \n    \n    }\n  ];\n\n  function run_inline_js() {\n    \n    if (root.Bokeh !== undefined || force === true) {\n      \n    for (var i = 0; i < inline_js.length; i++) {\n      inline_js[i].call(root, root.Bokeh);\n    }\n    if (force === true) {\n        display_loaded();\n      }} else if (Date.now() < root._bokeh_timeout) {\n      setTimeout(run_inline_js, 100);\n    } else if (!root._bokeh_failed_load) {\n      console.log(\"Bokeh: BokehJS failed to load within specified timeout.\");\n      root._bokeh_failed_load = true;\n    } else if (force !== true) {\n      var cell = $(document.getElementById(\"7157\")).parents('.cell').data().cell;\n      cell.output_area.append_execute_result(NB_LOAD_WARNING)\n    }\n\n  }\n\n  if (root._bokeh_is_loading === 0) {\n    console.debug(\"Bokeh: BokehJS loaded, going straight to plotting\");\n    run_inline_js();\n  } else {\n    load_libs(css_urls, js_urls, function() {\n      console.debug(\"Bokeh: BokehJS plotting callback run at\", now());\n      run_inline_js();\n    });\n  }\n}(window));"
     },
     "metadata": {},
     "output_type": "display_data"
    }
   ],
   "source": [
    "#Imports\n",
    "import math\n",
    "import bokeh\n",
    "import bokeh.plotting as plt\n",
    "from bokeh.models import Span, Label\n",
    "from bokeh.io import show, push_notebook, output_notebook\n",
    "output_notebook()\n",
    "\n",
    "from ipywidgets import interact"
   ]
  },
  {
   "cell_type": "code",
   "execution_count": 28,
   "metadata": {},
   "outputs": [],
   "source": [
    "#Global Physical & Financial Variables\n",
    "LHV = 33 #kWe kgH2 (Lower Heating Value - LHV)\n",
    "discountRate = 8 #% - This is the effective annual cost of capital investment"
   ]
  },
  {
   "cell_type": "markdown",
   "metadata": {},
   "source": [
    "<h3>PEM Electrolyser Data</h3>"
   ]
  },
  {
   "cell_type": "code",
   "execution_count": 54,
   "metadata": {},
   "outputs": [],
   "source": [
    "#Usage\n",
    "hoursPerDay = 24 #hours\n",
    "daysPerYear = 340 #days\n",
    "averageNominalPower = 80 #%\n",
    "use = hoursPerDay * daysPerYear * averageNominalPower/100 #effective hours per year\n",
    "\n",
    "#Electrolyser\n",
    "efficiency = 69 #% equivalent to 1.78 V\n",
    "efficiencyLoss = 1.5 #%efficiency loss per year equivalent to 2.25 muV operation-1 \n",
    "lifeHours = 80000 #h of useable hours\n",
    "lifeYears = lifeHours/(hoursPerDay * daysPerYear) #number of years electrolyser is in operation\n",
    "powerRequired = LHV/(efficiency/100)# kW H2\n",
    "\n",
    "#CAPEX\n",
    "equipmentCost = 250 #GBP kW 250-1000 euro\n",
    "CAPEX = equipmentCost*powerRequired/lifeHours #price per Kg H2 produced overlifetime\n",
    "\n",
    "#FINANCING CAPEX\n",
    "FINANCING = 0\n",
    "\n",
    "#ENERGY OPEX\n",
    "elecPrice = 0.03 #mean electricity price in GBP / kWh\n",
    "energyOPEX = powerRequired*elecPrice #GBP per kg H2\n",
    "\n",
    "#MAINTAINANCE OPEX\n",
    "maintanceCost = 1.5 #1.5 % of CAPEX per year\n",
    "maintOPEX = maintanceCost/100*equipmentCost*lifeYears/lifeHours\n",
    "\n",
    "OPEX = maintOPEX + energyOPEX\n",
    "\n",
    "total = FINANCING + CAPEX + OPEX #GBP kW-1"
   ]
  },
  {
   "cell_type": "code",
   "execution_count": 92,
   "metadata": {},
   "outputs": [],
   "source": [
    "technology = ['PEME', 'Alkaline', 'SMR', 'ATR']\n",
    "costs = ['Electricity', 'Gas', 'Other OpEx', 'CapEx', 'Finance']\n",
    "colors = ['#005596', '#00AEEF', '#791D7E', '#6DB33F',  '#EE3224', '#FFC425'][0:len(costs)]\n",
    "\n",
    "data = {'technology' : technology,\n",
    "        'Electricity'   : [2, 1, 4, 3],\n",
    "        'Gas'   : [5, 3, 4, 2],\n",
    "        'Other OpEx'   : [3, 2, 4, 4],\n",
    "        'CapEx'   : [3, 2, 4, 4],\n",
    "        'Finance'   : [3, 2, 4, 4],       \n",
    "       }"
   ]
  },
  {
   "cell_type": "code",
   "execution_count": 125,
   "metadata": {},
   "outputs": [],
   "source": [
    "def update(a,b,c,d,e):\n",
    "    data = {'technology' : technology,\n",
    "        'Electricity'   : [a, 1, 4, 3],\n",
    "        'Gas'   : [b, 3, 4, 2],\n",
    "        'Other OpEx'   : [c, 2, 4, 4],\n",
    "        'CapEx'   : [d, 2, 4, 4],\n",
    "        'Finance'   : [e, 2, 4, 4],       \n",
    "       }\n",
    "    for i in range(5):\n",
    "        vbarplot[i].data_source.data=data\n",
    "    push_notebook()"
   ]
  },
  {
   "cell_type": "code",
   "execution_count": 126,
   "metadata": {},
   "outputs": [
    {
     "data": {
      "text/html": [
       "\n",
       "\n",
       "\n",
       "\n",
       "\n",
       "\n",
       "  <div class=\"bk-root\" id=\"333c256b-1355-423e-80f9-50c1316242ff\" data-root-id=\"12830\"></div>\n"
      ]
     },
     "metadata": {},
     "output_type": "display_data"
    },
    {
     "data": {
      "application/javascript": [
       "(function(root) {\n",
       "  function embed_document(root) {\n",
       "    \n",
       "  var docs_json = {\"e52fb14b-0af8-4027-a9cb-bc74b0ed567d\":{\"roots\":{\"references\":[{\"attributes\":{\"below\":[{\"id\":\"12839\",\"type\":\"CategoricalAxis\"}],\"center\":[{\"id\":\"12842\",\"type\":\"Grid\"},{\"id\":\"12847\",\"type\":\"Grid\"},{\"id\":\"12873\",\"type\":\"Legend\"},{\"id\":\"12947\",\"type\":\"Span\"},{\"id\":\"12948\",\"type\":\"Label\"}],\"left\":[{\"id\":\"12843\",\"type\":\"LinearAxis\"}],\"outline_line_color\":{\"value\":\"Black\"},\"plot_height\":500,\"plot_width\":809,\"renderers\":[{\"id\":\"12865\",\"type\":\"GlyphRenderer\"},{\"id\":\"12879\",\"type\":\"GlyphRenderer\"},{\"id\":\"12894\",\"type\":\"GlyphRenderer\"},{\"id\":\"12911\",\"type\":\"GlyphRenderer\"},{\"id\":\"12930\",\"type\":\"GlyphRenderer\"}],\"title\":{\"id\":\"12867\",\"type\":\"Title\"},\"toolbar\":{\"id\":\"12849\",\"type\":\"Toolbar\"},\"toolbar_location\":null,\"x_range\":{\"id\":\"12831\",\"type\":\"FactorRange\"},\"x_scale\":{\"id\":\"12835\",\"type\":\"CategoricalScale\"},\"y_range\":{\"id\":\"12833\",\"type\":\"DataRange1d\"},\"y_scale\":{\"id\":\"12837\",\"type\":\"LinearScale\"}},\"id\":\"12830\",\"subtype\":\"Figure\",\"type\":\"Plot\"},{\"attributes\":{\"fields\":[\"Electricity\"]},\"id\":\"12852\",\"type\":\"Stack\"},{\"attributes\":{\"bottom\":{\"expr\":{\"id\":\"12857\",\"type\":\"Stack\"}},\"fill_alpha\":{\"value\":0.1},\"fill_color\":{\"value\":\"#1f77b4\"},\"line_alpha\":{\"value\":0.1},\"line_color\":{\"value\":\"#1f77b4\"},\"top\":{\"expr\":{\"id\":\"12858\",\"type\":\"Stack\"}},\"width\":{\"value\":0.8},\"x\":{\"field\":\"technology\"}},\"id\":\"12910\",\"type\":\"VBar\"},{\"attributes\":{\"bottom\":{\"expr\":{\"id\":\"12859\",\"type\":\"Stack\"}},\"fill_color\":{\"value\":\"#EE3224\"},\"line_color\":{\"value\":\"#EE3224\"},\"top\":{\"expr\":{\"id\":\"12860\",\"type\":\"Stack\"}},\"width\":{\"value\":0.8},\"x\":{\"field\":\"technology\"}},\"id\":\"12928\",\"type\":\"VBar\"},{\"attributes\":{\"data_source\":{\"id\":\"12926\",\"type\":\"ColumnDataSource\"},\"glyph\":{\"id\":\"12928\",\"type\":\"VBar\"},\"hover_glyph\":null,\"muted_glyph\":null,\"name\":\"Finance\",\"nonselection_glyph\":{\"id\":\"12929\",\"type\":\"VBar\"},\"selection_glyph\":null,\"view\":{\"id\":\"12931\",\"type\":\"CDSView\"}},\"id\":\"12930\",\"type\":\"GlyphRenderer\"},{\"attributes\":{\"source\":{\"id\":\"12861\",\"type\":\"ColumnDataSource\"}},\"id\":\"12866\",\"type\":\"CDSView\"},{\"attributes\":{\"fields\":[\"Electricity\",\"Gas\"]},\"id\":\"12854\",\"type\":\"Stack\"},{\"attributes\":{\"label\":{\"value\":\"Electricity\"},\"renderers\":[{\"id\":\"12865\",\"type\":\"GlyphRenderer\"}]},\"id\":\"12874\",\"type\":\"LegendItem\"},{\"attributes\":{\"bottom\":{\"expr\":{\"id\":\"12851\",\"type\":\"Stack\"}},\"fill_alpha\":{\"value\":0.1},\"fill_color\":{\"value\":\"#1f77b4\"},\"line_alpha\":{\"value\":0.1},\"line_color\":{\"value\":\"#1f77b4\"},\"top\":{\"expr\":{\"id\":\"12852\",\"type\":\"Stack\"}},\"width\":{\"value\":0.8},\"x\":{\"field\":\"technology\"}},\"id\":\"12864\",\"type\":\"VBar\"},{\"attributes\":{\"fields\":[\"Electricity\",\"Gas\",\"Other OpEx\",\"CapEx\",\"Finance\"]},\"id\":\"12860\",\"type\":\"Stack\"},{\"attributes\":{},\"id\":\"12870\",\"type\":\"CategoricalTickFormatter\"},{\"attributes\":{},\"id\":\"12837\",\"type\":\"LinearScale\"},{\"attributes\":{},\"id\":\"12923\",\"type\":\"Selection\"},{\"attributes\":{\"label\":{\"value\":\"Other OpEx\"},\"renderers\":[{\"id\":\"12894\",\"type\":\"GlyphRenderer\"}]},\"id\":\"12906\",\"type\":\"LegendItem\"},{\"attributes\":{\"bottom\":{\"expr\":{\"id\":\"12851\",\"type\":\"Stack\"}},\"fill_color\":{\"value\":\"#005596\"},\"line_color\":{\"value\":\"#005596\"},\"top\":{\"expr\":{\"id\":\"12852\",\"type\":\"Stack\"}},\"width\":{\"value\":0.8},\"x\":{\"field\":\"technology\"}},\"id\":\"12863\",\"type\":\"VBar\"},{\"attributes\":{\"line_color\":{\"value\":\"green\"},\"line_dash\":[6],\"line_width\":{\"value\":3},\"location\":2},\"id\":\"12947\",\"type\":\"Span\"},{\"attributes\":{},\"id\":\"12844\",\"type\":\"BasicTicker\"},{\"attributes\":{\"active_drag\":\"auto\",\"active_inspect\":\"auto\",\"active_multi\":null,\"active_scroll\":\"auto\",\"active_tap\":\"auto\",\"tools\":[{\"id\":\"12848\",\"type\":\"HoverTool\"}]},\"id\":\"12849\",\"type\":\"Toolbar\"},{\"attributes\":{},\"id\":\"12945\",\"type\":\"UnionRenderers\"},{\"attributes\":{\"bottom\":{\"expr\":{\"id\":\"12855\",\"type\":\"Stack\"}},\"fill_color\":{\"value\":\"#791D7E\"},\"line_color\":{\"value\":\"#791D7E\"},\"top\":{\"expr\":{\"id\":\"12856\",\"type\":\"Stack\"}},\"width\":{\"value\":0.8},\"x\":{\"field\":\"technology\"}},\"id\":\"12892\",\"type\":\"VBar\"},{\"attributes\":{\"callback\":null,\"data\":{\"CapEx\":[3,2,4,4],\"Electricity\":[2,1,4,3],\"Finance\":[3,2,4,4],\"Gas\":[5,3,4,2],\"Other OpEx\":[3,2,4,4],\"technology\":[\"PEME\",\"Alkaline\",\"SMR\",\"ATR\"]},\"selected\":{\"id\":\"12923\",\"type\":\"Selection\"},\"selection_policy\":{\"id\":\"12924\",\"type\":\"UnionRenderers\"}},\"id\":\"12890\",\"type\":\"ColumnDataSource\"},{\"attributes\":{\"bottom\":{\"expr\":{\"id\":\"12859\",\"type\":\"Stack\"}},\"fill_alpha\":{\"value\":0.1},\"fill_color\":{\"value\":\"#1f77b4\"},\"line_alpha\":{\"value\":0.1},\"line_color\":{\"value\":\"#1f77b4\"},\"top\":{\"expr\":{\"id\":\"12860\",\"type\":\"Stack\"}},\"width\":{\"value\":0.8},\"x\":{\"field\":\"technology\"}},\"id\":\"12929\",\"type\":\"VBar\"},{\"attributes\":{\"border_line_color\":{\"value\":null},\"items\":[{\"id\":\"12874\",\"type\":\"LegendItem\"},{\"id\":\"12889\",\"type\":\"LegendItem\"},{\"id\":\"12906\",\"type\":\"LegendItem\"},{\"id\":\"12925\",\"type\":\"LegendItem\"},{\"id\":\"12946\",\"type\":\"LegendItem\"}],\"location\":\"top_center\",\"orientation\":\"horizontal\"},\"id\":\"12873\",\"type\":\"Legend\"},{\"attributes\":{\"bottom\":{\"expr\":{\"id\":\"12857\",\"type\":\"Stack\"}},\"fill_color\":{\"value\":\"#6DB33F\"},\"line_color\":{\"value\":\"#6DB33F\"},\"top\":{\"expr\":{\"id\":\"12858\",\"type\":\"Stack\"}},\"width\":{\"value\":0.8},\"x\":{\"field\":\"technology\"}},\"id\":\"12909\",\"type\":\"VBar\"},{\"attributes\":{},\"id\":\"12944\",\"type\":\"Selection\"},{\"attributes\":{\"callback\":null,\"data\":{\"CapEx\":[3,2,4,4],\"Electricity\":[2,1,4,3],\"Finance\":[3,2,4,4],\"Gas\":[5,3,4,2],\"Other OpEx\":[3,2,4,4],\"technology\":[\"PEME\",\"Alkaline\",\"SMR\",\"ATR\"]},\"selected\":{\"id\":\"12904\",\"type\":\"Selection\"},\"selection_policy\":{\"id\":\"12905\",\"type\":\"UnionRenderers\"}},\"id\":\"12875\",\"type\":\"ColumnDataSource\"},{\"attributes\":{\"grid_line_color\":null,\"ticker\":{\"id\":\"12840\",\"type\":\"CategoricalTicker\"}},\"id\":\"12842\",\"type\":\"Grid\"},{\"attributes\":{\"bottom\":{\"expr\":{\"id\":\"12855\",\"type\":\"Stack\"}},\"fill_alpha\":{\"value\":0.1},\"fill_color\":{\"value\":\"#1f77b4\"},\"line_alpha\":{\"value\":0.1},\"line_color\":{\"value\":\"#1f77b4\"},\"top\":{\"expr\":{\"id\":\"12856\",\"type\":\"Stack\"}},\"width\":{\"value\":0.8},\"x\":{\"field\":\"technology\"}},\"id\":\"12893\",\"type\":\"VBar\"},{\"attributes\":{\"bottom\":{\"expr\":{\"id\":\"12853\",\"type\":\"Stack\"}},\"fill_color\":{\"value\":\"#00AEEF\"},\"line_color\":{\"value\":\"#00AEEF\"},\"top\":{\"expr\":{\"id\":\"12854\",\"type\":\"Stack\"}},\"width\":{\"value\":0.8},\"x\":{\"field\":\"technology\"}},\"id\":\"12877\",\"type\":\"VBar\"},{\"attributes\":{},\"id\":\"12924\",\"type\":\"UnionRenderers\"},{\"attributes\":{\"fields\":[\"Electricity\",\"Gas\",\"Other OpEx\",\"CapEx\"]},\"id\":\"12859\",\"type\":\"Stack\"},{\"attributes\":{\"label\":{\"value\":\"Finance\"},\"renderers\":[{\"id\":\"12930\",\"type\":\"GlyphRenderer\"}]},\"id\":\"12946\",\"type\":\"LegendItem\"},{\"attributes\":{\"fields\":[\"Electricity\",\"Gas\",\"Other OpEx\"]},\"id\":\"12856\",\"type\":\"Stack\"},{\"attributes\":{},\"id\":\"12871\",\"type\":\"BasicTickFormatter\"},{\"attributes\":{\"label\":{\"value\":\"Gas\"},\"renderers\":[{\"id\":\"12879\",\"type\":\"GlyphRenderer\"}]},\"id\":\"12889\",\"type\":\"LegendItem\"},{\"attributes\":{\"fields\":[\"Electricity\"]},\"id\":\"12853\",\"type\":\"Stack\"},{\"attributes\":{\"formatter\":{\"id\":\"12871\",\"type\":\"BasicTickFormatter\"},\"minor_tick_line_color\":{\"value\":null},\"ticker\":{\"id\":\"12844\",\"type\":\"BasicTicker\"}},\"id\":\"12843\",\"type\":\"LinearAxis\"},{\"attributes\":{\"render_mode\":\"css\",\"text\":\"Pump Price\",\"x\":4.5,\"y\":1},\"id\":\"12948\",\"type\":\"Label\"},{\"attributes\":{},\"id\":\"13267\",\"type\":\"Selection\"},{\"attributes\":{\"formatter\":{\"id\":\"12870\",\"type\":\"CategoricalTickFormatter\"},\"minor_tick_line_color\":{\"value\":null},\"ticker\":{\"id\":\"12840\",\"type\":\"CategoricalTicker\"}},\"id\":\"12839\",\"type\":\"CategoricalAxis\"},{\"attributes\":{\"source\":{\"id\":\"12907\",\"type\":\"ColumnDataSource\"}},\"id\":\"12912\",\"type\":\"CDSView\"},{\"attributes\":{\"data_source\":{\"id\":\"12861\",\"type\":\"ColumnDataSource\"},\"glyph\":{\"id\":\"12863\",\"type\":\"VBar\"},\"hover_glyph\":null,\"muted_glyph\":null,\"name\":\"Electricity\",\"nonselection_glyph\":{\"id\":\"12864\",\"type\":\"VBar\"},\"selection_glyph\":null,\"view\":{\"id\":\"12866\",\"type\":\"CDSView\"}},\"id\":\"12865\",\"type\":\"GlyphRenderer\"},{\"attributes\":{},\"id\":\"12840\",\"type\":\"CategoricalTicker\"},{\"attributes\":{\"bottom\":{\"expr\":{\"id\":\"12853\",\"type\":\"Stack\"}},\"fill_alpha\":{\"value\":0.1},\"fill_color\":{\"value\":\"#1f77b4\"},\"line_alpha\":{\"value\":0.1},\"line_color\":{\"value\":\"#1f77b4\"},\"top\":{\"expr\":{\"id\":\"12854\",\"type\":\"Stack\"}},\"width\":{\"value\":0.8},\"x\":{\"field\":\"technology\"}},\"id\":\"12878\",\"type\":\"VBar\"},{\"attributes\":{\"source\":{\"id\":\"12926\",\"type\":\"ColumnDataSource\"}},\"id\":\"12931\",\"type\":\"CDSView\"},{\"attributes\":{\"callback\":null,\"data\":{\"CapEx\":[3,2,4,4],\"Electricity\":[2,1,4,3],\"Finance\":[3,2,4,4],\"Gas\":[5,3,4,2],\"Other OpEx\":[3,2,4,4],\"technology\":[\"PEME\",\"Alkaline\",\"SMR\",\"ATR\"]},\"selected\":{\"id\":\"13267\",\"type\":\"Selection\"},\"selection_policy\":{\"id\":\"13268\",\"type\":\"UnionRenderers\"}},\"id\":\"12926\",\"type\":\"ColumnDataSource\"},{\"attributes\":{},\"id\":\"12888\",\"type\":\"UnionRenderers\"},{\"attributes\":{\"text\":\"\"},\"id\":\"12867\",\"type\":\"Title\"},{\"attributes\":{},\"id\":\"12887\",\"type\":\"Selection\"},{\"attributes\":{\"fields\":[\"Electricity\",\"Gas\"]},\"id\":\"12855\",\"type\":\"Stack\"},{\"attributes\":{},\"id\":\"13268\",\"type\":\"UnionRenderers\"},{\"attributes\":{\"fields\":[]},\"id\":\"12851\",\"type\":\"Stack\"},{\"attributes\":{\"dimension\":1,\"grid_line_color\":null,\"ticker\":{\"id\":\"12844\",\"type\":\"BasicTicker\"}},\"id\":\"12847\",\"type\":\"Grid\"},{\"attributes\":{\"callback\":null,\"end\":25,\"start\":0},\"id\":\"12833\",\"type\":\"DataRange1d\"},{\"attributes\":{\"data_source\":{\"id\":\"12890\",\"type\":\"ColumnDataSource\"},\"glyph\":{\"id\":\"12892\",\"type\":\"VBar\"},\"hover_glyph\":null,\"muted_glyph\":null,\"name\":\"Other OpEx\",\"nonselection_glyph\":{\"id\":\"12893\",\"type\":\"VBar\"},\"selection_glyph\":null,\"view\":{\"id\":\"12895\",\"type\":\"CDSView\"}},\"id\":\"12894\",\"type\":\"GlyphRenderer\"},{\"attributes\":{\"data_source\":{\"id\":\"12907\",\"type\":\"ColumnDataSource\"},\"glyph\":{\"id\":\"12909\",\"type\":\"VBar\"},\"hover_glyph\":null,\"muted_glyph\":null,\"name\":\"CapEx\",\"nonselection_glyph\":{\"id\":\"12910\",\"type\":\"VBar\"},\"selection_glyph\":null,\"view\":{\"id\":\"12912\",\"type\":\"CDSView\"}},\"id\":\"12911\",\"type\":\"GlyphRenderer\"},{\"attributes\":{\"callback\":null,\"data\":{\"CapEx\":[3,2,4,4],\"Electricity\":[2,1,4,3],\"Finance\":[3,2,4,4],\"Gas\":[5,3,4,2],\"Other OpEx\":[3,2,4,4],\"technology\":[\"PEME\",\"Alkaline\",\"SMR\",\"ATR\"]},\"selected\":{\"id\":\"12887\",\"type\":\"Selection\"},\"selection_policy\":{\"id\":\"12888\",\"type\":\"UnionRenderers\"}},\"id\":\"12861\",\"type\":\"ColumnDataSource\"},{\"attributes\":{\"callback\":null,\"data\":{\"CapEx\":[3,2,4,4],\"Electricity\":[2,1,4,3],\"Finance\":[3,2,4,4],\"Gas\":[5,3,4,2],\"Other OpEx\":[3,2,4,4],\"technology\":[\"PEME\",\"Alkaline\",\"SMR\",\"ATR\"]},\"selected\":{\"id\":\"12944\",\"type\":\"Selection\"},\"selection_policy\":{\"id\":\"12945\",\"type\":\"UnionRenderers\"}},\"id\":\"12907\",\"type\":\"ColumnDataSource\"},{\"attributes\":{\"data_source\":{\"id\":\"12875\",\"type\":\"ColumnDataSource\"},\"glyph\":{\"id\":\"12877\",\"type\":\"VBar\"},\"hover_glyph\":null,\"muted_glyph\":null,\"name\":\"Gas\",\"nonselection_glyph\":{\"id\":\"12878\",\"type\":\"VBar\"},\"selection_glyph\":null,\"view\":{\"id\":\"12880\",\"type\":\"CDSView\"}},\"id\":\"12879\",\"type\":\"GlyphRenderer\"},{\"attributes\":{},\"id\":\"12835\",\"type\":\"CategoricalScale\"},{\"attributes\":{\"source\":{\"id\":\"12875\",\"type\":\"ColumnDataSource\"}},\"id\":\"12880\",\"type\":\"CDSView\"},{\"attributes\":{\"callback\":null,\"tooltips\":\"$name: @$name\"},\"id\":\"12848\",\"type\":\"HoverTool\"},{\"attributes\":{},\"id\":\"12904\",\"type\":\"Selection\"},{\"attributes\":{},\"id\":\"12905\",\"type\":\"UnionRenderers\"},{\"attributes\":{\"fields\":[\"Electricity\",\"Gas\",\"Other OpEx\"]},\"id\":\"12857\",\"type\":\"Stack\"},{\"attributes\":{\"label\":{\"value\":\"CapEx\"},\"renderers\":[{\"id\":\"12911\",\"type\":\"GlyphRenderer\"}]},\"id\":\"12925\",\"type\":\"LegendItem\"},{\"attributes\":{\"fields\":[\"Electricity\",\"Gas\",\"Other OpEx\",\"CapEx\"]},\"id\":\"12858\",\"type\":\"Stack\"},{\"attributes\":{\"callback\":null,\"factors\":[\"PEME\",\"Alkaline\",\"SMR\",\"ATR\"]},\"id\":\"12831\",\"type\":\"FactorRange\"},{\"attributes\":{\"source\":{\"id\":\"12890\",\"type\":\"ColumnDataSource\"}},\"id\":\"12895\",\"type\":\"CDSView\"}],\"root_ids\":[\"12830\"]},\"title\":\"Bokeh Application\",\"version\":\"1.4.0\"}};\n",
       "  var render_items = [{\"docid\":\"e52fb14b-0af8-4027-a9cb-bc74b0ed567d\",\"notebook_comms_target\":\"13269\",\"roots\":{\"12830\":\"333c256b-1355-423e-80f9-50c1316242ff\"}}];\n",
       "  root.Bokeh.embed.embed_items_notebook(docs_json, render_items);\n",
       "\n",
       "  }\n",
       "  if (root.Bokeh !== undefined) {\n",
       "    embed_document(root);\n",
       "  } else {\n",
       "    var attempts = 0;\n",
       "    var timer = setInterval(function(root) {\n",
       "      if (root.Bokeh !== undefined) {\n",
       "        clearInterval(timer);\n",
       "        embed_document(root);\n",
       "      } else {\n",
       "        attempts++;\n",
       "        if (attempts > 100) {\n",
       "          clearInterval(timer);\n",
       "          console.log(\"Bokeh: ERROR: Unable to run BokehJS code because BokehJS library is missing\");\n",
       "        }\n",
       "      }\n",
       "    }, 10, root)\n",
       "  }\n",
       "})(window);"
      ],
      "application/vnd.bokehjs_exec.v0+json": ""
     },
     "metadata": {
      "application/vnd.bokehjs_exec.v0+json": {
       "id": "12830"
      }
     },
     "output_type": "display_data"
    }
   ],
   "source": [
    "height=int(500)\n",
    "width = int(height*1.618)\n",
    "p = plt.figure(x_range=technology, plot_height=height, plot_width=width,\n",
    "           toolbar_location=None, tools=\"hover\", tooltips=\"$name: @$name\")\n",
    "\n",
    "vbarplot = p.vbar_stack(costs, x='technology', width=0.8, source=data, color=colors, legend_label=costs)\n",
    "\n",
    "\n",
    "pumpPrice = Span(location=2, dimension='width', line_color='green', line_dash='dashed', line_width=3)\n",
    "pumpPriceLabel = Label(x=4.5, y=1, text='Pump Price', render_mode='css', border_line_color=None)\n",
    "\n",
    "p.add_layout(pumpPrice)\n",
    "p.add_layout(pumpPriceLabel)\n",
    "\n",
    "\n",
    "p.xgrid.grid_line_color = None\n",
    "p.ygrid.grid_line_color = None\n",
    "p.axis.minor_tick_line_color = None\n",
    "p.outline_line_color = 'Black'\n",
    "\n",
    "p.y_range.end = 25\n",
    "p.y_range.start = 0\n",
    "p.legend.border_line_color = None\n",
    "p.legend.location = 'top_center'\n",
    "p.legend.orientation = 'horizontal'\n",
    "\n",
    "t = show(p, notebook_handle=t)"
   ]
  },
  {
   "cell_type": "code",
   "execution_count": 129,
   "metadata": {},
   "outputs": [
    {
     "data": {
      "application/vnd.jupyter.widget-view+json": {
       "model_id": "d63eeac16efe4f7e9eb1c323ffa6d980",
       "version_major": 2,
       "version_minor": 0
      },
      "text/plain": [
       "interactive(children=(IntSlider(value=5, description='a', max=10), IntSlider(value=5, description='b', max=10)…"
      ]
     },
     "metadata": {},
     "output_type": "display_data"
    },
    {
     "data": {
      "text/plain": [
       "<function __main__.update(a, b, c, d, e)>"
      ]
     },
     "execution_count": 129,
     "metadata": {},
     "output_type": "execute_result"
    }
   ],
   "source": [
    "interact(update, a=(0,10), b=(0,10), c=(0,10), d=(0,10), e=(0,10))"
   ]
  },
  {
   "cell_type": "markdown",
   "metadata": {},
   "source": [
    "<h3>Future Additions to Model</h3>\n",
    "<ul>\n",
    "    <li>compression costs for 7 MPa distribution network.</li>\n",
    "    <li>distribution costs / local generation / central generation</li>\n",
    "    <li>make a link to a polarisation curve and a price minimisation stragety</li>\n",
    "    <li>can we make wind baseload like with hydrogen production</li>\n",
    "    <li>how much hydrogen would we make compared to energy use?</li>\n",
    "</ul>"
   ]
  },
  {
   "cell_type": "code",
   "execution_count": null,
   "metadata": {},
   "outputs": [],
   "source": []
  }
 ],
 "metadata": {
  "kernelspec": {
   "display_name": "Python 3",
   "language": "python",
   "name": "python3"
  },
  "language_info": {
   "codemirror_mode": {
    "name": "ipython",
    "version": 3
   },
   "file_extension": ".py",
   "mimetype": "text/x-python",
   "name": "python",
   "nbconvert_exporter": "python",
   "pygments_lexer": "ipython3",
   "version": "3.7.3"
  },
  "widgets": {
   "application/vnd.jupyter.widget-state+json": {
    "state": {
     "00a846e5c58c424da26aa6dd33bd3295": {
      "model_module": "@jupyter-widgets/controls",
      "model_module_version": "1.5.0",
      "model_name": "SliderStyleModel",
      "state": {
       "description_width": ""
      }
     },
     "00e05c80c51e4ec4bc1194f83c307a95": {
      "model_module": "@jupyter-widgets/controls",
      "model_module_version": "1.5.0",
      "model_name": "SliderStyleModel",
      "state": {
       "description_width": ""
      }
     },
     "017d3da421594cf693222dbac866b642": {
      "model_module": "@jupyter-widgets/controls",
      "model_module_version": "1.5.0",
      "model_name": "VBoxModel",
      "state": {
       "_dom_classes": [
        "widget-interact"
       ],
       "children": [
        "IPY_MODEL_c97e1e1c518d4b0eaed04a1730f5c7e5",
        "IPY_MODEL_715d96c166aa43d79feeea71609a9735",
        "IPY_MODEL_35ab6192944d4ece895ac1e286fe82f2",
        "IPY_MODEL_8e70222509724601ab551c368c90e830",
        "IPY_MODEL_f43246e5531144468d819712c84f54ff",
        "IPY_MODEL_c8751b9bce6e463a9b5e9605874db61d"
       ],
       "layout": "IPY_MODEL_2386e7edf30d493197d6cc4644de6117"
      }
     },
     "01fefa6fef0f43da9bd2ee30d4334097": {
      "model_module": "@jupyter-widgets/controls",
      "model_module_version": "1.5.0",
      "model_name": "IntSliderModel",
      "state": {
       "description": "e",
       "layout": "IPY_MODEL_7711a888d9a44a72a7e4f95ec2ce829d",
       "max": 10,
       "style": "IPY_MODEL_eb9d2080d9e142659ff962412b0d3312",
       "value": 5
      }
     },
     "02a4c346ca3449d2b24f381d70e1e28b": {
      "model_module": "@jupyter-widgets/base",
      "model_module_version": "1.2.0",
      "model_name": "LayoutModel",
      "state": {}
     },
     "02e9ff32ac1c47c4bdd254c2c656c602": {
      "model_module": "@jupyter-widgets/controls",
      "model_module_version": "1.5.0",
      "model_name": "IntSliderModel",
      "state": {
       "description": "b",
       "layout": "IPY_MODEL_586a792da5c1490580d4a6b93cfdf774",
       "max": 10,
       "style": "IPY_MODEL_15b82414785f40abb17e3e9f2124e6d6",
       "value": 5
      }
     },
     "0338022c985d46d4a83cf67c7f667c88": {
      "model_module": "@jupyter-widgets/controls",
      "model_module_version": "1.5.0",
      "model_name": "SliderStyleModel",
      "state": {
       "description_width": ""
      }
     },
     "03a17134afd147cf8534e2a2277627ae": {
      "model_module": "@jupyter-widgets/controls",
      "model_module_version": "1.5.0",
      "model_name": "VBoxModel",
      "state": {
       "_dom_classes": [
        "widget-interact"
       ],
       "children": [
        "IPY_MODEL_c7529392f74341329647bdea2d954cf9",
        "IPY_MODEL_6d173538da3b4601b8ec27cdb6d75e93",
        "IPY_MODEL_db518d67c9b04c61bd3f1c2432548d2e",
        "IPY_MODEL_33d32a6c45b64c4ebe3bdcb613fa5eea",
        "IPY_MODEL_749ecebdbc2e4c379b94847e69144bc0",
        "IPY_MODEL_faec9da9a11f426db82fc60b3c9cd025"
       ],
       "layout": "IPY_MODEL_204271448e184a919c6e8002b0371878"
      }
     },
     "0400a4eed90541b2ad60f2543c47203e": {
      "model_module": "@jupyter-widgets/controls",
      "model_module_version": "1.5.0",
      "model_name": "SliderStyleModel",
      "state": {
       "description_width": ""
      }
     },
     "0447c34fdc3c4cb79bb57994d606c007": {
      "model_module": "@jupyter-widgets/base",
      "model_module_version": "1.2.0",
      "model_name": "LayoutModel",
      "state": {}
     },
     "044d0324e63c44eaa358ed497c2e629a": {
      "model_module": "@jupyter-widgets/base",
      "model_module_version": "1.2.0",
      "model_name": "LayoutModel",
      "state": {}
     },
     "0544da0feeb040bc92105eb6633cc52c": {
      "model_module": "@jupyter-widgets/base",
      "model_module_version": "1.2.0",
      "model_name": "LayoutModel",
      "state": {}
     },
     "06ba9ae2b9ec4b9cb02cfadc5df43439": {
      "model_module": "@jupyter-widgets/controls",
      "model_module_version": "1.5.0",
      "model_name": "IntSliderModel",
      "state": {
       "description": "b",
       "layout": "IPY_MODEL_6280695d229f49519698275413867c26",
       "max": 10,
       "style": "IPY_MODEL_b2079404857840688ce42b464e36ec1e",
       "value": 2
      }
     },
     "06f1b93311cd4b4a94fe3730a6e2958e": {
      "model_module": "@jupyter-widgets/base",
      "model_module_version": "1.2.0",
      "model_name": "LayoutModel",
      "state": {}
     },
     "09792b029b104279a4937aa4c804d5e4": {
      "model_module": "@jupyter-widgets/controls",
      "model_module_version": "1.5.0",
      "model_name": "SliderStyleModel",
      "state": {
       "description_width": ""
      }
     },
     "0a30de2e40b8462d9f383f92d9de93df": {
      "model_module": "@jupyter-widgets/controls",
      "model_module_version": "1.5.0",
      "model_name": "SliderStyleModel",
      "state": {
       "description_width": ""
      }
     },
     "0a3293d76a8c4154b0ed47bac5caa3a5": {
      "model_module": "@jupyter-widgets/base",
      "model_module_version": "1.2.0",
      "model_name": "LayoutModel",
      "state": {}
     },
     "0a75635f658e48128a63eb3d18454301": {
      "model_module": "@jupyter-widgets/controls",
      "model_module_version": "1.5.0",
      "model_name": "IntSliderModel",
      "state": {
       "description": "a",
       "layout": "IPY_MODEL_4943601c38224a0a8e7c22f8d1c4a558",
       "max": 10,
       "style": "IPY_MODEL_2175ffa75daa4e6ca39040bdb9f6cc25",
       "value": 5
      }
     },
     "0b4834642f50419da91192998622b712": {
      "model_module": "@jupyter-widgets/base",
      "model_module_version": "1.2.0",
      "model_name": "LayoutModel",
      "state": {}
     },
     "0cbb043346b3421fa766997ebb0842d1": {
      "model_module": "@jupyter-widgets/output",
      "model_module_version": "1.0.0",
      "model_name": "OutputModel",
      "state": {
       "layout": "IPY_MODEL_855643abc05641178c8031aa3a7b7b6c"
      }
     },
     "0d61a3d0538845be9002a66a681a07ed": {
      "model_module": "@jupyter-widgets/base",
      "model_module_version": "1.2.0",
      "model_name": "LayoutModel",
      "state": {}
     },
     "0d6d67f793674e349fe5aefc41acef90": {
      "model_module": "@jupyter-widgets/controls",
      "model_module_version": "1.5.0",
      "model_name": "SliderStyleModel",
      "state": {
       "description_width": ""
      }
     },
     "0da0ac031fe14dfe9c2299541f030f69": {
      "model_module": "@jupyter-widgets/base",
      "model_module_version": "1.2.0",
      "model_name": "LayoutModel",
      "state": {}
     },
     "0ddf8cd849074f748763950f43e0e5ea": {
      "model_module": "@jupyter-widgets/controls",
      "model_module_version": "1.5.0",
      "model_name": "SliderStyleModel",
      "state": {
       "description_width": ""
      }
     },
     "0e31ae24d93648e6885a581367ff2855": {
      "model_module": "@jupyter-widgets/controls",
      "model_module_version": "1.5.0",
      "model_name": "SliderStyleModel",
      "state": {
       "description_width": ""
      }
     },
     "0f37c5ef06744af7a8e9fa4f254669a5": {
      "model_module": "@jupyter-widgets/controls",
      "model_module_version": "1.5.0",
      "model_name": "IntSliderModel",
      "state": {
       "description": "a",
       "layout": "IPY_MODEL_f2f625c40a4544a785906c1bc8f17006",
       "max": 10,
       "style": "IPY_MODEL_ac7953e6e24044e3b286eb6bd052c363",
       "value": 5
      }
     },
     "0fd20f3617f8442e99217ee206832981": {
      "model_module": "@jupyter-widgets/base",
      "model_module_version": "1.2.0",
      "model_name": "LayoutModel",
      "state": {}
     },
     "1113d50895744288a45ae146c78b5506": {
      "model_module": "@jupyter-widgets/controls",
      "model_module_version": "1.5.0",
      "model_name": "SliderStyleModel",
      "state": {
       "description_width": ""
      }
     },
     "1125b932242241ccbfc6b74ea062f76d": {
      "model_module": "@jupyter-widgets/controls",
      "model_module_version": "1.5.0",
      "model_name": "SliderStyleModel",
      "state": {
       "description_width": ""
      }
     },
     "12150079f096403c9a2f6c6b181364cc": {
      "model_module": "@jupyter-widgets/controls",
      "model_module_version": "1.5.0",
      "model_name": "SliderStyleModel",
      "state": {
       "description_width": ""
      }
     },
     "1243dee8502a4e799f13ec91e24c6901": {
      "model_module": "@jupyter-widgets/controls",
      "model_module_version": "1.5.0",
      "model_name": "SliderStyleModel",
      "state": {
       "description_width": ""
      }
     },
     "1249640f07ce4970ab8ad0894a8da287": {
      "model_module": "@jupyter-widgets/controls",
      "model_module_version": "1.5.0",
      "model_name": "SliderStyleModel",
      "state": {
       "description_width": ""
      }
     },
     "12504e2ffe9049ce8e8c56cb84ff31bd": {
      "model_module": "@jupyter-widgets/controls",
      "model_module_version": "1.5.0",
      "model_name": "IntSliderModel",
      "state": {
       "description": "a",
       "layout": "IPY_MODEL_cb9c028b9ec5429bb8afab0dfd682573",
       "max": 10,
       "style": "IPY_MODEL_1243dee8502a4e799f13ec91e24c6901",
       "value": 5
      }
     },
     "134dff9f450f40209834b03c291ff564": {
      "model_module": "@jupyter-widgets/controls",
      "model_module_version": "1.5.0",
      "model_name": "VBoxModel",
      "state": {
       "_dom_classes": [
        "widget-interact"
       ],
       "children": [
        "IPY_MODEL_61782dbdab974b1e9ddeb3f58c0e1498",
        "IPY_MODEL_cf755af5734d4d9892c6154527f704ad",
        "IPY_MODEL_c58bb0fc6acf4272a5fcb1c81f7f74db",
        "IPY_MODEL_5025c81fbac14e39a4a4cea452eb6bc1",
        "IPY_MODEL_40f8503d215f4e5db0fa13735e70171c",
        "IPY_MODEL_7b70b9170873480c9a9f70992531ac43"
       ],
       "layout": "IPY_MODEL_0544da0feeb040bc92105eb6633cc52c"
      }
     },
     "13f46baea8c84e2b9e1d62973e59c9df": {
      "model_module": "@jupyter-widgets/base",
      "model_module_version": "1.2.0",
      "model_name": "LayoutModel",
      "state": {}
     },
     "1430fcd834af42c4bb90d8913a1d8d33": {
      "model_module": "@jupyter-widgets/base",
      "model_module_version": "1.2.0",
      "model_name": "LayoutModel",
      "state": {}
     },
     "15b82414785f40abb17e3e9f2124e6d6": {
      "model_module": "@jupyter-widgets/controls",
      "model_module_version": "1.5.0",
      "model_name": "SliderStyleModel",
      "state": {
       "description_width": ""
      }
     },
     "16770c3ecbdc49cdb1f6e75e2f1212f9": {
      "model_module": "@jupyter-widgets/base",
      "model_module_version": "1.2.0",
      "model_name": "LayoutModel",
      "state": {}
     },
     "174c093320f1406f82075de45d5fbae0": {
      "model_module": "@jupyter-widgets/controls",
      "model_module_version": "1.5.0",
      "model_name": "SliderStyleModel",
      "state": {
       "description_width": ""
      }
     },
     "176b016373b249608596f47c4b32f923": {
      "model_module": "@jupyter-widgets/controls",
      "model_module_version": "1.5.0",
      "model_name": "SliderStyleModel",
      "state": {
       "description_width": ""
      }
     },
     "17863d4c80c844daa9df13f37af44a3d": {
      "model_module": "@jupyter-widgets/controls",
      "model_module_version": "1.5.0",
      "model_name": "IntSliderModel",
      "state": {
       "description": "d",
       "layout": "IPY_MODEL_ba2e52383a894f2f8a0347e59d1af642",
       "max": 10,
       "style": "IPY_MODEL_50156088270c47d4a9ef1e44a469c7b0",
       "value": 5
      }
     },
     "1819db515a6d4a3083c46b1ee3200b91": {
      "model_module": "@jupyter-widgets/controls",
      "model_module_version": "1.5.0",
      "model_name": "SliderStyleModel",
      "state": {
       "description_width": ""
      }
     },
     "1836560bd7e34558b7d61acf71ac07e9": {
      "model_module": "@jupyter-widgets/base",
      "model_module_version": "1.2.0",
      "model_name": "LayoutModel",
      "state": {}
     },
     "18b695c7912441e0b729cf51aa3a1770": {
      "model_module": "@jupyter-widgets/controls",
      "model_module_version": "1.5.0",
      "model_name": "SliderStyleModel",
      "state": {
       "description_width": ""
      }
     },
     "1914c11483324179867784de55285f74": {
      "model_module": "@jupyter-widgets/controls",
      "model_module_version": "1.5.0",
      "model_name": "VBoxModel",
      "state": {
       "_dom_classes": [
        "widget-interact"
       ],
       "children": [
        "IPY_MODEL_9bf7fc3767904f9aa059ad80268727dd",
        "IPY_MODEL_1c88dbccbed24912ad52f3a116900ecd",
        "IPY_MODEL_7c27d87a5c674494b3f1bf367894699f",
        "IPY_MODEL_57d1d16a9eea4816a775055b95e4baa5",
        "IPY_MODEL_370e49475c584673ac92448d4badd758",
        "IPY_MODEL_eb99f4b38995475ab1c801bcb4520b45"
       ],
       "layout": "IPY_MODEL_f5d13815a79b4e57a1ca5192fc1aefd3"
      }
     },
     "19bb238d3b2b4b1a8b8bf2be45014fb4": {
      "model_module": "@jupyter-widgets/controls",
      "model_module_version": "1.5.0",
      "model_name": "IntSliderModel",
      "state": {
       "description": "b",
       "layout": "IPY_MODEL_f621fe949a57428f935a0fa499d1d986",
       "max": 10,
       "style": "IPY_MODEL_502f591a74984c559923dcc9eca6efe5",
       "value": 10
      }
     },
     "19d15df77c4a4671852ff5973a545f4b": {
      "model_module": "@jupyter-widgets/controls",
      "model_module_version": "1.5.0",
      "model_name": "IntSliderModel",
      "state": {
       "description": "b",
       "layout": "IPY_MODEL_0da0ac031fe14dfe9c2299541f030f69",
       "max": 10,
       "style": "IPY_MODEL_5e4f5eb05de8405ab06b25eed3771b7b",
       "value": 5
      }
     },
     "19dd0b3383a54fe987ea91c4d01ea85b": {
      "model_module": "@jupyter-widgets/base",
      "model_module_version": "1.2.0",
      "model_name": "LayoutModel",
      "state": {}
     },
     "1a581aa698d34474b66f90a101b52b1b": {
      "model_module": "@jupyter-widgets/controls",
      "model_module_version": "1.5.0",
      "model_name": "SliderStyleModel",
      "state": {
       "description_width": ""
      }
     },
     "1b9b150d58924dbb85c012ba8da22487": {
      "model_module": "@jupyter-widgets/controls",
      "model_module_version": "1.5.0",
      "model_name": "IntSliderModel",
      "state": {
       "description": "c",
       "layout": "IPY_MODEL_331505f72c024e5d94b304a03202e422",
       "max": 10,
       "style": "IPY_MODEL_9fc115b3989b4ead9ae49081ba9cdc47",
       "value": 3
      }
     },
     "1ba43e71928a4e0191e3eb3c82e1bac2": {
      "model_module": "@jupyter-widgets/controls",
      "model_module_version": "1.5.0",
      "model_name": "IntSliderModel",
      "state": {
       "description": "c",
       "layout": "IPY_MODEL_f6ef02f4df4741e6af3720c9c84a5e59",
       "max": 10,
       "style": "IPY_MODEL_cc9af357e8b64d0384d2f8b1dd5dd106",
       "value": 10
      }
     },
     "1ba4965e33d84ca08f818e897b10430e": {
      "model_module": "@jupyter-widgets/controls",
      "model_module_version": "1.5.0",
      "model_name": "SliderStyleModel",
      "state": {
       "description_width": ""
      }
     },
     "1c62876723694daaadbe99a7da60cf0e": {
      "model_module": "@jupyter-widgets/controls",
      "model_module_version": "1.5.0",
      "model_name": "IntSliderModel",
      "state": {
       "description": "a",
       "layout": "IPY_MODEL_6969c257792b48469e6b8f601ddf58af",
       "max": 10,
       "style": "IPY_MODEL_0a30de2e40b8462d9f383f92d9de93df",
       "value": 10
      }
     },
     "1c88dbccbed24912ad52f3a116900ecd": {
      "model_module": "@jupyter-widgets/controls",
      "model_module_version": "1.5.0",
      "model_name": "IntSliderModel",
      "state": {
       "description": "b",
       "layout": "IPY_MODEL_d460277cf3ab47a999cc611fcdcdb6df",
       "max": 10,
       "style": "IPY_MODEL_7b8e93edc7ea4ea99c3ecf969658f45c",
       "value": 5
      }
     },
     "1f447246a3b64d4ba0acde5abd37c94f": {
      "model_module": "@jupyter-widgets/controls",
      "model_module_version": "1.5.0",
      "model_name": "SliderStyleModel",
      "state": {
       "description_width": ""
      }
     },
     "1f8e57ffcd7c470da13c6a5b9f8ddc73": {
      "model_module": "@jupyter-widgets/base",
      "model_module_version": "1.2.0",
      "model_name": "LayoutModel",
      "state": {}
     },
     "204271448e184a919c6e8002b0371878": {
      "model_module": "@jupyter-widgets/base",
      "model_module_version": "1.2.0",
      "model_name": "LayoutModel",
      "state": {}
     },
     "207ff65b032740a8a3d60a4e64005588": {
      "model_module": "@jupyter-widgets/controls",
      "model_module_version": "1.5.0",
      "model_name": "SliderStyleModel",
      "state": {
       "description_width": ""
      }
     },
     "2175ffa75daa4e6ca39040bdb9f6cc25": {
      "model_module": "@jupyter-widgets/controls",
      "model_module_version": "1.5.0",
      "model_name": "SliderStyleModel",
      "state": {
       "description_width": ""
      }
     },
     "22e9776c8ce34213a54cdbaec1e2d716": {
      "model_module": "@jupyter-widgets/base",
      "model_module_version": "1.2.0",
      "model_name": "LayoutModel",
      "state": {}
     },
     "23107907c8da4573b2387829175dc028": {
      "model_module": "@jupyter-widgets/controls",
      "model_module_version": "1.5.0",
      "model_name": "SliderStyleModel",
      "state": {
       "description_width": ""
      }
     },
     "2358615b0439450da70d5aceb97efa0f": {
      "model_module": "@jupyter-widgets/controls",
      "model_module_version": "1.5.0",
      "model_name": "SliderStyleModel",
      "state": {
       "description_width": ""
      }
     },
     "2386e7edf30d493197d6cc4644de6117": {
      "model_module": "@jupyter-widgets/base",
      "model_module_version": "1.2.0",
      "model_name": "LayoutModel",
      "state": {}
     },
     "238736d55e1b475891feb37e02528177": {
      "model_module": "@jupyter-widgets/output",
      "model_module_version": "1.0.0",
      "model_name": "OutputModel",
      "state": {
       "layout": "IPY_MODEL_eed73b28d8834217be82d73a16572e70"
      }
     },
     "24a6aa62bd964eb9b20b56ccd739336d": {
      "model_module": "@jupyter-widgets/controls",
      "model_module_version": "1.5.0",
      "model_name": "VBoxModel",
      "state": {
       "_dom_classes": [
        "widget-interact"
       ],
       "children": [
        "IPY_MODEL_9f9e1e683e424c2195e1d929abeecff0",
        "IPY_MODEL_502a91cafee7401bacc7df1f931ae213",
        "IPY_MODEL_f45790465d9b4726895973e5c80522aa",
        "IPY_MODEL_47e79b4f3b5345c3b0211931b52db42c",
        "IPY_MODEL_de3c4bcfdee54151aa6b5ab08f873017",
        "IPY_MODEL_fc4244839fb44370b8dc34cb2fa17321"
       ],
       "layout": "IPY_MODEL_ecf2cceff5f14585acd5369d141b2bb7"
      }
     },
     "256eaeb24ede4818be792483e1a18609": {
      "model_module": "@jupyter-widgets/controls",
      "model_module_version": "1.5.0",
      "model_name": "IntSliderModel",
      "state": {
       "description": "b",
       "layout": "IPY_MODEL_044d0324e63c44eaa358ed497c2e629a",
       "max": 10,
       "style": "IPY_MODEL_2f09e786727748d79166e2e07db7e634",
       "value": 5
      }
     },
     "26501ca37ac8443bbe4aa0290b2e0ee1": {
      "model_module": "@jupyter-widgets/controls",
      "model_module_version": "1.5.0",
      "model_name": "IntSliderModel",
      "state": {
       "description": "a",
       "layout": "IPY_MODEL_e95b3d68948e45efb5c934295d130caf",
       "max": 10,
       "style": "IPY_MODEL_0400a4eed90541b2ad60f2543c47203e",
       "value": 10
      }
     },
     "2690c52c22c34f92ba70a80adc95c7f2": {
      "model_module": "@jupyter-widgets/base",
      "model_module_version": "1.2.0",
      "model_name": "LayoutModel",
      "state": {}
     },
     "26a64d3c59e24ae9b73fed665f3a1328": {
      "model_module": "@jupyter-widgets/base",
      "model_module_version": "1.2.0",
      "model_name": "LayoutModel",
      "state": {}
     },
     "27910267ca244b1d9491de7344f3e275": {
      "model_module": "@jupyter-widgets/controls",
      "model_module_version": "1.5.0",
      "model_name": "SliderStyleModel",
      "state": {
       "description_width": ""
      }
     },
     "286223ea934a4608a70f2971c09a5618": {
      "model_module": "@jupyter-widgets/base",
      "model_module_version": "1.2.0",
      "model_name": "LayoutModel",
      "state": {}
     },
     "28747465d7f64940aec81a2b1069a28d": {
      "model_module": "@jupyter-widgets/controls",
      "model_module_version": "1.5.0",
      "model_name": "IntSliderModel",
      "state": {
       "description": "b",
       "layout": "IPY_MODEL_1836560bd7e34558b7d61acf71ac07e9",
       "max": 10,
       "style": "IPY_MODEL_4fca9ba0b9234992a66954fac92f01c9",
       "value": 5
      }
     },
     "28e0a42d421b46e4918e524a171e6165": {
      "model_module": "@jupyter-widgets/base",
      "model_module_version": "1.2.0",
      "model_name": "LayoutModel",
      "state": {}
     },
     "2a34fa66783e4b3fb1e957d31b5269b7": {
      "model_module": "@jupyter-widgets/controls",
      "model_module_version": "1.5.0",
      "model_name": "IntSliderModel",
      "state": {
       "description": "c",
       "layout": "IPY_MODEL_ba71614033f74d9f8f61ed8e69beadf6",
       "max": 10,
       "style": "IPY_MODEL_c5fb29b1c3894d46ac23e3167f315e74",
       "value": 5
      }
     },
     "2ade391722cd4af69e59f662dc780e07": {
      "model_module": "@jupyter-widgets/base",
      "model_module_version": "1.2.0",
      "model_name": "LayoutModel",
      "state": {}
     },
     "2c2273e1315643719ed45b68e2cceb49": {
      "model_module": "@jupyter-widgets/base",
      "model_module_version": "1.2.0",
      "model_name": "LayoutModel",
      "state": {}
     },
     "2d9007f493794efa84696526c2f4c7f8": {
      "model_module": "@jupyter-widgets/base",
      "model_module_version": "1.2.0",
      "model_name": "LayoutModel",
      "state": {}
     },
     "2f09e786727748d79166e2e07db7e634": {
      "model_module": "@jupyter-widgets/controls",
      "model_module_version": "1.5.0",
      "model_name": "SliderStyleModel",
      "state": {
       "description_width": ""
      }
     },
     "306e11df6ce0475ba469f914e3feebe2": {
      "model_module": "@jupyter-widgets/controls",
      "model_module_version": "1.5.0",
      "model_name": "SliderStyleModel",
      "state": {
       "description_width": ""
      }
     },
     "3082f9761e4c4e8280a7fb964a466cef": {
      "model_module": "@jupyter-widgets/base",
      "model_module_version": "1.2.0",
      "model_name": "LayoutModel",
      "state": {}
     },
     "30b71bdf7a4c4c4094069a086dfad819": {
      "model_module": "@jupyter-widgets/controls",
      "model_module_version": "1.5.0",
      "model_name": "IntSliderModel",
      "state": {
       "description": "b",
       "layout": "IPY_MODEL_8b65ee8e5d9b41a0a85f4b16b100da3f",
       "max": 10,
       "style": "IPY_MODEL_e92ebd596fb04b79b74805ef4866571e",
       "value": 9
      }
     },
     "325c7d62a59c45aea11c39d8ea7d9158": {
      "model_module": "@jupyter-widgets/base",
      "model_module_version": "1.2.0",
      "model_name": "LayoutModel",
      "state": {}
     },
     "32f4ae8c7a364e0bb114241743664272": {
      "model_module": "@jupyter-widgets/base",
      "model_module_version": "1.2.0",
      "model_name": "LayoutModel",
      "state": {}
     },
     "3300885b5be84449adcf92115ef79569": {
      "model_module": "@jupyter-widgets/base",
      "model_module_version": "1.2.0",
      "model_name": "LayoutModel",
      "state": {}
     },
     "331505f72c024e5d94b304a03202e422": {
      "model_module": "@jupyter-widgets/base",
      "model_module_version": "1.2.0",
      "model_name": "LayoutModel",
      "state": {}
     },
     "33d32a6c45b64c4ebe3bdcb613fa5eea": {
      "model_module": "@jupyter-widgets/controls",
      "model_module_version": "1.5.0",
      "model_name": "IntSliderModel",
      "state": {
       "description": "d",
       "layout": "IPY_MODEL_40e3efa60bcc446081b47d72321feee3",
       "max": 10,
       "style": "IPY_MODEL_c5797b9d32b14e30a8cace0a21256562",
       "value": 5
      }
     },
     "340f385d538b47dc82eb5b2adb95d506": {
      "model_module": "@jupyter-widgets/controls",
      "model_module_version": "1.5.0",
      "model_name": "VBoxModel",
      "state": {
       "_dom_classes": [
        "widget-interact"
       ],
       "children": [
        "IPY_MODEL_0f37c5ef06744af7a8e9fa4f254669a5",
        "IPY_MODEL_42965ddedbad465cb0533e8fab7921ea",
        "IPY_MODEL_2a34fa66783e4b3fb1e957d31b5269b7",
        "IPY_MODEL_5eb9b98995ed4b9e921d692635d3457f",
        "IPY_MODEL_f7cde1c401184cf99f22686c0d42628b",
        "IPY_MODEL_dc4c60c2738e46b79b0e1f9690e816cc"
       ],
       "layout": "IPY_MODEL_aa94936303e4406ba4ad872a5e986309"
      }
     },
     "357f356b57004ee19c4a5242f53b692e": {
      "model_module": "@jupyter-widgets/base",
      "model_module_version": "1.2.0",
      "model_name": "LayoutModel",
      "state": {}
     },
     "35ab6192944d4ece895ac1e286fe82f2": {
      "model_module": "@jupyter-widgets/controls",
      "model_module_version": "1.5.0",
      "model_name": "IntSliderModel",
      "state": {
       "description": "c",
       "layout": "IPY_MODEL_b57a94f53bd141d69a59ffd11fabc2e5",
       "max": 10,
       "style": "IPY_MODEL_6ebd5768b4084a84a2be210219910c67",
       "value": 10
      }
     },
     "35fba728859249e68bf6a25864b2d1f0": {
      "model_module": "@jupyter-widgets/base",
      "model_module_version": "1.2.0",
      "model_name": "LayoutModel",
      "state": {}
     },
     "36a193924e5445afa24aa36ac02cd7d7": {
      "model_module": "@jupyter-widgets/controls",
      "model_module_version": "1.5.0",
      "model_name": "SliderStyleModel",
      "state": {
       "description_width": ""
      }
     },
     "3705bfd0757846a38f52c65eb5a94c4d": {
      "model_module": "@jupyter-widgets/controls",
      "model_module_version": "1.5.0",
      "model_name": "SliderStyleModel",
      "state": {
       "description_width": ""
      }
     },
     "370e49475c584673ac92448d4badd758": {
      "model_module": "@jupyter-widgets/controls",
      "model_module_version": "1.5.0",
      "model_name": "IntSliderModel",
      "state": {
       "description": "e",
       "layout": "IPY_MODEL_5480ea6de0b44d77a956d562b9ca997f",
       "max": 10,
       "style": "IPY_MODEL_516848ace3144d41a252a8cbe8a07df5",
       "value": 5
      }
     },
     "3972ffbc24c841de8030d755e17810d7": {
      "model_module": "@jupyter-widgets/base",
      "model_module_version": "1.2.0",
      "model_name": "LayoutModel",
      "state": {}
     },
     "39ccb4e2dca44e7ca4710bba3f4af320": {
      "model_module": "@jupyter-widgets/controls",
      "model_module_version": "1.5.0",
      "model_name": "VBoxModel",
      "state": {
       "_dom_classes": [
        "widget-interact"
       ],
       "children": [
        "IPY_MODEL_8b44137bbd2f49a68983c7180fc3c51f",
        "IPY_MODEL_e044b93771bf45d38cf786b48d04911f",
        "IPY_MODEL_bb9f25297916446b924246e3c3f14cb3",
        "IPY_MODEL_e93db230c2284fdfb6d037a357918445",
        "IPY_MODEL_3c42a9be1d164fe283deeaa254060be1",
        "IPY_MODEL_4035ade2a4fd45ceb0e791d520483b8c"
       ],
       "layout": "IPY_MODEL_5ddb7264afa84eec9b7a205bba6f2db8"
      }
     },
     "3a8248200c3e4dc8b3e3721842480fcf": {
      "model_module": "@jupyter-widgets/base",
      "model_module_version": "1.2.0",
      "model_name": "LayoutModel",
      "state": {}
     },
     "3aec69420a8c432f8ade1d8df5e3ffcc": {
      "model_module": "@jupyter-widgets/base",
      "model_module_version": "1.2.0",
      "model_name": "LayoutModel",
      "state": {}
     },
     "3b565266bfab4ea1ab36e22804805ef2": {
      "model_module": "@jupyter-widgets/base",
      "model_module_version": "1.2.0",
      "model_name": "LayoutModel",
      "state": {}
     },
     "3c42a9be1d164fe283deeaa254060be1": {
      "model_module": "@jupyter-widgets/controls",
      "model_module_version": "1.5.0",
      "model_name": "IntSliderModel",
      "state": {
       "description": "e",
       "layout": "IPY_MODEL_3b565266bfab4ea1ab36e22804805ef2",
       "max": 10,
       "style": "IPY_MODEL_0338022c985d46d4a83cf67c7f667c88",
       "value": 10
      }
     },
     "3c99cedebc6845d5802e701dfa352018": {
      "model_module": "@jupyter-widgets/controls",
      "model_module_version": "1.5.0",
      "model_name": "SliderStyleModel",
      "state": {
       "description_width": ""
      }
     },
     "3d0d7f0acb7a4025945447845bf88c59": {
      "model_module": "@jupyter-widgets/base",
      "model_module_version": "1.2.0",
      "model_name": "LayoutModel",
      "state": {}
     },
     "3d1abae9b2cc453d8647e5a6f47277f1": {
      "model_module": "@jupyter-widgets/controls",
      "model_module_version": "1.5.0",
      "model_name": "SliderStyleModel",
      "state": {
       "description_width": ""
      }
     },
     "3decdffb05404c07afc72b2620a4720a": {
      "model_module": "@jupyter-widgets/controls",
      "model_module_version": "1.5.0",
      "model_name": "IntSliderModel",
      "state": {
       "description": "c",
       "layout": "IPY_MODEL_fc9ba38e1d5c46cf8183a0d1e8df7b40",
       "max": 10,
       "style": "IPY_MODEL_92f022219dd94526bfe1e222afaae2a7",
       "value": 5
      }
     },
     "3e76a8a06a56416db5187596943f4fdf": {
      "model_module": "@jupyter-widgets/controls",
      "model_module_version": "1.5.0",
      "model_name": "IntSliderModel",
      "state": {
       "description": "d",
       "layout": "IPY_MODEL_ecd4e1104d374d9bab5fe7b176cacd8c",
       "max": 10,
       "style": "IPY_MODEL_a137917c964740b795e6688a0a99a61f",
       "value": 5
      }
     },
     "4035ade2a4fd45ceb0e791d520483b8c": {
      "model_module": "@jupyter-widgets/output",
      "model_module_version": "1.0.0",
      "model_name": "OutputModel",
      "state": {
       "layout": "IPY_MODEL_fc8b8e367d7240b99672af2a620060c1",
       "outputs": [
        {
         "name": "stdout",
         "output_type": "stream",
         "text": "{'technology': ['PEME', 'Alkaline', 'SMR', 'ATR'], 'Electricity': [10, 1, 4, 3], 'Gas': [10, 3, 4, 2], 'Other OpEx': [10, 2, 4, 4], 'CapEx': [10, 2, 4, 4], 'Finance': [10, 2, 4, 4]}\n"
        }
       ]
      }
     },
     "40e3efa60bcc446081b47d72321feee3": {
      "model_module": "@jupyter-widgets/base",
      "model_module_version": "1.2.0",
      "model_name": "LayoutModel",
      "state": {}
     },
     "40f8503d215f4e5db0fa13735e70171c": {
      "model_module": "@jupyter-widgets/controls",
      "model_module_version": "1.5.0",
      "model_name": "IntSliderModel",
      "state": {
       "description": "e",
       "layout": "IPY_MODEL_669c36ab3848465691ede024377d312c",
       "max": 10,
       "style": "IPY_MODEL_176b016373b249608596f47c4b32f923",
       "value": 5
      }
     },
     "42965ddedbad465cb0533e8fab7921ea": {
      "model_module": "@jupyter-widgets/controls",
      "model_module_version": "1.5.0",
      "model_name": "IntSliderModel",
      "state": {
       "description": "b",
       "layout": "IPY_MODEL_b83679c5237f4f5485f0d409bc1cbe9e",
       "max": 10,
       "style": "IPY_MODEL_1113d50895744288a45ae146c78b5506",
       "value": 5
      }
     },
     "42dd304a95fb439dbe176c2678e9be67": {
      "model_module": "@jupyter-widgets/controls",
      "model_module_version": "1.5.0",
      "model_name": "SliderStyleModel",
      "state": {
       "description_width": ""
      }
     },
     "42fd181dfb7e4fb4b321e1f9fd00f2ea": {
      "model_module": "@jupyter-widgets/base",
      "model_module_version": "1.2.0",
      "model_name": "LayoutModel",
      "state": {}
     },
     "434fd5718d9d4fab9813f779d399c974": {
      "model_module": "@jupyter-widgets/base",
      "model_module_version": "1.2.0",
      "model_name": "LayoutModel",
      "state": {}
     },
     "439d4a3fd20f4fa4a6e8cae92a656940": {
      "model_module": "@jupyter-widgets/controls",
      "model_module_version": "1.5.0",
      "model_name": "IntSliderModel",
      "state": {
       "description": "d",
       "layout": "IPY_MODEL_642f565d194646adb7c78f6f004e2d5d",
       "max": 10,
       "style": "IPY_MODEL_2358615b0439450da70d5aceb97efa0f"
      }
     },
     "43da09f0e2104a06b2dbf8a051b06bad": {
      "model_module": "@jupyter-widgets/base",
      "model_module_version": "1.2.0",
      "model_name": "LayoutModel",
      "state": {}
     },
     "44b9d5702ff74a9ab1327b49a242aaa7": {
      "model_module": "@jupyter-widgets/controls",
      "model_module_version": "1.5.0",
      "model_name": "SliderStyleModel",
      "state": {
       "description_width": ""
      }
     },
     "45480d9a002f421fa48f133ed32e0492": {
      "model_module": "@jupyter-widgets/controls",
      "model_module_version": "1.5.0",
      "model_name": "SliderStyleModel",
      "state": {
       "description_width": ""
      }
     },
     "45ba200e686c49d4a74a1a9987e7d7dd": {
      "model_module": "@jupyter-widgets/controls",
      "model_module_version": "1.5.0",
      "model_name": "SliderStyleModel",
      "state": {
       "description_width": ""
      }
     },
     "45de33d6e3364e118f6eb6a289e9998b": {
      "model_module": "@jupyter-widgets/base",
      "model_module_version": "1.2.0",
      "model_name": "LayoutModel",
      "state": {}
     },
     "45df3d29a61b4ddba3d43c6e1cbb83e0": {
      "model_module": "@jupyter-widgets/base",
      "model_module_version": "1.2.0",
      "model_name": "LayoutModel",
      "state": {}
     },
     "4610cf24a3da49a9ba386d9eb651b9e7": {
      "model_module": "@jupyter-widgets/controls",
      "model_module_version": "1.5.0",
      "model_name": "IntSliderModel",
      "state": {
       "description": "a",
       "layout": "IPY_MODEL_5a322d6a90514aae86eed19256aa4d51",
       "max": 10,
       "style": "IPY_MODEL_4861560df28c47739245ee08f422b5da",
       "value": 5
      }
     },
     "46b32276cb1e42b0903be0da8dd5daa8": {
      "model_module": "@jupyter-widgets/controls",
      "model_module_version": "1.5.0",
      "model_name": "SliderStyleModel",
      "state": {
       "description_width": ""
      }
     },
     "47140a3b4407435fa8ce85ebb011f6b8": {
      "model_module": "@jupyter-widgets/base",
      "model_module_version": "1.2.0",
      "model_name": "LayoutModel",
      "state": {}
     },
     "476094af7fb343ea9b8aa5eb9957bf98": {
      "model_module": "@jupyter-widgets/controls",
      "model_module_version": "1.5.0",
      "model_name": "SliderStyleModel",
      "state": {
       "description_width": ""
      }
     },
     "47e79b4f3b5345c3b0211931b52db42c": {
      "model_module": "@jupyter-widgets/controls",
      "model_module_version": "1.5.0",
      "model_name": "IntSliderModel",
      "state": {
       "description": "d",
       "layout": "IPY_MODEL_b3ec71ea1539474fbc1939f66680b301",
       "max": 10,
       "style": "IPY_MODEL_e08f1fa1c00843428b200153a7121ffe",
       "value": 5
      }
     },
     "48302091572c4c598e8d4acd1d519a73": {
      "model_module": "@jupyter-widgets/base",
      "model_module_version": "1.2.0",
      "model_name": "LayoutModel",
      "state": {}
     },
     "4861560df28c47739245ee08f422b5da": {
      "model_module": "@jupyter-widgets/controls",
      "model_module_version": "1.5.0",
      "model_name": "SliderStyleModel",
      "state": {
       "description_width": ""
      }
     },
     "4943601c38224a0a8e7c22f8d1c4a558": {
      "model_module": "@jupyter-widgets/base",
      "model_module_version": "1.2.0",
      "model_name": "LayoutModel",
      "state": {}
     },
     "4a22f8c1d72a4746b676a101412cc209": {
      "model_module": "@jupyter-widgets/output",
      "model_module_version": "1.0.0",
      "model_name": "OutputModel",
      "state": {
       "layout": "IPY_MODEL_6e1086a04d8f4a65b63b88df2ed29183",
       "outputs": [
        {
         "ename": "AttributeError",
         "evalue": "'list' object has no attribute 'data_source'",
         "output_type": "error",
         "traceback": [
          "\u001b[1;31m---------------------------------------------------------------------------\u001b[0m",
          "\u001b[1;31mAttributeError\u001b[0m                            Traceback (most recent call last)",
          "\u001b[1;32mC:\\tools\\Anaconda3\\lib\\site-packages\\ipywidgets\\widgets\\interaction.py\u001b[0m in \u001b[0;36mupdate\u001b[1;34m(self, *args)\u001b[0m\n\u001b[0;32m    254\u001b[0m                     \u001b[0mvalue\u001b[0m \u001b[1;33m=\u001b[0m \u001b[0mwidget\u001b[0m\u001b[1;33m.\u001b[0m\u001b[0mget_interact_value\u001b[0m\u001b[1;33m(\u001b[0m\u001b[1;33m)\u001b[0m\u001b[1;33m\u001b[0m\u001b[1;33m\u001b[0m\u001b[0m\n\u001b[0;32m    255\u001b[0m                     \u001b[0mself\u001b[0m\u001b[1;33m.\u001b[0m\u001b[0mkwargs\u001b[0m\u001b[1;33m[\u001b[0m\u001b[0mwidget\u001b[0m\u001b[1;33m.\u001b[0m\u001b[0m_kwarg\u001b[0m\u001b[1;33m]\u001b[0m \u001b[1;33m=\u001b[0m \u001b[0mvalue\u001b[0m\u001b[1;33m\u001b[0m\u001b[1;33m\u001b[0m\u001b[0m\n\u001b[1;32m--> 256\u001b[1;33m                 \u001b[0mself\u001b[0m\u001b[1;33m.\u001b[0m\u001b[0mresult\u001b[0m \u001b[1;33m=\u001b[0m \u001b[0mself\u001b[0m\u001b[1;33m.\u001b[0m\u001b[0mf\u001b[0m\u001b[1;33m(\u001b[0m\u001b[1;33m**\u001b[0m\u001b[0mself\u001b[0m\u001b[1;33m.\u001b[0m\u001b[0mkwargs\u001b[0m\u001b[1;33m)\u001b[0m\u001b[1;33m\u001b[0m\u001b[1;33m\u001b[0m\u001b[0m\n\u001b[0m\u001b[0;32m    257\u001b[0m                 \u001b[0mshow_inline_matplotlib_plots\u001b[0m\u001b[1;33m(\u001b[0m\u001b[1;33m)\u001b[0m\u001b[1;33m\u001b[0m\u001b[1;33m\u001b[0m\u001b[0m\n\u001b[0;32m    258\u001b[0m                 \u001b[1;32mif\u001b[0m \u001b[0mself\u001b[0m\u001b[1;33m.\u001b[0m\u001b[0mauto_display\u001b[0m \u001b[1;32mand\u001b[0m \u001b[0mself\u001b[0m\u001b[1;33m.\u001b[0m\u001b[0mresult\u001b[0m \u001b[1;32mis\u001b[0m \u001b[1;32mnot\u001b[0m \u001b[1;32mNone\u001b[0m\u001b[1;33m:\u001b[0m\u001b[1;33m\u001b[0m\u001b[1;33m\u001b[0m\u001b[0m\n",
          "\u001b[1;32m<ipython-input-79-8936f9cb2239>\u001b[0m in \u001b[0;36mupdate\u001b[1;34m(a, b, c, d, e)\u001b[0m\n\u001b[0;32m      8\u001b[0m        }\n\u001b[0;32m      9\u001b[0m     \u001b[0mdata2\u001b[0m \u001b[1;33m=\u001b[0m \u001b[1;33m{\u001b[0m\u001b[1;34m'Electricity'\u001b[0m   \u001b[1;33m:\u001b[0m \u001b[1;33m[\u001b[0m\u001b[0ma\u001b[0m\u001b[1;33m,\u001b[0m \u001b[1;36m1\u001b[0m\u001b[1;33m,\u001b[0m \u001b[1;36m4\u001b[0m\u001b[1;33m,\u001b[0m \u001b[1;36m3\u001b[0m\u001b[1;33m]\u001b[0m\u001b[1;33m}\u001b[0m\u001b[1;33m\u001b[0m\u001b[1;33m\u001b[0m\u001b[0m\n\u001b[1;32m---> 10\u001b[1;33m     \u001b[0mvbarplot\u001b[0m\u001b[1;33m.\u001b[0m\u001b[0mdata_source\u001b[0m\u001b[1;33m.\u001b[0m\u001b[0mdata\u001b[0m\u001b[1;33m=\u001b[0m\u001b[0mdata\u001b[0m\u001b[1;33m\u001b[0m\u001b[1;33m\u001b[0m\u001b[0m\n\u001b[0m\u001b[0;32m     11\u001b[0m     \u001b[0mpush_notebook\u001b[0m\u001b[1;33m(\u001b[0m\u001b[0mhandle\u001b[0m\u001b[1;33m=\u001b[0m\u001b[0mt\u001b[0m\u001b[1;33m)\u001b[0m\u001b[1;33m\u001b[0m\u001b[1;33m\u001b[0m\u001b[0m\n",
          "\u001b[1;31mAttributeError\u001b[0m: 'list' object has no attribute 'data_source'"
         ]
        }
       ]
      }
     },
     "4bede06a148b442991b09c3b849ad441": {
      "model_module": "@jupyter-widgets/base",
      "model_module_version": "1.2.0",
      "model_name": "LayoutModel",
      "state": {}
     },
     "4c4cef49724d4ec1a4dab909796d5f11": {
      "model_module": "@jupyter-widgets/base",
      "model_module_version": "1.2.0",
      "model_name": "LayoutModel",
      "state": {}
     },
     "4caaf3cd08154a3e8b45b414b5646445": {
      "model_module": "@jupyter-widgets/controls",
      "model_module_version": "1.5.0",
      "model_name": "SliderStyleModel",
      "state": {
       "description_width": ""
      }
     },
     "4cbe9c6e7d7c478fa072052fc09c6f1b": {
      "model_module": "@jupyter-widgets/controls",
      "model_module_version": "1.5.0",
      "model_name": "IntSliderModel",
      "state": {
       "description": "c",
       "layout": "IPY_MODEL_5b3237213d864f6284c7aff263caa640",
       "max": 10,
       "style": "IPY_MODEL_eead2923011f420f8d4e501009058d50",
       "value": 5
      }
     },
     "4ccad38c21bb42569a7fba5695a14059": {
      "model_module": "@jupyter-widgets/controls",
      "model_module_version": "1.5.0",
      "model_name": "IntSliderModel",
      "state": {
       "description": "b",
       "layout": "IPY_MODEL_b9d768682b7e4006886779cbea4a622e",
       "max": 10,
       "style": "IPY_MODEL_00a846e5c58c424da26aa6dd33bd3295",
       "value": 5
      }
     },
     "4ccee91779db4134bbeed37a63453e60": {
      "model_module": "@jupyter-widgets/controls",
      "model_module_version": "1.5.0",
      "model_name": "IntSliderModel",
      "state": {
       "description": "d",
       "layout": "IPY_MODEL_802333613e9e40699633b31b0ec758dd",
       "max": 10,
       "style": "IPY_MODEL_4caaf3cd08154a3e8b45b414b5646445",
       "value": 5
      }
     },
     "4d3d15a852744fa5b55cef704a7c680a": {
      "model_module": "@jupyter-widgets/controls",
      "model_module_version": "1.5.0",
      "model_name": "SliderStyleModel",
      "state": {
       "description_width": ""
      }
     },
     "4dbd4aba7b524b61a8f565fcdb072f04": {
      "model_module": "@jupyter-widgets/controls",
      "model_module_version": "1.5.0",
      "model_name": "SliderStyleModel",
      "state": {
       "description_width": ""
      }
     },
     "4e8cca75c1f34791acdbf8dc2aae6d91": {
      "model_module": "@jupyter-widgets/base",
      "model_module_version": "1.2.0",
      "model_name": "LayoutModel",
      "state": {}
     },
     "4ee5d4378f5d4ccb969ffaaf0e19dc34": {
      "model_module": "@jupyter-widgets/output",
      "model_module_version": "1.0.0",
      "model_name": "OutputModel",
      "state": {
       "layout": "IPY_MODEL_0a3293d76a8c4154b0ed47bac5caa3a5",
       "outputs": [
        {
         "name": "stdout",
         "output_type": "stream",
         "text": "5\n"
        }
       ]
      }
     },
     "4fca9ba0b9234992a66954fac92f01c9": {
      "model_module": "@jupyter-widgets/controls",
      "model_module_version": "1.5.0",
      "model_name": "SliderStyleModel",
      "state": {
       "description_width": ""
      }
     },
     "50156088270c47d4a9ef1e44a469c7b0": {
      "model_module": "@jupyter-widgets/controls",
      "model_module_version": "1.5.0",
      "model_name": "SliderStyleModel",
      "state": {
       "description_width": ""
      }
     },
     "5025c81fbac14e39a4a4cea452eb6bc1": {
      "model_module": "@jupyter-widgets/controls",
      "model_module_version": "1.5.0",
      "model_name": "IntSliderModel",
      "state": {
       "description": "d",
       "layout": "IPY_MODEL_35fba728859249e68bf6a25864b2d1f0",
       "max": 10,
       "style": "IPY_MODEL_1ba4965e33d84ca08f818e897b10430e",
       "value": 5
      }
     },
     "502a91cafee7401bacc7df1f931ae213": {
      "model_module": "@jupyter-widgets/controls",
      "model_module_version": "1.5.0",
      "model_name": "IntSliderModel",
      "state": {
       "description": "b",
       "layout": "IPY_MODEL_fa9f5668e57a4dc9bd4b0703cd5d802e",
       "max": 10,
       "style": "IPY_MODEL_52870a959a2b4b6db3170a4096763085",
       "value": 5
      }
     },
     "502f591a74984c559923dcc9eca6efe5": {
      "model_module": "@jupyter-widgets/controls",
      "model_module_version": "1.5.0",
      "model_name": "SliderStyleModel",
      "state": {
       "description_width": ""
      }
     },
     "508380ae234545f9a10834d8ccad3994": {
      "model_module": "@jupyter-widgets/controls",
      "model_module_version": "1.5.0",
      "model_name": "VBoxModel",
      "state": {
       "_dom_classes": [
        "widget-interact"
       ],
       "children": [
        "IPY_MODEL_26501ca37ac8443bbe4aa0290b2e0ee1",
        "IPY_MODEL_30b71bdf7a4c4c4094069a086dfad819",
        "IPY_MODEL_d24c9f90a99b4bc687529a522d38370e",
        "IPY_MODEL_4ccee91779db4134bbeed37a63453e60",
        "IPY_MODEL_9770a0fbd43b4c4ab3343d6bc45b3428",
        "IPY_MODEL_dc91a13a8c974739b8031d064eea67b4"
       ],
       "layout": "IPY_MODEL_ec5229527b03466db70d3c750ee24b75"
      }
     },
     "513ee22d8b254cc3960573a8e7bda116": {
      "model_module": "@jupyter-widgets/controls",
      "model_module_version": "1.5.0",
      "model_name": "IntSliderModel",
      "state": {
       "description": "e",
       "layout": "IPY_MODEL_8984a5b398b44024b989f4d107011ba5",
       "max": 10,
       "style": "IPY_MODEL_8551d4ab0165490e97241cd870bcc3dd",
       "value": 4
      }
     },
     "514fa8a0eee54361b718ed5144114ee8": {
      "model_module": "@jupyter-widgets/base",
      "model_module_version": "1.2.0",
      "model_name": "LayoutModel",
      "state": {}
     },
     "516848ace3144d41a252a8cbe8a07df5": {
      "model_module": "@jupyter-widgets/controls",
      "model_module_version": "1.5.0",
      "model_name": "SliderStyleModel",
      "state": {
       "description_width": ""
      }
     },
     "5192c76a0c6a4b19a3aec0e132e0d497": {
      "model_module": "@jupyter-widgets/controls",
      "model_module_version": "1.5.0",
      "model_name": "SliderStyleModel",
      "state": {
       "description_width": ""
      }
     },
     "51c76602a3174542ba1edc2eb7918ce9": {
      "model_module": "@jupyter-widgets/base",
      "model_module_version": "1.2.0",
      "model_name": "LayoutModel",
      "state": {}
     },
     "520a11f058864a258ed6aad31d775531": {
      "model_module": "@jupyter-widgets/controls",
      "model_module_version": "1.5.0",
      "model_name": "IntSliderModel",
      "state": {
       "description": "a",
       "layout": "IPY_MODEL_7a90bddd955c447786255829e17be427",
       "max": 10,
       "style": "IPY_MODEL_f2569a6ad78e4efd9b56b9bff86db8a5",
       "value": 10
      }
     },
     "52870a959a2b4b6db3170a4096763085": {
      "model_module": "@jupyter-widgets/controls",
      "model_module_version": "1.5.0",
      "model_name": "SliderStyleModel",
      "state": {
       "description_width": ""
      }
     },
     "53bb9f6446154b9195ffaee4f35360b3": {
      "model_module": "@jupyter-widgets/base",
      "model_module_version": "1.2.0",
      "model_name": "LayoutModel",
      "state": {}
     },
     "540b72b3554342e6802f6f314a0d8a7a": {
      "model_module": "@jupyter-widgets/controls",
      "model_module_version": "1.5.0",
      "model_name": "SliderStyleModel",
      "state": {
       "description_width": ""
      }
     },
     "5480ea6de0b44d77a956d562b9ca997f": {
      "model_module": "@jupyter-widgets/base",
      "model_module_version": "1.2.0",
      "model_name": "LayoutModel",
      "state": {}
     },
     "54a67e024a7a474d826f7a8c03ed9cc2": {
      "model_module": "@jupyter-widgets/base",
      "model_module_version": "1.2.0",
      "model_name": "LayoutModel",
      "state": {}
     },
     "5582d4af93274dfebdbf930136485ff6": {
      "model_module": "@jupyter-widgets/base",
      "model_module_version": "1.2.0",
      "model_name": "LayoutModel",
      "state": {}
     },
     "559138ddfebf499d9e8d05d27690bff3": {
      "model_module": "@jupyter-widgets/controls",
      "model_module_version": "1.5.0",
      "model_name": "IntSliderModel",
      "state": {
       "description": "b",
       "layout": "IPY_MODEL_45de33d6e3364e118f6eb6a289e9998b",
       "max": 10,
       "style": "IPY_MODEL_44b9d5702ff74a9ab1327b49a242aaa7"
      }
     },
     "5604683bb78e4c8a8de9b3da3b08ef21": {
      "model_module": "@jupyter-widgets/controls",
      "model_module_version": "1.5.0",
      "model_name": "SliderStyleModel",
      "state": {
       "description_width": ""
      }
     },
     "562b3707eb0840beb2d55779597d8af3": {
      "model_module": "@jupyter-widgets/controls",
      "model_module_version": "1.5.0",
      "model_name": "SliderStyleModel",
      "state": {
       "description_width": ""
      }
     },
     "562d510e8691410c8d691be6d090bd2e": {
      "model_module": "@jupyter-widgets/controls",
      "model_module_version": "1.5.0",
      "model_name": "IntSliderModel",
      "state": {
       "description": "e",
       "layout": "IPY_MODEL_514fa8a0eee54361b718ed5144114ee8",
       "max": 10,
       "style": "IPY_MODEL_fd16d224eb6d4449bc175db2027e9a60",
       "value": 5
      }
     },
     "5646e6ab57544c6db1dd24fe818a7d78": {
      "model_module": "@jupyter-widgets/controls",
      "model_module_version": "1.5.0",
      "model_name": "IntSliderModel",
      "state": {
       "description": "b",
       "layout": "IPY_MODEL_aba5ac4e728d4bf4acec5b1934fcaa55",
       "max": 10,
       "style": "IPY_MODEL_36a193924e5445afa24aa36ac02cd7d7",
       "value": 9
      }
     },
     "57d1d16a9eea4816a775055b95e4baa5": {
      "model_module": "@jupyter-widgets/controls",
      "model_module_version": "1.5.0",
      "model_name": "IntSliderModel",
      "state": {
       "description": "d",
       "layout": "IPY_MODEL_3a8248200c3e4dc8b3e3721842480fcf",
       "max": 10,
       "style": "IPY_MODEL_23107907c8da4573b2387829175dc028",
       "value": 5
      }
     },
     "57ff85d8938b44128bd9fd23a4027731": {
      "model_module": "@jupyter-widgets/base",
      "model_module_version": "1.2.0",
      "model_name": "LayoutModel",
      "state": {}
     },
     "586a792da5c1490580d4a6b93cfdf774": {
      "model_module": "@jupyter-widgets/base",
      "model_module_version": "1.2.0",
      "model_name": "LayoutModel",
      "state": {}
     },
     "592c89c646924568bd37f2694e5ac3fa": {
      "model_module": "@jupyter-widgets/output",
      "model_module_version": "1.0.0",
      "model_name": "OutputModel",
      "state": {
       "layout": "IPY_MODEL_c9081fcc4bb24622ad3b74475fb1276e",
       "outputs": [
        {
         "ename": "ValueError",
         "evalue": "expected an element of ColumnData(String, Seq(Any)), got {'technology': ['PEME', 'Alkaline', 'SMR', 'ATR'], 'Electricity': [2, 1, 4, 3], 'Gas': [5, 3, 4, 2], 'Other OpEx': [3, 2, 4, 4], 'CapEx': [3, 2, 4, 4], 'Finance': [3, 2, 4, 4], 'costs': {'Electricity': [5, 1, 4, 3]}}",
         "output_type": "error",
         "traceback": [
          "\u001b[1;31m---------------------------------------------------------------------------\u001b[0m",
          "\u001b[1;31mValueError\u001b[0m                                Traceback (most recent call last)",
          "\u001b[1;32mC:\\tools\\Anaconda3\\lib\\site-packages\\ipywidgets\\widgets\\interaction.py\u001b[0m in \u001b[0;36mupdate\u001b[1;34m(self, *args)\u001b[0m\n\u001b[0;32m    254\u001b[0m                     \u001b[0mvalue\u001b[0m \u001b[1;33m=\u001b[0m \u001b[0mwidget\u001b[0m\u001b[1;33m.\u001b[0m\u001b[0mget_interact_value\u001b[0m\u001b[1;33m(\u001b[0m\u001b[1;33m)\u001b[0m\u001b[1;33m\u001b[0m\u001b[1;33m\u001b[0m\u001b[0m\n\u001b[0;32m    255\u001b[0m                     \u001b[0mself\u001b[0m\u001b[1;33m.\u001b[0m\u001b[0mkwargs\u001b[0m\u001b[1;33m[\u001b[0m\u001b[0mwidget\u001b[0m\u001b[1;33m.\u001b[0m\u001b[0m_kwarg\u001b[0m\u001b[1;33m]\u001b[0m \u001b[1;33m=\u001b[0m \u001b[0mvalue\u001b[0m\u001b[1;33m\u001b[0m\u001b[1;33m\u001b[0m\u001b[0m\n\u001b[1;32m--> 256\u001b[1;33m                 \u001b[0mself\u001b[0m\u001b[1;33m.\u001b[0m\u001b[0mresult\u001b[0m \u001b[1;33m=\u001b[0m \u001b[0mself\u001b[0m\u001b[1;33m.\u001b[0m\u001b[0mf\u001b[0m\u001b[1;33m(\u001b[0m\u001b[1;33m**\u001b[0m\u001b[0mself\u001b[0m\u001b[1;33m.\u001b[0m\u001b[0mkwargs\u001b[0m\u001b[1;33m)\u001b[0m\u001b[1;33m\u001b[0m\u001b[1;33m\u001b[0m\u001b[0m\n\u001b[0m\u001b[0;32m    257\u001b[0m                 \u001b[0mshow_inline_matplotlib_plots\u001b[0m\u001b[1;33m(\u001b[0m\u001b[1;33m)\u001b[0m\u001b[1;33m\u001b[0m\u001b[1;33m\u001b[0m\u001b[0m\n\u001b[0;32m    258\u001b[0m                 \u001b[1;32mif\u001b[0m \u001b[0mself\u001b[0m\u001b[1;33m.\u001b[0m\u001b[0mauto_display\u001b[0m \u001b[1;32mand\u001b[0m \u001b[0mself\u001b[0m\u001b[1;33m.\u001b[0m\u001b[0mresult\u001b[0m \u001b[1;32mis\u001b[0m \u001b[1;32mnot\u001b[0m \u001b[1;32mNone\u001b[0m\u001b[1;33m:\u001b[0m\u001b[1;33m\u001b[0m\u001b[1;33m\u001b[0m\u001b[0m\n",
          "\u001b[1;32m<ipython-input-74-5fdfde1d0555>\u001b[0m in \u001b[0;36mupdate\u001b[1;34m(a, b, c, d, e)\u001b[0m\n\u001b[0;32m      8\u001b[0m        }\n\u001b[0;32m      9\u001b[0m     \u001b[0mdata2\u001b[0m \u001b[1;33m=\u001b[0m \u001b[1;33m{\u001b[0m\u001b[1;34m'Electricity'\u001b[0m   \u001b[1;33m:\u001b[0m \u001b[1;33m[\u001b[0m\u001b[0ma\u001b[0m\u001b[1;33m,\u001b[0m \u001b[1;36m1\u001b[0m\u001b[1;33m,\u001b[0m \u001b[1;36m4\u001b[0m\u001b[1;33m,\u001b[0m \u001b[1;36m3\u001b[0m\u001b[1;33m]\u001b[0m\u001b[1;33m}\u001b[0m\u001b[1;33m\u001b[0m\u001b[1;33m\u001b[0m\u001b[0m\n\u001b[1;32m---> 10\u001b[1;33m     \u001b[0mvbarplot\u001b[0m\u001b[1;33m[\u001b[0m\u001b[1;36m0\u001b[0m\u001b[1;33m]\u001b[0m\u001b[1;33m.\u001b[0m\u001b[0mdata_source\u001b[0m\u001b[1;33m.\u001b[0m\u001b[0mdata\u001b[0m\u001b[1;33m[\u001b[0m\u001b[1;34m'costs'\u001b[0m\u001b[1;33m]\u001b[0m\u001b[1;33m=\u001b[0m\u001b[0mdata2\u001b[0m\u001b[1;33m\u001b[0m\u001b[1;33m\u001b[0m\u001b[0m\n\u001b[0m\u001b[0;32m     11\u001b[0m     \u001b[0mpush_notebook\u001b[0m\u001b[1;33m(\u001b[0m\u001b[0mhandle\u001b[0m\u001b[1;33m=\u001b[0m\u001b[0mt\u001b[0m\u001b[1;33m)\u001b[0m\u001b[1;33m\u001b[0m\u001b[1;33m\u001b[0m\u001b[0m\n",
          "\u001b[1;32mC:\\tools\\Anaconda3\\lib\\site-packages\\bokeh\\core\\property\\wrappers.py\u001b[0m in \u001b[0;36m__setitem__\u001b[1;34m(self, i, y)\u001b[0m\n\u001b[0;32m    358\u001b[0m     \u001b[1;31m# don't wrap with notify_owner --- notifies owners explicitly\u001b[0m\u001b[1;33m\u001b[0m\u001b[1;33m\u001b[0m\u001b[1;33m\u001b[0m\u001b[0m\n\u001b[0;32m    359\u001b[0m     \u001b[1;32mdef\u001b[0m \u001b[0m__setitem__\u001b[0m\u001b[1;33m(\u001b[0m\u001b[0mself\u001b[0m\u001b[1;33m,\u001b[0m \u001b[0mi\u001b[0m\u001b[1;33m,\u001b[0m \u001b[0my\u001b[0m\u001b[1;33m)\u001b[0m\u001b[1;33m:\u001b[0m\u001b[1;33m\u001b[0m\u001b[1;33m\u001b[0m\u001b[0m\n\u001b[1;32m--> 360\u001b[1;33m         \u001b[1;32mreturn\u001b[0m \u001b[0mself\u001b[0m\u001b[1;33m.\u001b[0m\u001b[0mupdate\u001b[0m\u001b[1;33m(\u001b[0m\u001b[1;33m[\u001b[0m\u001b[1;33m(\u001b[0m\u001b[0mi\u001b[0m\u001b[1;33m,\u001b[0m \u001b[0my\u001b[0m\u001b[1;33m)\u001b[0m\u001b[1;33m]\u001b[0m\u001b[1;33m)\u001b[0m\u001b[1;33m\u001b[0m\u001b[1;33m\u001b[0m\u001b[0m\n\u001b[0m\u001b[0;32m    361\u001b[0m \u001b[1;33m\u001b[0m\u001b[0m\n\u001b[0;32m    362\u001b[0m     \u001b[1;32mdef\u001b[0m \u001b[0m__copy__\u001b[0m\u001b[1;33m(\u001b[0m\u001b[0mself\u001b[0m\u001b[1;33m)\u001b[0m\u001b[1;33m:\u001b[0m\u001b[1;33m\u001b[0m\u001b[1;33m\u001b[0m\u001b[0m\n",
          "\u001b[1;32mC:\\tools\\Anaconda3\\lib\\site-packages\\bokeh\\core\\property\\wrappers.py\u001b[0m in \u001b[0;36mupdate\u001b[1;34m(self, *args, **kwargs)\u001b[0m\n\u001b[0;32m    391\u001b[0m         \u001b[1;32mfor\u001b[0m \u001b[1;33m(\u001b[0m\u001b[0mowner\u001b[0m\u001b[1;33m,\u001b[0m \u001b[0mdescriptor\u001b[0m\u001b[1;33m)\u001b[0m \u001b[1;32min\u001b[0m \u001b[0mself\u001b[0m\u001b[1;33m.\u001b[0m\u001b[0m_owners\u001b[0m\u001b[1;33m:\u001b[0m\u001b[1;33m\u001b[0m\u001b[1;33m\u001b[0m\u001b[0m\n\u001b[0;32m    392\u001b[0m             \u001b[0mhint\u001b[0m \u001b[1;33m=\u001b[0m \u001b[0mColumnDataChangedEvent\u001b[0m\u001b[1;33m(\u001b[0m\u001b[0mowner\u001b[0m\u001b[1;33m.\u001b[0m\u001b[0mdocument\u001b[0m\u001b[1;33m,\u001b[0m \u001b[0mowner\u001b[0m\u001b[1;33m,\u001b[0m \u001b[0mcols\u001b[0m\u001b[1;33m=\u001b[0m\u001b[0mlist\u001b[0m\u001b[1;33m(\u001b[0m\u001b[0mcols\u001b[0m\u001b[1;33m)\u001b[0m\u001b[1;33m)\u001b[0m\u001b[1;33m\u001b[0m\u001b[1;33m\u001b[0m\u001b[0m\n\u001b[1;32m--> 393\u001b[1;33m             \u001b[0mdescriptor\u001b[0m\u001b[1;33m.\u001b[0m\u001b[0m_notify_mutated\u001b[0m\u001b[1;33m(\u001b[0m\u001b[0mowner\u001b[0m\u001b[1;33m,\u001b[0m \u001b[0mold\u001b[0m\u001b[1;33m,\u001b[0m \u001b[0mhint\u001b[0m\u001b[1;33m=\u001b[0m\u001b[0mhint\u001b[0m\u001b[1;33m)\u001b[0m\u001b[1;33m\u001b[0m\u001b[1;33m\u001b[0m\u001b[0m\n\u001b[0m\u001b[0;32m    394\u001b[0m \u001b[1;33m\u001b[0m\u001b[0m\n\u001b[0;32m    395\u001b[0m         \u001b[1;32mreturn\u001b[0m \u001b[0mresult\u001b[0m\u001b[1;33m\u001b[0m\u001b[1;33m\u001b[0m\u001b[0m\n",
          "\u001b[1;32mC:\\tools\\Anaconda3\\lib\\site-packages\\bokeh\\core\\property\\descriptors.py\u001b[0m in \u001b[0;36m_notify_mutated\u001b[1;34m(self, obj, old, hint)\u001b[0m\n\u001b[0;32m    871\u001b[0m         \u001b[1;31m# re-validate because the contents of 'old' have changed,\u001b[0m\u001b[1;33m\u001b[0m\u001b[1;33m\u001b[0m\u001b[1;33m\u001b[0m\u001b[0m\n\u001b[0;32m    872\u001b[0m         \u001b[1;31m# in some cases this could give us a new object for the value\u001b[0m\u001b[1;33m\u001b[0m\u001b[1;33m\u001b[0m\u001b[1;33m\u001b[0m\u001b[0m\n\u001b[1;32m--> 873\u001b[1;33m         \u001b[0mvalue\u001b[0m \u001b[1;33m=\u001b[0m \u001b[0mself\u001b[0m\u001b[1;33m.\u001b[0m\u001b[0mproperty\u001b[0m\u001b[1;33m.\u001b[0m\u001b[0mprepare_value\u001b[0m\u001b[1;33m(\u001b[0m\u001b[0mobj\u001b[0m\u001b[1;33m,\u001b[0m \u001b[0mself\u001b[0m\u001b[1;33m.\u001b[0m\u001b[0mname\u001b[0m\u001b[1;33m,\u001b[0m \u001b[0mvalue\u001b[0m\u001b[1;33m)\u001b[0m\u001b[1;33m\u001b[0m\u001b[1;33m\u001b[0m\u001b[0m\n\u001b[0m\u001b[0;32m    874\u001b[0m \u001b[1;33m\u001b[0m\u001b[0m\n\u001b[0;32m    875\u001b[0m         \u001b[0mself\u001b[0m\u001b[1;33m.\u001b[0m\u001b[0m_real_set\u001b[0m\u001b[1;33m(\u001b[0m\u001b[0mobj\u001b[0m\u001b[1;33m,\u001b[0m \u001b[0mold\u001b[0m\u001b[1;33m,\u001b[0m \u001b[0mvalue\u001b[0m\u001b[1;33m,\u001b[0m \u001b[0mhint\u001b[0m\u001b[1;33m=\u001b[0m\u001b[0mhint\u001b[0m\u001b[1;33m)\u001b[0m\u001b[1;33m\u001b[0m\u001b[1;33m\u001b[0m\u001b[0m\n",
          "\u001b[1;32mC:\\tools\\Anaconda3\\lib\\site-packages\\bokeh\\core\\property\\bases.py\u001b[0m in \u001b[0;36mprepare_value\u001b[1;34m(self, obj_or_cls, name, value)\u001b[0m\n\u001b[0;32m    325\u001b[0m                     \u001b[1;32mbreak\u001b[0m\u001b[1;33m\u001b[0m\u001b[1;33m\u001b[0m\u001b[0m\n\u001b[0;32m    326\u001b[0m             \u001b[1;32melse\u001b[0m\u001b[1;33m:\u001b[0m\u001b[1;33m\u001b[0m\u001b[1;33m\u001b[0m\u001b[0m\n\u001b[1;32m--> 327\u001b[1;33m                 \u001b[1;32mraise\u001b[0m \u001b[0me\u001b[0m\u001b[1;33m\u001b[0m\u001b[1;33m\u001b[0m\u001b[0m\n\u001b[0m\u001b[0;32m    328\u001b[0m         \u001b[1;32melse\u001b[0m\u001b[1;33m:\u001b[0m\u001b[1;33m\u001b[0m\u001b[1;33m\u001b[0m\u001b[0m\n\u001b[0;32m    329\u001b[0m             \u001b[0mvalue\u001b[0m \u001b[1;33m=\u001b[0m \u001b[0mself\u001b[0m\u001b[1;33m.\u001b[0m\u001b[0mtransform\u001b[0m\u001b[1;33m(\u001b[0m\u001b[0mvalue\u001b[0m\u001b[1;33m)\u001b[0m\u001b[1;33m\u001b[0m\u001b[1;33m\u001b[0m\u001b[0m\n",
          "\u001b[1;32mC:\\tools\\Anaconda3\\lib\\site-packages\\bokeh\\core\\property\\bases.py\u001b[0m in \u001b[0;36mprepare_value\u001b[1;34m(self, obj_or_cls, name, value)\u001b[0m\n\u001b[0;32m    318\u001b[0m         \u001b[1;32mtry\u001b[0m\u001b[1;33m:\u001b[0m\u001b[1;33m\u001b[0m\u001b[1;33m\u001b[0m\u001b[0m\n\u001b[0;32m    319\u001b[0m             \u001b[1;32mif\u001b[0m \u001b[0mvalidation_on\u001b[0m\u001b[1;33m(\u001b[0m\u001b[1;33m)\u001b[0m\u001b[1;33m:\u001b[0m\u001b[1;33m\u001b[0m\u001b[1;33m\u001b[0m\u001b[0m\n\u001b[1;32m--> 320\u001b[1;33m                 \u001b[0mself\u001b[0m\u001b[1;33m.\u001b[0m\u001b[0mvalidate\u001b[0m\u001b[1;33m(\u001b[0m\u001b[0mvalue\u001b[0m\u001b[1;33m)\u001b[0m\u001b[1;33m\u001b[0m\u001b[1;33m\u001b[0m\u001b[0m\n\u001b[0m\u001b[0;32m    321\u001b[0m         \u001b[1;32mexcept\u001b[0m \u001b[0mValueError\u001b[0m \u001b[1;32mas\u001b[0m \u001b[0me\u001b[0m\u001b[1;33m:\u001b[0m\u001b[1;33m\u001b[0m\u001b[1;33m\u001b[0m\u001b[0m\n\u001b[0;32m    322\u001b[0m             \u001b[1;32mfor\u001b[0m \u001b[0mtp\u001b[0m\u001b[1;33m,\u001b[0m \u001b[0mconverter\u001b[0m \u001b[1;32min\u001b[0m \u001b[0mself\u001b[0m\u001b[1;33m.\u001b[0m\u001b[0malternatives\u001b[0m\u001b[1;33m:\u001b[0m\u001b[1;33m\u001b[0m\u001b[1;33m\u001b[0m\u001b[0m\n",
          "\u001b[1;32mC:\\tools\\Anaconda3\\lib\\site-packages\\bokeh\\core\\property\\container.py\u001b[0m in \u001b[0;36mvalidate\u001b[1;34m(self, value, detail)\u001b[0m\n\u001b[0;32m    188\u001b[0m                     all(self.keys_type.is_valid(key) and self.values_type.is_valid(val) for key, val in iteritems(value))):\n\u001b[0;32m    189\u001b[0m                 \u001b[0mmsg\u001b[0m \u001b[1;33m=\u001b[0m \u001b[1;34m\"\"\u001b[0m \u001b[1;32mif\u001b[0m \u001b[1;32mnot\u001b[0m \u001b[0mdetail\u001b[0m \u001b[1;32melse\u001b[0m \u001b[1;34m\"expected an element of %s, got %r\"\u001b[0m \u001b[1;33m%\u001b[0m \u001b[1;33m(\u001b[0m\u001b[0mself\u001b[0m\u001b[1;33m,\u001b[0m \u001b[0mvalue\u001b[0m\u001b[1;33m)\u001b[0m\u001b[1;33m\u001b[0m\u001b[1;33m\u001b[0m\u001b[0m\n\u001b[1;32m--> 190\u001b[1;33m                 \u001b[1;32mraise\u001b[0m \u001b[0mValueError\u001b[0m\u001b[1;33m(\u001b[0m\u001b[0mmsg\u001b[0m\u001b[1;33m)\u001b[0m\u001b[1;33m\u001b[0m\u001b[1;33m\u001b[0m\u001b[0m\n\u001b[0m\u001b[0;32m    191\u001b[0m \u001b[1;33m\u001b[0m\u001b[0m\n\u001b[0;32m    192\u001b[0m     \u001b[1;33m@\u001b[0m\u001b[0mclassmethod\u001b[0m\u001b[1;33m\u001b[0m\u001b[1;33m\u001b[0m\u001b[0m\n",
          "\u001b[1;31mValueError\u001b[0m: expected an element of ColumnData(String, Seq(Any)), got {'technology': ['PEME', 'Alkaline', 'SMR', 'ATR'], 'Electricity': [2, 1, 4, 3], 'Gas': [5, 3, 4, 2], 'Other OpEx': [3, 2, 4, 4], 'CapEx': [3, 2, 4, 4], 'Finance': [3, 2, 4, 4], 'costs': {'Electricity': [5, 1, 4, 3]}}"
         ]
        }
       ]
      }
     },
     "596af85129e14bdb8c934f7620e38eed": {
      "model_module": "@jupyter-widgets/base",
      "model_module_version": "1.2.0",
      "model_name": "LayoutModel",
      "state": {}
     },
     "5a322d6a90514aae86eed19256aa4d51": {
      "model_module": "@jupyter-widgets/base",
      "model_module_version": "1.2.0",
      "model_name": "LayoutModel",
      "state": {}
     },
     "5ab34b9a313444459531c6223ca73570": {
      "model_module": "@jupyter-widgets/controls",
      "model_module_version": "1.5.0",
      "model_name": "IntSliderModel",
      "state": {
       "description": "a",
       "layout": "IPY_MODEL_3aec69420a8c432f8ade1d8df5e3ffcc",
       "max": 10,
       "style": "IPY_MODEL_8126d6b2a1c442fbbc3d2dd51839e449",
       "value": 5
      }
     },
     "5adeb6bd29a445898cb7cf69c740ac5a": {
      "model_module": "@jupyter-widgets/base",
      "model_module_version": "1.2.0",
      "model_name": "LayoutModel",
      "state": {}
     },
     "5b3237213d864f6284c7aff263caa640": {
      "model_module": "@jupyter-widgets/base",
      "model_module_version": "1.2.0",
      "model_name": "LayoutModel",
      "state": {}
     },
     "5b908ad0647348959a0dac34dbec9a5c": {
      "model_module": "@jupyter-widgets/controls",
      "model_module_version": "1.5.0",
      "model_name": "SliderStyleModel",
      "state": {
       "description_width": ""
      }
     },
     "5bd6d98c73034b7b91c3722d7b1b7793": {
      "model_module": "@jupyter-widgets/base",
      "model_module_version": "1.2.0",
      "model_name": "LayoutModel",
      "state": {}
     },
     "5c3d6378cc66492480ba529092a8812a": {
      "model_module": "@jupyter-widgets/base",
      "model_module_version": "1.2.0",
      "model_name": "LayoutModel",
      "state": {}
     },
     "5d670ee1aa564d30bac8a481fcd273c3": {
      "model_module": "@jupyter-widgets/base",
      "model_module_version": "1.2.0",
      "model_name": "LayoutModel",
      "state": {}
     },
     "5dbaa4ee6ca444bbb886b25d955660e0": {
      "model_module": "@jupyter-widgets/controls",
      "model_module_version": "1.5.0",
      "model_name": "IntSliderModel",
      "state": {
       "description": "b",
       "layout": "IPY_MODEL_3d0d7f0acb7a4025945447845bf88c59",
       "max": 10,
       "style": "IPY_MODEL_3d1abae9b2cc453d8647e5a6f47277f1",
       "value": 5
      }
     },
     "5ddb7264afa84eec9b7a205bba6f2db8": {
      "model_module": "@jupyter-widgets/base",
      "model_module_version": "1.2.0",
      "model_name": "LayoutModel",
      "state": {}
     },
     "5e4f5eb05de8405ab06b25eed3771b7b": {
      "model_module": "@jupyter-widgets/controls",
      "model_module_version": "1.5.0",
      "model_name": "SliderStyleModel",
      "state": {
       "description_width": ""
      }
     },
     "5e790f3f243e408295d9847d984f699b": {
      "model_module": "@jupyter-widgets/controls",
      "model_module_version": "1.5.0",
      "model_name": "SliderStyleModel",
      "state": {
       "description_width": ""
      }
     },
     "5eb9b98995ed4b9e921d692635d3457f": {
      "model_module": "@jupyter-widgets/controls",
      "model_module_version": "1.5.0",
      "model_name": "IntSliderModel",
      "state": {
       "description": "d",
       "layout": "IPY_MODEL_8b6cd1320c2b4c178797d9fc901c528f",
       "max": 10,
       "style": "IPY_MODEL_961f4f4f2b5548b399b89229185e79c1",
       "value": 5
      }
     },
     "5f66d18b9f6e4bc0b3066d4a95dadd44": {
      "model_module": "@jupyter-widgets/base",
      "model_module_version": "1.2.0",
      "model_name": "LayoutModel",
      "state": {}
     },
     "607a0781139e4ca88bdc73c69515eec1": {
      "model_module": "@jupyter-widgets/output",
      "model_module_version": "1.0.0",
      "model_name": "OutputModel",
      "state": {
       "layout": "IPY_MODEL_53bb9f6446154b9195ffaee4f35360b3",
       "outputs": [
        {
         "ename": "ValueError",
         "evalue": "expected an element of ColumnData(String, Seq(Any)), got {'technology': ['PEME', 'Alkaline', 'SMR', 'ATR'], 'Electricity': [2, 1, 4, 3], 'Gas': [5, 3, 4, 2], 'Other OpEx': [3, 2, 4, 4], 'CapEx': [3, 2, 4, 4], 'Finance': [3, 2, 4, 4], 'costs': {'technology': ['PEME', 'Alkaline', 'SMR', 'ATR'], 'Electricity': [5, 1, 4, 3], 'Gas': [5, 3, 4, 2], 'Other OpEx': [5, 2, 4, 4], 'CapEx': [5, 2, 4, 4], 'Finance': [5, 2, 4, 4]}}",
         "output_type": "error",
         "traceback": [
          "\u001b[1;31m---------------------------------------------------------------------------\u001b[0m",
          "\u001b[1;31mValueError\u001b[0m                                Traceback (most recent call last)",
          "\u001b[1;32mC:\\tools\\Anaconda3\\lib\\site-packages\\ipywidgets\\widgets\\interaction.py\u001b[0m in \u001b[0;36mupdate\u001b[1;34m(self, *args)\u001b[0m\n\u001b[0;32m    254\u001b[0m                     \u001b[0mvalue\u001b[0m \u001b[1;33m=\u001b[0m \u001b[0mwidget\u001b[0m\u001b[1;33m.\u001b[0m\u001b[0mget_interact_value\u001b[0m\u001b[1;33m(\u001b[0m\u001b[1;33m)\u001b[0m\u001b[1;33m\u001b[0m\u001b[1;33m\u001b[0m\u001b[0m\n\u001b[0;32m    255\u001b[0m                     \u001b[0mself\u001b[0m\u001b[1;33m.\u001b[0m\u001b[0mkwargs\u001b[0m\u001b[1;33m[\u001b[0m\u001b[0mwidget\u001b[0m\u001b[1;33m.\u001b[0m\u001b[0m_kwarg\u001b[0m\u001b[1;33m]\u001b[0m \u001b[1;33m=\u001b[0m \u001b[0mvalue\u001b[0m\u001b[1;33m\u001b[0m\u001b[1;33m\u001b[0m\u001b[0m\n\u001b[1;32m--> 256\u001b[1;33m                 \u001b[0mself\u001b[0m\u001b[1;33m.\u001b[0m\u001b[0mresult\u001b[0m \u001b[1;33m=\u001b[0m \u001b[0mself\u001b[0m\u001b[1;33m.\u001b[0m\u001b[0mf\u001b[0m\u001b[1;33m(\u001b[0m\u001b[1;33m**\u001b[0m\u001b[0mself\u001b[0m\u001b[1;33m.\u001b[0m\u001b[0mkwargs\u001b[0m\u001b[1;33m)\u001b[0m\u001b[1;33m\u001b[0m\u001b[1;33m\u001b[0m\u001b[0m\n\u001b[0m\u001b[0;32m    257\u001b[0m                 \u001b[0mshow_inline_matplotlib_plots\u001b[0m\u001b[1;33m(\u001b[0m\u001b[1;33m)\u001b[0m\u001b[1;33m\u001b[0m\u001b[1;33m\u001b[0m\u001b[0m\n\u001b[0;32m    258\u001b[0m                 \u001b[1;32mif\u001b[0m \u001b[0mself\u001b[0m\u001b[1;33m.\u001b[0m\u001b[0mauto_display\u001b[0m \u001b[1;32mand\u001b[0m \u001b[0mself\u001b[0m\u001b[1;33m.\u001b[0m\u001b[0mresult\u001b[0m \u001b[1;32mis\u001b[0m \u001b[1;32mnot\u001b[0m \u001b[1;32mNone\u001b[0m\u001b[1;33m:\u001b[0m\u001b[1;33m\u001b[0m\u001b[1;33m\u001b[0m\u001b[0m\n",
          "\u001b[1;32m<ipython-input-72-b38929ec6518>\u001b[0m in \u001b[0;36mupdate\u001b[1;34m(a, b, c, d, e)\u001b[0m\n\u001b[0;32m      7\u001b[0m         \u001b[1;34m'Finance'\u001b[0m   \u001b[1;33m:\u001b[0m \u001b[1;33m[\u001b[0m\u001b[0me\u001b[0m\u001b[1;33m,\u001b[0m \u001b[1;36m2\u001b[0m\u001b[1;33m,\u001b[0m \u001b[1;36m4\u001b[0m\u001b[1;33m,\u001b[0m \u001b[1;36m4\u001b[0m\u001b[1;33m]\u001b[0m\u001b[1;33m,\u001b[0m\u001b[1;33m\u001b[0m\u001b[1;33m\u001b[0m\u001b[0m\n\u001b[0;32m      8\u001b[0m        }\n\u001b[1;32m----> 9\u001b[1;33m     \u001b[0mvbarplot\u001b[0m\u001b[1;33m[\u001b[0m\u001b[1;36m0\u001b[0m\u001b[1;33m]\u001b[0m\u001b[1;33m.\u001b[0m\u001b[0mdata_source\u001b[0m\u001b[1;33m.\u001b[0m\u001b[0mdata\u001b[0m\u001b[1;33m[\u001b[0m\u001b[1;34m'costs'\u001b[0m\u001b[1;33m]\u001b[0m\u001b[1;33m=\u001b[0m\u001b[0mdata\u001b[0m\u001b[1;33m\u001b[0m\u001b[1;33m\u001b[0m\u001b[0m\n\u001b[0m\u001b[0;32m     10\u001b[0m     \u001b[0mpush_notebook\u001b[0m\u001b[1;33m(\u001b[0m\u001b[0mhandle\u001b[0m\u001b[1;33m=\u001b[0m\u001b[0mt\u001b[0m\u001b[1;33m)\u001b[0m\u001b[1;33m\u001b[0m\u001b[1;33m\u001b[0m\u001b[0m\n",
          "\u001b[1;32mC:\\tools\\Anaconda3\\lib\\site-packages\\bokeh\\core\\property\\wrappers.py\u001b[0m in \u001b[0;36m__setitem__\u001b[1;34m(self, i, y)\u001b[0m\n\u001b[0;32m    358\u001b[0m     \u001b[1;31m# don't wrap with notify_owner --- notifies owners explicitly\u001b[0m\u001b[1;33m\u001b[0m\u001b[1;33m\u001b[0m\u001b[1;33m\u001b[0m\u001b[0m\n\u001b[0;32m    359\u001b[0m     \u001b[1;32mdef\u001b[0m \u001b[0m__setitem__\u001b[0m\u001b[1;33m(\u001b[0m\u001b[0mself\u001b[0m\u001b[1;33m,\u001b[0m \u001b[0mi\u001b[0m\u001b[1;33m,\u001b[0m \u001b[0my\u001b[0m\u001b[1;33m)\u001b[0m\u001b[1;33m:\u001b[0m\u001b[1;33m\u001b[0m\u001b[1;33m\u001b[0m\u001b[0m\n\u001b[1;32m--> 360\u001b[1;33m         \u001b[1;32mreturn\u001b[0m \u001b[0mself\u001b[0m\u001b[1;33m.\u001b[0m\u001b[0mupdate\u001b[0m\u001b[1;33m(\u001b[0m\u001b[1;33m[\u001b[0m\u001b[1;33m(\u001b[0m\u001b[0mi\u001b[0m\u001b[1;33m,\u001b[0m \u001b[0my\u001b[0m\u001b[1;33m)\u001b[0m\u001b[1;33m]\u001b[0m\u001b[1;33m)\u001b[0m\u001b[1;33m\u001b[0m\u001b[1;33m\u001b[0m\u001b[0m\n\u001b[0m\u001b[0;32m    361\u001b[0m \u001b[1;33m\u001b[0m\u001b[0m\n\u001b[0;32m    362\u001b[0m     \u001b[1;32mdef\u001b[0m \u001b[0m__copy__\u001b[0m\u001b[1;33m(\u001b[0m\u001b[0mself\u001b[0m\u001b[1;33m)\u001b[0m\u001b[1;33m:\u001b[0m\u001b[1;33m\u001b[0m\u001b[1;33m\u001b[0m\u001b[0m\n",
          "\u001b[1;32mC:\\tools\\Anaconda3\\lib\\site-packages\\bokeh\\core\\property\\wrappers.py\u001b[0m in \u001b[0;36mupdate\u001b[1;34m(self, *args, **kwargs)\u001b[0m\n\u001b[0;32m    391\u001b[0m         \u001b[1;32mfor\u001b[0m \u001b[1;33m(\u001b[0m\u001b[0mowner\u001b[0m\u001b[1;33m,\u001b[0m \u001b[0mdescriptor\u001b[0m\u001b[1;33m)\u001b[0m \u001b[1;32min\u001b[0m \u001b[0mself\u001b[0m\u001b[1;33m.\u001b[0m\u001b[0m_owners\u001b[0m\u001b[1;33m:\u001b[0m\u001b[1;33m\u001b[0m\u001b[1;33m\u001b[0m\u001b[0m\n\u001b[0;32m    392\u001b[0m             \u001b[0mhint\u001b[0m \u001b[1;33m=\u001b[0m \u001b[0mColumnDataChangedEvent\u001b[0m\u001b[1;33m(\u001b[0m\u001b[0mowner\u001b[0m\u001b[1;33m.\u001b[0m\u001b[0mdocument\u001b[0m\u001b[1;33m,\u001b[0m \u001b[0mowner\u001b[0m\u001b[1;33m,\u001b[0m \u001b[0mcols\u001b[0m\u001b[1;33m=\u001b[0m\u001b[0mlist\u001b[0m\u001b[1;33m(\u001b[0m\u001b[0mcols\u001b[0m\u001b[1;33m)\u001b[0m\u001b[1;33m)\u001b[0m\u001b[1;33m\u001b[0m\u001b[1;33m\u001b[0m\u001b[0m\n\u001b[1;32m--> 393\u001b[1;33m             \u001b[0mdescriptor\u001b[0m\u001b[1;33m.\u001b[0m\u001b[0m_notify_mutated\u001b[0m\u001b[1;33m(\u001b[0m\u001b[0mowner\u001b[0m\u001b[1;33m,\u001b[0m \u001b[0mold\u001b[0m\u001b[1;33m,\u001b[0m \u001b[0mhint\u001b[0m\u001b[1;33m=\u001b[0m\u001b[0mhint\u001b[0m\u001b[1;33m)\u001b[0m\u001b[1;33m\u001b[0m\u001b[1;33m\u001b[0m\u001b[0m\n\u001b[0m\u001b[0;32m    394\u001b[0m \u001b[1;33m\u001b[0m\u001b[0m\n\u001b[0;32m    395\u001b[0m         \u001b[1;32mreturn\u001b[0m \u001b[0mresult\u001b[0m\u001b[1;33m\u001b[0m\u001b[1;33m\u001b[0m\u001b[0m\n",
          "\u001b[1;32mC:\\tools\\Anaconda3\\lib\\site-packages\\bokeh\\core\\property\\descriptors.py\u001b[0m in \u001b[0;36m_notify_mutated\u001b[1;34m(self, obj, old, hint)\u001b[0m\n\u001b[0;32m    871\u001b[0m         \u001b[1;31m# re-validate because the contents of 'old' have changed,\u001b[0m\u001b[1;33m\u001b[0m\u001b[1;33m\u001b[0m\u001b[1;33m\u001b[0m\u001b[0m\n\u001b[0;32m    872\u001b[0m         \u001b[1;31m# in some cases this could give us a new object for the value\u001b[0m\u001b[1;33m\u001b[0m\u001b[1;33m\u001b[0m\u001b[1;33m\u001b[0m\u001b[0m\n\u001b[1;32m--> 873\u001b[1;33m         \u001b[0mvalue\u001b[0m \u001b[1;33m=\u001b[0m \u001b[0mself\u001b[0m\u001b[1;33m.\u001b[0m\u001b[0mproperty\u001b[0m\u001b[1;33m.\u001b[0m\u001b[0mprepare_value\u001b[0m\u001b[1;33m(\u001b[0m\u001b[0mobj\u001b[0m\u001b[1;33m,\u001b[0m \u001b[0mself\u001b[0m\u001b[1;33m.\u001b[0m\u001b[0mname\u001b[0m\u001b[1;33m,\u001b[0m \u001b[0mvalue\u001b[0m\u001b[1;33m)\u001b[0m\u001b[1;33m\u001b[0m\u001b[1;33m\u001b[0m\u001b[0m\n\u001b[0m\u001b[0;32m    874\u001b[0m \u001b[1;33m\u001b[0m\u001b[0m\n\u001b[0;32m    875\u001b[0m         \u001b[0mself\u001b[0m\u001b[1;33m.\u001b[0m\u001b[0m_real_set\u001b[0m\u001b[1;33m(\u001b[0m\u001b[0mobj\u001b[0m\u001b[1;33m,\u001b[0m \u001b[0mold\u001b[0m\u001b[1;33m,\u001b[0m \u001b[0mvalue\u001b[0m\u001b[1;33m,\u001b[0m \u001b[0mhint\u001b[0m\u001b[1;33m=\u001b[0m\u001b[0mhint\u001b[0m\u001b[1;33m)\u001b[0m\u001b[1;33m\u001b[0m\u001b[1;33m\u001b[0m\u001b[0m\n",
          "\u001b[1;32mC:\\tools\\Anaconda3\\lib\\site-packages\\bokeh\\core\\property\\bases.py\u001b[0m in \u001b[0;36mprepare_value\u001b[1;34m(self, obj_or_cls, name, value)\u001b[0m\n\u001b[0;32m    325\u001b[0m                     \u001b[1;32mbreak\u001b[0m\u001b[1;33m\u001b[0m\u001b[1;33m\u001b[0m\u001b[0m\n\u001b[0;32m    326\u001b[0m             \u001b[1;32melse\u001b[0m\u001b[1;33m:\u001b[0m\u001b[1;33m\u001b[0m\u001b[1;33m\u001b[0m\u001b[0m\n\u001b[1;32m--> 327\u001b[1;33m                 \u001b[1;32mraise\u001b[0m \u001b[0me\u001b[0m\u001b[1;33m\u001b[0m\u001b[1;33m\u001b[0m\u001b[0m\n\u001b[0m\u001b[0;32m    328\u001b[0m         \u001b[1;32melse\u001b[0m\u001b[1;33m:\u001b[0m\u001b[1;33m\u001b[0m\u001b[1;33m\u001b[0m\u001b[0m\n\u001b[0;32m    329\u001b[0m             \u001b[0mvalue\u001b[0m \u001b[1;33m=\u001b[0m \u001b[0mself\u001b[0m\u001b[1;33m.\u001b[0m\u001b[0mtransform\u001b[0m\u001b[1;33m(\u001b[0m\u001b[0mvalue\u001b[0m\u001b[1;33m)\u001b[0m\u001b[1;33m\u001b[0m\u001b[1;33m\u001b[0m\u001b[0m\n",
          "\u001b[1;32mC:\\tools\\Anaconda3\\lib\\site-packages\\bokeh\\core\\property\\bases.py\u001b[0m in \u001b[0;36mprepare_value\u001b[1;34m(self, obj_or_cls, name, value)\u001b[0m\n\u001b[0;32m    318\u001b[0m         \u001b[1;32mtry\u001b[0m\u001b[1;33m:\u001b[0m\u001b[1;33m\u001b[0m\u001b[1;33m\u001b[0m\u001b[0m\n\u001b[0;32m    319\u001b[0m             \u001b[1;32mif\u001b[0m \u001b[0mvalidation_on\u001b[0m\u001b[1;33m(\u001b[0m\u001b[1;33m)\u001b[0m\u001b[1;33m:\u001b[0m\u001b[1;33m\u001b[0m\u001b[1;33m\u001b[0m\u001b[0m\n\u001b[1;32m--> 320\u001b[1;33m                 \u001b[0mself\u001b[0m\u001b[1;33m.\u001b[0m\u001b[0mvalidate\u001b[0m\u001b[1;33m(\u001b[0m\u001b[0mvalue\u001b[0m\u001b[1;33m)\u001b[0m\u001b[1;33m\u001b[0m\u001b[1;33m\u001b[0m\u001b[0m\n\u001b[0m\u001b[0;32m    321\u001b[0m         \u001b[1;32mexcept\u001b[0m \u001b[0mValueError\u001b[0m \u001b[1;32mas\u001b[0m \u001b[0me\u001b[0m\u001b[1;33m:\u001b[0m\u001b[1;33m\u001b[0m\u001b[1;33m\u001b[0m\u001b[0m\n\u001b[0;32m    322\u001b[0m             \u001b[1;32mfor\u001b[0m \u001b[0mtp\u001b[0m\u001b[1;33m,\u001b[0m \u001b[0mconverter\u001b[0m \u001b[1;32min\u001b[0m \u001b[0mself\u001b[0m\u001b[1;33m.\u001b[0m\u001b[0malternatives\u001b[0m\u001b[1;33m:\u001b[0m\u001b[1;33m\u001b[0m\u001b[1;33m\u001b[0m\u001b[0m\n",
          "\u001b[1;32mC:\\tools\\Anaconda3\\lib\\site-packages\\bokeh\\core\\property\\container.py\u001b[0m in \u001b[0;36mvalidate\u001b[1;34m(self, value, detail)\u001b[0m\n\u001b[0;32m    188\u001b[0m                     all(self.keys_type.is_valid(key) and self.values_type.is_valid(val) for key, val in iteritems(value))):\n\u001b[0;32m    189\u001b[0m                 \u001b[0mmsg\u001b[0m \u001b[1;33m=\u001b[0m \u001b[1;34m\"\"\u001b[0m \u001b[1;32mif\u001b[0m \u001b[1;32mnot\u001b[0m \u001b[0mdetail\u001b[0m \u001b[1;32melse\u001b[0m \u001b[1;34m\"expected an element of %s, got %r\"\u001b[0m \u001b[1;33m%\u001b[0m \u001b[1;33m(\u001b[0m\u001b[0mself\u001b[0m\u001b[1;33m,\u001b[0m \u001b[0mvalue\u001b[0m\u001b[1;33m)\u001b[0m\u001b[1;33m\u001b[0m\u001b[1;33m\u001b[0m\u001b[0m\n\u001b[1;32m--> 190\u001b[1;33m                 \u001b[1;32mraise\u001b[0m \u001b[0mValueError\u001b[0m\u001b[1;33m(\u001b[0m\u001b[0mmsg\u001b[0m\u001b[1;33m)\u001b[0m\u001b[1;33m\u001b[0m\u001b[1;33m\u001b[0m\u001b[0m\n\u001b[0m\u001b[0;32m    191\u001b[0m \u001b[1;33m\u001b[0m\u001b[0m\n\u001b[0;32m    192\u001b[0m     \u001b[1;33m@\u001b[0m\u001b[0mclassmethod\u001b[0m\u001b[1;33m\u001b[0m\u001b[1;33m\u001b[0m\u001b[0m\n",
          "\u001b[1;31mValueError\u001b[0m: expected an element of ColumnData(String, Seq(Any)), got {'technology': ['PEME', 'Alkaline', 'SMR', 'ATR'], 'Electricity': [2, 1, 4, 3], 'Gas': [5, 3, 4, 2], 'Other OpEx': [3, 2, 4, 4], 'CapEx': [3, 2, 4, 4], 'Finance': [3, 2, 4, 4], 'costs': {'technology': ['PEME', 'Alkaline', 'SMR', 'ATR'], 'Electricity': [5, 1, 4, 3], 'Gas': [5, 3, 4, 2], 'Other OpEx': [5, 2, 4, 4], 'CapEx': [5, 2, 4, 4], 'Finance': [5, 2, 4, 4]}}"
         ]
        }
       ]
      }
     },
     "61782dbdab974b1e9ddeb3f58c0e1498": {
      "model_module": "@jupyter-widgets/controls",
      "model_module_version": "1.5.0",
      "model_name": "IntSliderModel",
      "state": {
       "description": "a",
       "layout": "IPY_MODEL_434fd5718d9d4fab9813f779d399c974",
       "max": 10,
       "style": "IPY_MODEL_9034c12816f9453bbca19383c6574273",
       "value": 5
      }
     },
     "619d82a77cf14c819860f17244add5a8": {
      "model_module": "@jupyter-widgets/controls",
      "model_module_version": "1.5.0",
      "model_name": "SliderStyleModel",
      "state": {
       "description_width": ""
      }
     },
     "6280695d229f49519698275413867c26": {
      "model_module": "@jupyter-widgets/base",
      "model_module_version": "1.2.0",
      "model_name": "LayoutModel",
      "state": {}
     },
     "642f565d194646adb7c78f6f004e2d5d": {
      "model_module": "@jupyter-widgets/base",
      "model_module_version": "1.2.0",
      "model_name": "LayoutModel",
      "state": {}
     },
     "64505331455f4a5ea04a56ec9bd5a594": {
      "model_module": "@jupyter-widgets/output",
      "model_module_version": "1.0.0",
      "model_name": "OutputModel",
      "state": {
       "layout": "IPY_MODEL_4bede06a148b442991b09c3b849ad441"
      }
     },
     "64cd4705463a46788a6161b1517dc2ca": {
      "model_module": "@jupyter-widgets/base",
      "model_module_version": "1.2.0",
      "model_name": "LayoutModel",
      "state": {}
     },
     "64d0f32216704c018c8c726fb3e0e1ec": {
      "model_module": "@jupyter-widgets/base",
      "model_module_version": "1.2.0",
      "model_name": "LayoutModel",
      "state": {}
     },
     "64e771149f7a4eae80545f0b45dcf163": {
      "model_module": "@jupyter-widgets/controls",
      "model_module_version": "1.5.0",
      "model_name": "IntSliderModel",
      "state": {
       "description": "c",
       "layout": "IPY_MODEL_bfff0a3a952a4d86a0bce96af55a19d1",
       "max": 10,
       "style": "IPY_MODEL_207ff65b032740a8a3d60a4e64005588",
       "value": 5
      }
     },
     "65e3c955fa2549138f6e6c0d3497efb7": {
      "model_module": "@jupyter-widgets/controls",
      "model_module_version": "1.5.0",
      "model_name": "VBoxModel",
      "state": {
       "_dom_classes": [
        "widget-interact"
       ],
       "children": [
        "IPY_MODEL_c7b9a2b6ab034943aaa27d8048fbf469",
        "IPY_MODEL_06ba9ae2b9ec4b9cb02cfadc5df43439",
        "IPY_MODEL_1b9b150d58924dbb85c012ba8da22487",
        "IPY_MODEL_7bf6666d46534220a164651908c20787",
        "IPY_MODEL_513ee22d8b254cc3960573a8e7bda116",
        "IPY_MODEL_e8eccd7e6486414c85d00126b6e9b3df"
       ],
       "layout": "IPY_MODEL_1430fcd834af42c4bb90d8913a1d8d33"
      }
     },
     "662476141c1e46b3a3d6012e8c14d8a0": {
      "model_module": "@jupyter-widgets/base",
      "model_module_version": "1.2.0",
      "model_name": "LayoutModel",
      "state": {}
     },
     "669c36ab3848465691ede024377d312c": {
      "model_module": "@jupyter-widgets/base",
      "model_module_version": "1.2.0",
      "model_name": "LayoutModel",
      "state": {}
     },
     "67d272cc252647d3a9fa5d7d52149f0d": {
      "model_module": "@jupyter-widgets/output",
      "model_module_version": "1.0.0",
      "model_name": "OutputModel",
      "state": {
       "layout": "IPY_MODEL_596af85129e14bdb8c934f7620e38eed"
      }
     },
     "67f28a46aa0247f7bbf840a12192f9cc": {
      "model_module": "@jupyter-widgets/controls",
      "model_module_version": "1.5.0",
      "model_name": "SliderStyleModel",
      "state": {
       "description_width": ""
      }
     },
     "6969c257792b48469e6b8f601ddf58af": {
      "model_module": "@jupyter-widgets/base",
      "model_module_version": "1.2.0",
      "model_name": "LayoutModel",
      "state": {}
     },
     "6a8211b9f5f94d7098e53b5351c4e813": {
      "model_module": "@jupyter-widgets/controls",
      "model_module_version": "1.5.0",
      "model_name": "VBoxModel",
      "state": {
       "_dom_classes": [
        "widget-interact"
       ],
       "children": [
        "IPY_MODEL_520a11f058864a258ed6aad31d775531",
        "IPY_MODEL_02e9ff32ac1c47c4bdd254c2c656c602",
        "IPY_MODEL_4cbe9c6e7d7c478fa072052fc09c6f1b",
        "IPY_MODEL_3e76a8a06a56416db5187596943f4fdf",
        "IPY_MODEL_f13ec8c68cb1413c93a34c65f36f10e3",
        "IPY_MODEL_8f212f1b1bfc43129ea6023377d6c345"
       ],
       "layout": "IPY_MODEL_6f5021b75b89402093b5f820ac6dd372"
      }
     },
     "6a8302f518324bf8b4d201f5f62225a9": {
      "model_module": "@jupyter-widgets/controls",
      "model_module_version": "1.5.0",
      "model_name": "IntSliderModel",
      "state": {
       "description": "a",
       "layout": "IPY_MODEL_286223ea934a4608a70f2971c09a5618",
       "max": 10,
       "style": "IPY_MODEL_b6d4af7c24a342868e44b2703cc62226"
      }
     },
     "6b74e4b7e4614a9286a992c239e4cf89": {
      "model_module": "@jupyter-widgets/base",
      "model_module_version": "1.2.0",
      "model_name": "LayoutModel",
      "state": {}
     },
     "6c71488ce82f48d9b7dfb46461c8fc63": {
      "model_module": "@jupyter-widgets/output",
      "model_module_version": "1.0.0",
      "model_name": "OutputModel",
      "state": {
       "layout": "IPY_MODEL_880605225bd444fb9a0260838317307a",
       "outputs": [
        {
         "ename": "AttributeError",
         "evalue": "'list' object has no attribute 'data_source'",
         "output_type": "error",
         "traceback": [
          "\u001b[1;31m---------------------------------------------------------------------------\u001b[0m",
          "\u001b[1;31mAttributeError\u001b[0m                            Traceback (most recent call last)",
          "\u001b[1;32mC:\\tools\\Anaconda3\\lib\\site-packages\\ipywidgets\\widgets\\interaction.py\u001b[0m in \u001b[0;36mupdate\u001b[1;34m(self, *args)\u001b[0m\n\u001b[0;32m    254\u001b[0m                     \u001b[0mvalue\u001b[0m \u001b[1;33m=\u001b[0m \u001b[0mwidget\u001b[0m\u001b[1;33m.\u001b[0m\u001b[0mget_interact_value\u001b[0m\u001b[1;33m(\u001b[0m\u001b[1;33m)\u001b[0m\u001b[1;33m\u001b[0m\u001b[1;33m\u001b[0m\u001b[0m\n\u001b[0;32m    255\u001b[0m                     \u001b[0mself\u001b[0m\u001b[1;33m.\u001b[0m\u001b[0mkwargs\u001b[0m\u001b[1;33m[\u001b[0m\u001b[0mwidget\u001b[0m\u001b[1;33m.\u001b[0m\u001b[0m_kwarg\u001b[0m\u001b[1;33m]\u001b[0m \u001b[1;33m=\u001b[0m \u001b[0mvalue\u001b[0m\u001b[1;33m\u001b[0m\u001b[1;33m\u001b[0m\u001b[0m\n\u001b[1;32m--> 256\u001b[1;33m                 \u001b[0mself\u001b[0m\u001b[1;33m.\u001b[0m\u001b[0mresult\u001b[0m \u001b[1;33m=\u001b[0m \u001b[0mself\u001b[0m\u001b[1;33m.\u001b[0m\u001b[0mf\u001b[0m\u001b[1;33m(\u001b[0m\u001b[1;33m**\u001b[0m\u001b[0mself\u001b[0m\u001b[1;33m.\u001b[0m\u001b[0mkwargs\u001b[0m\u001b[1;33m)\u001b[0m\u001b[1;33m\u001b[0m\u001b[1;33m\u001b[0m\u001b[0m\n\u001b[0m\u001b[0;32m    257\u001b[0m                 \u001b[0mshow_inline_matplotlib_plots\u001b[0m\u001b[1;33m(\u001b[0m\u001b[1;33m)\u001b[0m\u001b[1;33m\u001b[0m\u001b[1;33m\u001b[0m\u001b[0m\n\u001b[0;32m    258\u001b[0m                 \u001b[1;32mif\u001b[0m \u001b[0mself\u001b[0m\u001b[1;33m.\u001b[0m\u001b[0mauto_display\u001b[0m \u001b[1;32mand\u001b[0m \u001b[0mself\u001b[0m\u001b[1;33m.\u001b[0m\u001b[0mresult\u001b[0m \u001b[1;32mis\u001b[0m \u001b[1;32mnot\u001b[0m \u001b[1;32mNone\u001b[0m\u001b[1;33m:\u001b[0m\u001b[1;33m\u001b[0m\u001b[1;33m\u001b[0m\u001b[0m\n",
          "\u001b[1;32m<ipython-input-66-f7f94f2d80cc>\u001b[0m in \u001b[0;36mupdate\u001b[1;34m(a, b, c, d, e)\u001b[0m\n\u001b[0;32m      7\u001b[0m         \u001b[1;34m'Finance'\u001b[0m   \u001b[1;33m:\u001b[0m \u001b[1;33m[\u001b[0m\u001b[0me\u001b[0m\u001b[1;33m,\u001b[0m \u001b[1;36m2\u001b[0m\u001b[1;33m,\u001b[0m \u001b[1;36m4\u001b[0m\u001b[1;33m,\u001b[0m \u001b[1;36m4\u001b[0m\u001b[1;33m]\u001b[0m\u001b[1;33m,\u001b[0m\u001b[1;33m\u001b[0m\u001b[1;33m\u001b[0m\u001b[0m\n\u001b[0;32m      8\u001b[0m        }\n\u001b[1;32m----> 9\u001b[1;33m     \u001b[0mr\u001b[0m\u001b[1;33m.\u001b[0m\u001b[0mdata_source\u001b[0m\u001b[1;33m.\u001b[0m\u001b[0mdata\u001b[0m\u001b[1;33m[\u001b[0m\u001b[1;34m'costs'\u001b[0m\u001b[1;33m]\u001b[0m\u001b[1;33m=\u001b[0m\u001b[0mdata\u001b[0m\u001b[1;33m\u001b[0m\u001b[1;33m\u001b[0m\u001b[0m\n\u001b[0m\u001b[0;32m     10\u001b[0m     \u001b[0mpush_notebook\u001b[0m\u001b[1;33m(\u001b[0m\u001b[0mhandle\u001b[0m\u001b[1;33m=\u001b[0m\u001b[0mt\u001b[0m\u001b[1;33m)\u001b[0m\u001b[1;33m\u001b[0m\u001b[1;33m\u001b[0m\u001b[0m\n",
          "\u001b[1;31mAttributeError\u001b[0m: 'list' object has no attribute 'data_source'"
         ]
        }
       ]
      }
     },
     "6ca8ab5168f246c896912b6f90eea80e": {
      "model_module": "@jupyter-widgets/controls",
      "model_module_version": "1.5.0",
      "model_name": "IntSliderModel",
      "state": {
       "description": "c",
       "layout": "IPY_MODEL_45df3d29a61b4ddba3d43c6e1cbb83e0",
       "max": 10,
       "style": "IPY_MODEL_5e790f3f243e408295d9847d984f699b",
       "value": 5
      }
     },
     "6d173538da3b4601b8ec27cdb6d75e93": {
      "model_module": "@jupyter-widgets/controls",
      "model_module_version": "1.5.0",
      "model_name": "IntSliderModel",
      "state": {
       "description": "b",
       "layout": "IPY_MODEL_ea360148612d40babf598c409c6eb42b",
       "max": 10,
       "style": "IPY_MODEL_b1af1dfcff84474b9d602cd545c22558",
       "value": 5
      }
     },
     "6e1086a04d8f4a65b63b88df2ed29183": {
      "model_module": "@jupyter-widgets/base",
      "model_module_version": "1.2.0",
      "model_name": "LayoutModel",
      "state": {}
     },
     "6e3a74de934943649bd52fd83a1ef7f8": {
      "model_module": "@jupyter-widgets/controls",
      "model_module_version": "1.5.0",
      "model_name": "IntSliderModel",
      "state": {
       "description": "d",
       "layout": "IPY_MODEL_9210a3945a564f2f9f548f5235ff790b",
       "max": 10,
       "style": "IPY_MODEL_f73b0d06bd754c738bdde78f53498f05",
       "value": 5
      }
     },
     "6ea2bf6751174c308ca486f181a389eb": {
      "model_module": "@jupyter-widgets/controls",
      "model_module_version": "1.5.0",
      "model_name": "IntSliderModel",
      "state": {
       "description": "a",
       "layout": "IPY_MODEL_47140a3b4407435fa8ce85ebb011f6b8",
       "max": 10,
       "style": "IPY_MODEL_1819db515a6d4a3083c46b1ee3200b91",
       "value": 10
      }
     },
     "6ebd5768b4084a84a2be210219910c67": {
      "model_module": "@jupyter-widgets/controls",
      "model_module_version": "1.5.0",
      "model_name": "SliderStyleModel",
      "state": {
       "description_width": ""
      }
     },
     "6f038248f86a462a9fdcf9f0e0cd4fca": {
      "model_module": "@jupyter-widgets/controls",
      "model_module_version": "1.5.0",
      "model_name": "IntSliderModel",
      "state": {
       "description": "e",
       "layout": "IPY_MODEL_7f7baf89e6364717afd527e47ecad9bc",
       "max": 10,
       "style": "IPY_MODEL_45ba200e686c49d4a74a1a9987e7d7dd",
       "value": 5
      }
     },
     "6f5021b75b89402093b5f820ac6dd372": {
      "model_module": "@jupyter-widgets/base",
      "model_module_version": "1.2.0",
      "model_name": "LayoutModel",
      "state": {}
     },
     "715d96c166aa43d79feeea71609a9735": {
      "model_module": "@jupyter-widgets/controls",
      "model_module_version": "1.5.0",
      "model_name": "IntSliderModel",
      "state": {
       "description": "b",
       "layout": "IPY_MODEL_26a64d3c59e24ae9b73fed665f3a1328",
       "max": 10,
       "style": "IPY_MODEL_5192c76a0c6a4b19a3aec0e132e0d497",
       "value": 10
      }
     },
     "7223d5bac4ea440ea50337669d216ee6": {
      "model_module": "@jupyter-widgets/controls",
      "model_module_version": "1.5.0",
      "model_name": "IntSliderModel",
      "state": {
       "description": "a",
       "layout": "IPY_MODEL_662476141c1e46b3a3d6012e8c14d8a0",
       "max": 10,
       "style": "IPY_MODEL_ceef28dd822d46e4b5f39df3700bb524",
       "value": 4
      }
     },
     "7385b637bad446318d8a5c81a78f8d62": {
      "model_module": "@jupyter-widgets/controls",
      "model_module_version": "1.5.0",
      "model_name": "SliderStyleModel",
      "state": {
       "description_width": ""
      }
     },
     "73b967acdf6d4c0d98691c0d1377dc26": {
      "model_module": "@jupyter-widgets/output",
      "model_module_version": "1.0.0",
      "model_name": "OutputModel",
      "state": {
       "layout": "IPY_MODEL_9f62ec4731f34a55ac833be461ab7590",
       "outputs": [
        {
         "ename": "ValueError",
         "evalue": "expected an element of ColumnData(String, Seq(Any)), got {'technology': ['PEME', 'Alkaline', 'SMR', 'ATR'], 'Electricity': [2, 1, 4, 3], 'Gas': [5, 3, 4, 2], 'Other OpEx': [3, 2, 4, 4], 'CapEx': [3, 2, 4, 4], 'Finance': [3, 2, 4, 4], 'costs': {'technology': ['PEME', 'Alkaline', 'SMR', 'ATR'], 'Electricity': [5, 1, 4, 3], 'Gas': [5, 3, 4, 2], 'Other OpEx': [5, 2, 4, 4], 'CapEx': [5, 2, 4, 4], 'Finance': [5, 2, 4, 4]}}",
         "output_type": "error",
         "traceback": [
          "\u001b[1;31m---------------------------------------------------------------------------\u001b[0m",
          "\u001b[1;31mValueError\u001b[0m                                Traceback (most recent call last)",
          "\u001b[1;32mC:\\tools\\Anaconda3\\lib\\site-packages\\ipywidgets\\widgets\\interaction.py\u001b[0m in \u001b[0;36mupdate\u001b[1;34m(self, *args)\u001b[0m\n\u001b[0;32m    254\u001b[0m                     \u001b[0mvalue\u001b[0m \u001b[1;33m=\u001b[0m \u001b[0mwidget\u001b[0m\u001b[1;33m.\u001b[0m\u001b[0mget_interact_value\u001b[0m\u001b[1;33m(\u001b[0m\u001b[1;33m)\u001b[0m\u001b[1;33m\u001b[0m\u001b[1;33m\u001b[0m\u001b[0m\n\u001b[0;32m    255\u001b[0m                     \u001b[0mself\u001b[0m\u001b[1;33m.\u001b[0m\u001b[0mkwargs\u001b[0m\u001b[1;33m[\u001b[0m\u001b[0mwidget\u001b[0m\u001b[1;33m.\u001b[0m\u001b[0m_kwarg\u001b[0m\u001b[1;33m]\u001b[0m \u001b[1;33m=\u001b[0m \u001b[0mvalue\u001b[0m\u001b[1;33m\u001b[0m\u001b[1;33m\u001b[0m\u001b[0m\n\u001b[1;32m--> 256\u001b[1;33m                 \u001b[0mself\u001b[0m\u001b[1;33m.\u001b[0m\u001b[0mresult\u001b[0m \u001b[1;33m=\u001b[0m \u001b[0mself\u001b[0m\u001b[1;33m.\u001b[0m\u001b[0mf\u001b[0m\u001b[1;33m(\u001b[0m\u001b[1;33m**\u001b[0m\u001b[0mself\u001b[0m\u001b[1;33m.\u001b[0m\u001b[0mkwargs\u001b[0m\u001b[1;33m)\u001b[0m\u001b[1;33m\u001b[0m\u001b[1;33m\u001b[0m\u001b[0m\n\u001b[0m\u001b[0;32m    257\u001b[0m                 \u001b[0mshow_inline_matplotlib_plots\u001b[0m\u001b[1;33m(\u001b[0m\u001b[1;33m)\u001b[0m\u001b[1;33m\u001b[0m\u001b[1;33m\u001b[0m\u001b[0m\n\u001b[0;32m    258\u001b[0m                 \u001b[1;32mif\u001b[0m \u001b[0mself\u001b[0m\u001b[1;33m.\u001b[0m\u001b[0mauto_display\u001b[0m \u001b[1;32mand\u001b[0m \u001b[0mself\u001b[0m\u001b[1;33m.\u001b[0m\u001b[0mresult\u001b[0m \u001b[1;32mis\u001b[0m \u001b[1;32mnot\u001b[0m \u001b[1;32mNone\u001b[0m\u001b[1;33m:\u001b[0m\u001b[1;33m\u001b[0m\u001b[1;33m\u001b[0m\u001b[0m\n",
          "\u001b[1;32m<ipython-input-108-15886381800a>\u001b[0m in \u001b[0;36mupdate\u001b[1;34m(a, b, c, d, e)\u001b[0m\n\u001b[0;32m      7\u001b[0m         \u001b[1;34m'Finance'\u001b[0m   \u001b[1;33m:\u001b[0m \u001b[1;33m[\u001b[0m\u001b[0me\u001b[0m\u001b[1;33m,\u001b[0m \u001b[1;36m2\u001b[0m\u001b[1;33m,\u001b[0m \u001b[1;36m4\u001b[0m\u001b[1;33m,\u001b[0m \u001b[1;36m4\u001b[0m\u001b[1;33m]\u001b[0m\u001b[1;33m,\u001b[0m\u001b[1;33m\u001b[0m\u001b[1;33m\u001b[0m\u001b[0m\n\u001b[0;32m      8\u001b[0m        }\n\u001b[1;32m----> 9\u001b[1;33m     \u001b[0mvbarplot\u001b[0m\u001b[1;33m[\u001b[0m\u001b[1;36m1\u001b[0m\u001b[1;33m]\u001b[0m\u001b[1;33m.\u001b[0m\u001b[0mdata_source\u001b[0m\u001b[1;33m.\u001b[0m\u001b[0mdata\u001b[0m\u001b[1;33m[\u001b[0m\u001b[1;34m'costs'\u001b[0m\u001b[1;33m]\u001b[0m\u001b[1;33m=\u001b[0m\u001b[0mdata\u001b[0m\u001b[1;33m\u001b[0m\u001b[1;33m\u001b[0m\u001b[0m\n\u001b[0m\u001b[0;32m     10\u001b[0m     \u001b[0mpush_notebook\u001b[0m\u001b[1;33m(\u001b[0m\u001b[1;33m)\u001b[0m\u001b[1;33m\u001b[0m\u001b[1;33m\u001b[0m\u001b[0m\n",
          "\u001b[1;32mC:\\tools\\Anaconda3\\lib\\site-packages\\bokeh\\core\\property\\wrappers.py\u001b[0m in \u001b[0;36m__setitem__\u001b[1;34m(self, i, y)\u001b[0m\n\u001b[0;32m    358\u001b[0m     \u001b[1;31m# don't wrap with notify_owner --- notifies owners explicitly\u001b[0m\u001b[1;33m\u001b[0m\u001b[1;33m\u001b[0m\u001b[1;33m\u001b[0m\u001b[0m\n\u001b[0;32m    359\u001b[0m     \u001b[1;32mdef\u001b[0m \u001b[0m__setitem__\u001b[0m\u001b[1;33m(\u001b[0m\u001b[0mself\u001b[0m\u001b[1;33m,\u001b[0m \u001b[0mi\u001b[0m\u001b[1;33m,\u001b[0m \u001b[0my\u001b[0m\u001b[1;33m)\u001b[0m\u001b[1;33m:\u001b[0m\u001b[1;33m\u001b[0m\u001b[1;33m\u001b[0m\u001b[0m\n\u001b[1;32m--> 360\u001b[1;33m         \u001b[1;32mreturn\u001b[0m \u001b[0mself\u001b[0m\u001b[1;33m.\u001b[0m\u001b[0mupdate\u001b[0m\u001b[1;33m(\u001b[0m\u001b[1;33m[\u001b[0m\u001b[1;33m(\u001b[0m\u001b[0mi\u001b[0m\u001b[1;33m,\u001b[0m \u001b[0my\u001b[0m\u001b[1;33m)\u001b[0m\u001b[1;33m]\u001b[0m\u001b[1;33m)\u001b[0m\u001b[1;33m\u001b[0m\u001b[1;33m\u001b[0m\u001b[0m\n\u001b[0m\u001b[0;32m    361\u001b[0m \u001b[1;33m\u001b[0m\u001b[0m\n\u001b[0;32m    362\u001b[0m     \u001b[1;32mdef\u001b[0m \u001b[0m__copy__\u001b[0m\u001b[1;33m(\u001b[0m\u001b[0mself\u001b[0m\u001b[1;33m)\u001b[0m\u001b[1;33m:\u001b[0m\u001b[1;33m\u001b[0m\u001b[1;33m\u001b[0m\u001b[0m\n",
          "\u001b[1;32mC:\\tools\\Anaconda3\\lib\\site-packages\\bokeh\\core\\property\\wrappers.py\u001b[0m in \u001b[0;36mupdate\u001b[1;34m(self, *args, **kwargs)\u001b[0m\n\u001b[0;32m    391\u001b[0m         \u001b[1;32mfor\u001b[0m \u001b[1;33m(\u001b[0m\u001b[0mowner\u001b[0m\u001b[1;33m,\u001b[0m \u001b[0mdescriptor\u001b[0m\u001b[1;33m)\u001b[0m \u001b[1;32min\u001b[0m \u001b[0mself\u001b[0m\u001b[1;33m.\u001b[0m\u001b[0m_owners\u001b[0m\u001b[1;33m:\u001b[0m\u001b[1;33m\u001b[0m\u001b[1;33m\u001b[0m\u001b[0m\n\u001b[0;32m    392\u001b[0m             \u001b[0mhint\u001b[0m \u001b[1;33m=\u001b[0m \u001b[0mColumnDataChangedEvent\u001b[0m\u001b[1;33m(\u001b[0m\u001b[0mowner\u001b[0m\u001b[1;33m.\u001b[0m\u001b[0mdocument\u001b[0m\u001b[1;33m,\u001b[0m \u001b[0mowner\u001b[0m\u001b[1;33m,\u001b[0m \u001b[0mcols\u001b[0m\u001b[1;33m=\u001b[0m\u001b[0mlist\u001b[0m\u001b[1;33m(\u001b[0m\u001b[0mcols\u001b[0m\u001b[1;33m)\u001b[0m\u001b[1;33m)\u001b[0m\u001b[1;33m\u001b[0m\u001b[1;33m\u001b[0m\u001b[0m\n\u001b[1;32m--> 393\u001b[1;33m             \u001b[0mdescriptor\u001b[0m\u001b[1;33m.\u001b[0m\u001b[0m_notify_mutated\u001b[0m\u001b[1;33m(\u001b[0m\u001b[0mowner\u001b[0m\u001b[1;33m,\u001b[0m \u001b[0mold\u001b[0m\u001b[1;33m,\u001b[0m \u001b[0mhint\u001b[0m\u001b[1;33m=\u001b[0m\u001b[0mhint\u001b[0m\u001b[1;33m)\u001b[0m\u001b[1;33m\u001b[0m\u001b[1;33m\u001b[0m\u001b[0m\n\u001b[0m\u001b[0;32m    394\u001b[0m \u001b[1;33m\u001b[0m\u001b[0m\n\u001b[0;32m    395\u001b[0m         \u001b[1;32mreturn\u001b[0m \u001b[0mresult\u001b[0m\u001b[1;33m\u001b[0m\u001b[1;33m\u001b[0m\u001b[0m\n",
          "\u001b[1;32mC:\\tools\\Anaconda3\\lib\\site-packages\\bokeh\\core\\property\\descriptors.py\u001b[0m in \u001b[0;36m_notify_mutated\u001b[1;34m(self, obj, old, hint)\u001b[0m\n\u001b[0;32m    871\u001b[0m         \u001b[1;31m# re-validate because the contents of 'old' have changed,\u001b[0m\u001b[1;33m\u001b[0m\u001b[1;33m\u001b[0m\u001b[1;33m\u001b[0m\u001b[0m\n\u001b[0;32m    872\u001b[0m         \u001b[1;31m# in some cases this could give us a new object for the value\u001b[0m\u001b[1;33m\u001b[0m\u001b[1;33m\u001b[0m\u001b[1;33m\u001b[0m\u001b[0m\n\u001b[1;32m--> 873\u001b[1;33m         \u001b[0mvalue\u001b[0m \u001b[1;33m=\u001b[0m \u001b[0mself\u001b[0m\u001b[1;33m.\u001b[0m\u001b[0mproperty\u001b[0m\u001b[1;33m.\u001b[0m\u001b[0mprepare_value\u001b[0m\u001b[1;33m(\u001b[0m\u001b[0mobj\u001b[0m\u001b[1;33m,\u001b[0m \u001b[0mself\u001b[0m\u001b[1;33m.\u001b[0m\u001b[0mname\u001b[0m\u001b[1;33m,\u001b[0m \u001b[0mvalue\u001b[0m\u001b[1;33m)\u001b[0m\u001b[1;33m\u001b[0m\u001b[1;33m\u001b[0m\u001b[0m\n\u001b[0m\u001b[0;32m    874\u001b[0m \u001b[1;33m\u001b[0m\u001b[0m\n\u001b[0;32m    875\u001b[0m         \u001b[0mself\u001b[0m\u001b[1;33m.\u001b[0m\u001b[0m_real_set\u001b[0m\u001b[1;33m(\u001b[0m\u001b[0mobj\u001b[0m\u001b[1;33m,\u001b[0m \u001b[0mold\u001b[0m\u001b[1;33m,\u001b[0m \u001b[0mvalue\u001b[0m\u001b[1;33m,\u001b[0m \u001b[0mhint\u001b[0m\u001b[1;33m=\u001b[0m\u001b[0mhint\u001b[0m\u001b[1;33m)\u001b[0m\u001b[1;33m\u001b[0m\u001b[1;33m\u001b[0m\u001b[0m\n",
          "\u001b[1;32mC:\\tools\\Anaconda3\\lib\\site-packages\\bokeh\\core\\property\\bases.py\u001b[0m in \u001b[0;36mprepare_value\u001b[1;34m(self, obj_or_cls, name, value)\u001b[0m\n\u001b[0;32m    325\u001b[0m                     \u001b[1;32mbreak\u001b[0m\u001b[1;33m\u001b[0m\u001b[1;33m\u001b[0m\u001b[0m\n\u001b[0;32m    326\u001b[0m             \u001b[1;32melse\u001b[0m\u001b[1;33m:\u001b[0m\u001b[1;33m\u001b[0m\u001b[1;33m\u001b[0m\u001b[0m\n\u001b[1;32m--> 327\u001b[1;33m                 \u001b[1;32mraise\u001b[0m \u001b[0me\u001b[0m\u001b[1;33m\u001b[0m\u001b[1;33m\u001b[0m\u001b[0m\n\u001b[0m\u001b[0;32m    328\u001b[0m         \u001b[1;32melse\u001b[0m\u001b[1;33m:\u001b[0m\u001b[1;33m\u001b[0m\u001b[1;33m\u001b[0m\u001b[0m\n\u001b[0;32m    329\u001b[0m             \u001b[0mvalue\u001b[0m \u001b[1;33m=\u001b[0m \u001b[0mself\u001b[0m\u001b[1;33m.\u001b[0m\u001b[0mtransform\u001b[0m\u001b[1;33m(\u001b[0m\u001b[0mvalue\u001b[0m\u001b[1;33m)\u001b[0m\u001b[1;33m\u001b[0m\u001b[1;33m\u001b[0m\u001b[0m\n",
          "\u001b[1;32mC:\\tools\\Anaconda3\\lib\\site-packages\\bokeh\\core\\property\\bases.py\u001b[0m in \u001b[0;36mprepare_value\u001b[1;34m(self, obj_or_cls, name, value)\u001b[0m\n\u001b[0;32m    318\u001b[0m         \u001b[1;32mtry\u001b[0m\u001b[1;33m:\u001b[0m\u001b[1;33m\u001b[0m\u001b[1;33m\u001b[0m\u001b[0m\n\u001b[0;32m    319\u001b[0m             \u001b[1;32mif\u001b[0m \u001b[0mvalidation_on\u001b[0m\u001b[1;33m(\u001b[0m\u001b[1;33m)\u001b[0m\u001b[1;33m:\u001b[0m\u001b[1;33m\u001b[0m\u001b[1;33m\u001b[0m\u001b[0m\n\u001b[1;32m--> 320\u001b[1;33m                 \u001b[0mself\u001b[0m\u001b[1;33m.\u001b[0m\u001b[0mvalidate\u001b[0m\u001b[1;33m(\u001b[0m\u001b[0mvalue\u001b[0m\u001b[1;33m)\u001b[0m\u001b[1;33m\u001b[0m\u001b[1;33m\u001b[0m\u001b[0m\n\u001b[0m\u001b[0;32m    321\u001b[0m         \u001b[1;32mexcept\u001b[0m \u001b[0mValueError\u001b[0m \u001b[1;32mas\u001b[0m \u001b[0me\u001b[0m\u001b[1;33m:\u001b[0m\u001b[1;33m\u001b[0m\u001b[1;33m\u001b[0m\u001b[0m\n\u001b[0;32m    322\u001b[0m             \u001b[1;32mfor\u001b[0m \u001b[0mtp\u001b[0m\u001b[1;33m,\u001b[0m \u001b[0mconverter\u001b[0m \u001b[1;32min\u001b[0m \u001b[0mself\u001b[0m\u001b[1;33m.\u001b[0m\u001b[0malternatives\u001b[0m\u001b[1;33m:\u001b[0m\u001b[1;33m\u001b[0m\u001b[1;33m\u001b[0m\u001b[0m\n",
          "\u001b[1;32mC:\\tools\\Anaconda3\\lib\\site-packages\\bokeh\\core\\property\\container.py\u001b[0m in \u001b[0;36mvalidate\u001b[1;34m(self, value, detail)\u001b[0m\n\u001b[0;32m    188\u001b[0m                     all(self.keys_type.is_valid(key) and self.values_type.is_valid(val) for key, val in iteritems(value))):\n\u001b[0;32m    189\u001b[0m                 \u001b[0mmsg\u001b[0m \u001b[1;33m=\u001b[0m \u001b[1;34m\"\"\u001b[0m \u001b[1;32mif\u001b[0m \u001b[1;32mnot\u001b[0m \u001b[0mdetail\u001b[0m \u001b[1;32melse\u001b[0m \u001b[1;34m\"expected an element of %s, got %r\"\u001b[0m \u001b[1;33m%\u001b[0m \u001b[1;33m(\u001b[0m\u001b[0mself\u001b[0m\u001b[1;33m,\u001b[0m \u001b[0mvalue\u001b[0m\u001b[1;33m)\u001b[0m\u001b[1;33m\u001b[0m\u001b[1;33m\u001b[0m\u001b[0m\n\u001b[1;32m--> 190\u001b[1;33m                 \u001b[1;32mraise\u001b[0m \u001b[0mValueError\u001b[0m\u001b[1;33m(\u001b[0m\u001b[0mmsg\u001b[0m\u001b[1;33m)\u001b[0m\u001b[1;33m\u001b[0m\u001b[1;33m\u001b[0m\u001b[0m\n\u001b[0m\u001b[0;32m    191\u001b[0m \u001b[1;33m\u001b[0m\u001b[0m\n\u001b[0;32m    192\u001b[0m     \u001b[1;33m@\u001b[0m\u001b[0mclassmethod\u001b[0m\u001b[1;33m\u001b[0m\u001b[1;33m\u001b[0m\u001b[0m\n",
          "\u001b[1;31mValueError\u001b[0m: expected an element of ColumnData(String, Seq(Any)), got {'technology': ['PEME', 'Alkaline', 'SMR', 'ATR'], 'Electricity': [2, 1, 4, 3], 'Gas': [5, 3, 4, 2], 'Other OpEx': [3, 2, 4, 4], 'CapEx': [3, 2, 4, 4], 'Finance': [3, 2, 4, 4], 'costs': {'technology': ['PEME', 'Alkaline', 'SMR', 'ATR'], 'Electricity': [5, 1, 4, 3], 'Gas': [5, 3, 4, 2], 'Other OpEx': [5, 2, 4, 4], 'CapEx': [5, 2, 4, 4], 'Finance': [5, 2, 4, 4]}}"
         ]
        }
       ]
      }
     },
     "749ecebdbc2e4c379b94847e69144bc0": {
      "model_module": "@jupyter-widgets/controls",
      "model_module_version": "1.5.0",
      "model_name": "IntSliderModel",
      "state": {
       "description": "e",
       "layout": "IPY_MODEL_7a391d49661046b8a948cfce16aff2b7",
       "max": 10,
       "style": "IPY_MODEL_b61acb8e1fff4e47af97cb43ccbe048d",
       "value": 5
      }
     },
     "75401055651d4fa79858bc44fb8e7fdb": {
      "model_module": "@jupyter-widgets/base",
      "model_module_version": "1.2.0",
      "model_name": "LayoutModel",
      "state": {}
     },
     "7687f16051c244af9449d1e794ad0b3b": {
      "model_module": "@jupyter-widgets/controls",
      "model_module_version": "1.5.0",
      "model_name": "IntSliderModel",
      "state": {
       "description": "d",
       "layout": "IPY_MODEL_0b4834642f50419da91192998622b712",
       "max": 10,
       "style": "IPY_MODEL_46b32276cb1e42b0903be0da8dd5daa8",
       "value": 5
      }
     },
     "76c878867ca3420eb14c6d988d8b4cef": {
      "model_module": "@jupyter-widgets/controls",
      "model_module_version": "1.5.0",
      "model_name": "VBoxModel",
      "state": {
       "_dom_classes": [
        "widget-interact"
       ],
       "children": [
        "IPY_MODEL_4610cf24a3da49a9ba386d9eb651b9e7",
        "IPY_MODEL_a8bcfaa959fd4a53b509e322e2044cee",
        "IPY_MODEL_c4d2d0a5f7344847bee36265cb82edcd",
        "IPY_MODEL_9d892b26c26b494da8f30a584b631c87",
        "IPY_MODEL_8d3a678f78484223b5d21ba68f800b79",
        "IPY_MODEL_4a22f8c1d72a4746b676a101412cc209"
       ],
       "layout": "IPY_MODEL_54a67e024a7a474d826f7a8c03ed9cc2"
      }
     },
     "7711a888d9a44a72a7e4f95ec2ce829d": {
      "model_module": "@jupyter-widgets/base",
      "model_module_version": "1.2.0",
      "model_name": "LayoutModel",
      "state": {}
     },
     "77b86877490a4c5a9cbc3a0aa077d960": {
      "model_module": "@jupyter-widgets/controls",
      "model_module_version": "1.5.0",
      "model_name": "SliderStyleModel",
      "state": {
       "description_width": ""
      }
     },
     "78307f801c9144f1b42f8b597ac3ef3e": {
      "model_module": "@jupyter-widgets/base",
      "model_module_version": "1.2.0",
      "model_name": "LayoutModel",
      "state": {}
     },
     "7a391d49661046b8a948cfce16aff2b7": {
      "model_module": "@jupyter-widgets/base",
      "model_module_version": "1.2.0",
      "model_name": "LayoutModel",
      "state": {}
     },
     "7a65e069476b40f3b5551f3a6b128dbb": {
      "model_module": "@jupyter-widgets/base",
      "model_module_version": "1.2.0",
      "model_name": "LayoutModel",
      "state": {}
     },
     "7a90bddd955c447786255829e17be427": {
      "model_module": "@jupyter-widgets/base",
      "model_module_version": "1.2.0",
      "model_name": "LayoutModel",
      "state": {}
     },
     "7ab791f1d8a0448d9a801f230f1f4845": {
      "model_module": "@jupyter-widgets/controls",
      "model_module_version": "1.5.0",
      "model_name": "SliderStyleModel",
      "state": {
       "description_width": ""
      }
     },
     "7b1c7a1df68944f39a0c0783aa24487b": {
      "model_module": "@jupyter-widgets/base",
      "model_module_version": "1.2.0",
      "model_name": "LayoutModel",
      "state": {}
     },
     "7b654e762f2d4b37a45a4cf574b0f045": {
      "model_module": "@jupyter-widgets/controls",
      "model_module_version": "1.5.0",
      "model_name": "IntSliderModel",
      "state": {
       "description": "c",
       "layout": "IPY_MODEL_64cd4705463a46788a6161b1517dc2ca",
       "max": 10,
       "style": "IPY_MODEL_d1e96a569c76485b91f20a7517caf125"
      }
     },
     "7b70b9170873480c9a9f70992531ac43": {
      "model_module": "@jupyter-widgets/output",
      "model_module_version": "1.0.0",
      "model_name": "OutputModel",
      "state": {
       "layout": "IPY_MODEL_b77fc8adf83741e7b69c753d782424bf",
       "outputs": [
        {
         "ename": "AttributeError",
         "evalue": "'list' object has no attribute 'data_source'",
         "output_type": "error",
         "traceback": [
          "\u001b[1;31m---------------------------------------------------------------------------\u001b[0m",
          "\u001b[1;31mAttributeError\u001b[0m                            Traceback (most recent call last)",
          "\u001b[1;32mC:\\tools\\Anaconda3\\lib\\site-packages\\ipywidgets\\widgets\\interaction.py\u001b[0m in \u001b[0;36mupdate\u001b[1;34m(self, *args)\u001b[0m\n\u001b[0;32m    254\u001b[0m                     \u001b[0mvalue\u001b[0m \u001b[1;33m=\u001b[0m \u001b[0mwidget\u001b[0m\u001b[1;33m.\u001b[0m\u001b[0mget_interact_value\u001b[0m\u001b[1;33m(\u001b[0m\u001b[1;33m)\u001b[0m\u001b[1;33m\u001b[0m\u001b[1;33m\u001b[0m\u001b[0m\n\u001b[0;32m    255\u001b[0m                     \u001b[0mself\u001b[0m\u001b[1;33m.\u001b[0m\u001b[0mkwargs\u001b[0m\u001b[1;33m[\u001b[0m\u001b[0mwidget\u001b[0m\u001b[1;33m.\u001b[0m\u001b[0m_kwarg\u001b[0m\u001b[1;33m]\u001b[0m \u001b[1;33m=\u001b[0m \u001b[0mvalue\u001b[0m\u001b[1;33m\u001b[0m\u001b[1;33m\u001b[0m\u001b[0m\n\u001b[1;32m--> 256\u001b[1;33m                 \u001b[0mself\u001b[0m\u001b[1;33m.\u001b[0m\u001b[0mresult\u001b[0m \u001b[1;33m=\u001b[0m \u001b[0mself\u001b[0m\u001b[1;33m.\u001b[0m\u001b[0mf\u001b[0m\u001b[1;33m(\u001b[0m\u001b[1;33m**\u001b[0m\u001b[0mself\u001b[0m\u001b[1;33m.\u001b[0m\u001b[0mkwargs\u001b[0m\u001b[1;33m)\u001b[0m\u001b[1;33m\u001b[0m\u001b[1;33m\u001b[0m\u001b[0m\n\u001b[0m\u001b[0;32m    257\u001b[0m                 \u001b[0mshow_inline_matplotlib_plots\u001b[0m\u001b[1;33m(\u001b[0m\u001b[1;33m)\u001b[0m\u001b[1;33m\u001b[0m\u001b[1;33m\u001b[0m\u001b[0m\n\u001b[0;32m    258\u001b[0m                 \u001b[1;32mif\u001b[0m \u001b[0mself\u001b[0m\u001b[1;33m.\u001b[0m\u001b[0mauto_display\u001b[0m \u001b[1;32mand\u001b[0m \u001b[0mself\u001b[0m\u001b[1;33m.\u001b[0m\u001b[0mresult\u001b[0m \u001b[1;32mis\u001b[0m \u001b[1;32mnot\u001b[0m \u001b[1;32mNone\u001b[0m\u001b[1;33m:\u001b[0m\u001b[1;33m\u001b[0m\u001b[1;33m\u001b[0m\u001b[0m\n",
          "\u001b[1;32m<ipython-input-105-9538d92b5713>\u001b[0m in \u001b[0;36mupdate\u001b[1;34m(a, b, c, d, e)\u001b[0m\n\u001b[0;32m      7\u001b[0m         \u001b[1;34m'Finance'\u001b[0m   \u001b[1;33m:\u001b[0m \u001b[1;33m[\u001b[0m\u001b[0me\u001b[0m\u001b[1;33m,\u001b[0m \u001b[1;36m2\u001b[0m\u001b[1;33m,\u001b[0m \u001b[1;36m4\u001b[0m\u001b[1;33m,\u001b[0m \u001b[1;36m4\u001b[0m\u001b[1;33m]\u001b[0m\u001b[1;33m,\u001b[0m\u001b[1;33m\u001b[0m\u001b[1;33m\u001b[0m\u001b[0m\n\u001b[0;32m      8\u001b[0m        }\n\u001b[1;32m----> 9\u001b[1;33m     \u001b[0mvbarplot\u001b[0m\u001b[1;33m.\u001b[0m\u001b[0mdata_source\u001b[0m\u001b[1;33m.\u001b[0m\u001b[0mdata\u001b[0m\u001b[1;33m[\u001b[0m\u001b[1;34m'costs'\u001b[0m\u001b[1;33m]\u001b[0m\u001b[1;33m=\u001b[0m\u001b[0mdata\u001b[0m\u001b[1;33m\u001b[0m\u001b[1;33m\u001b[0m\u001b[0m\n\u001b[0m\u001b[0;32m     10\u001b[0m     \u001b[0mpush_notebook\u001b[0m\u001b[1;33m(\u001b[0m\u001b[1;33m)\u001b[0m\u001b[1;33m\u001b[0m\u001b[1;33m\u001b[0m\u001b[0m\n",
          "\u001b[1;31mAttributeError\u001b[0m: 'list' object has no attribute 'data_source'"
         ]
        }
       ]
      }
     },
     "7b8e93edc7ea4ea99c3ecf969658f45c": {
      "model_module": "@jupyter-widgets/controls",
      "model_module_version": "1.5.0",
      "model_name": "SliderStyleModel",
      "state": {
       "description_width": ""
      }
     },
     "7bbf1818812b4bbbb9ef4e4814a84f04": {
      "model_module": "@jupyter-widgets/base",
      "model_module_version": "1.2.0",
      "model_name": "LayoutModel",
      "state": {}
     },
     "7bf6666d46534220a164651908c20787": {
      "model_module": "@jupyter-widgets/controls",
      "model_module_version": "1.5.0",
      "model_name": "IntSliderModel",
      "state": {
       "description": "d",
       "layout": "IPY_MODEL_0447c34fdc3c4cb79bb57994d606c007",
       "max": 10,
       "style": "IPY_MODEL_562b3707eb0840beb2d55779597d8af3",
       "value": 4
      }
     },
     "7c1420765a744c539244162945dc7dd9": {
      "model_module": "@jupyter-widgets/controls",
      "model_module_version": "1.5.0",
      "model_name": "SliderStyleModel",
      "state": {
       "description_width": ""
      }
     },
     "7c15e3049569442b8a2ad17730faa91b": {
      "model_module": "@jupyter-widgets/base",
      "model_module_version": "1.2.0",
      "model_name": "LayoutModel",
      "state": {}
     },
     "7c27d87a5c674494b3f1bf367894699f": {
      "model_module": "@jupyter-widgets/controls",
      "model_module_version": "1.5.0",
      "model_name": "IntSliderModel",
      "state": {
       "description": "c",
       "layout": "IPY_MODEL_5c3d6378cc66492480ba529092a8812a",
       "max": 10,
       "style": "IPY_MODEL_1249640f07ce4970ab8ad0894a8da287",
       "value": 5
      }
     },
     "7c6ac1f66ef642118467ead780830115": {
      "model_module": "@jupyter-widgets/controls",
      "model_module_version": "1.5.0",
      "model_name": "IntSliderModel",
      "state": {
       "description": "a",
       "layout": "IPY_MODEL_7bbf1818812b4bbbb9ef4e4814a84f04",
       "max": 10,
       "style": "IPY_MODEL_7385b637bad446318d8a5c81a78f8d62",
       "value": 3
      }
     },
     "7ccc3c52132c48fd9d559093b760f978": {
      "model_module": "@jupyter-widgets/controls",
      "model_module_version": "1.5.0",
      "model_name": "SliderStyleModel",
      "state": {
       "description_width": ""
      }
     },
     "7d044c6eed474db1bd6463cdd7eeaa5f": {
      "model_module": "@jupyter-widgets/controls",
      "model_module_version": "1.5.0",
      "model_name": "SliderStyleModel",
      "state": {
       "description_width": ""
      }
     },
     "7d2389a8f4d04b308448dd067023aa8e": {
      "model_module": "@jupyter-widgets/controls",
      "model_module_version": "1.5.0",
      "model_name": "SliderStyleModel",
      "state": {
       "description_width": ""
      }
     },
     "7d45876764474682a01b02705cf45bbd": {
      "model_module": "@jupyter-widgets/controls",
      "model_module_version": "1.5.0",
      "model_name": "IntSliderModel",
      "state": {
       "description": "c",
       "layout": "IPY_MODEL_7b1c7a1df68944f39a0c0783aa24487b",
       "max": 10,
       "style": "IPY_MODEL_619d82a77cf14c819860f17244add5a8",
       "value": 10
      }
     },
     "7ec0419306bc45a584c3f36230fcb6df": {
      "model_module": "@jupyter-widgets/controls",
      "model_module_version": "1.5.0",
      "model_name": "SliderStyleModel",
      "state": {
       "description_width": ""
      }
     },
     "7eda7a2e0f75416aaccba3d0f8966919": {
      "model_module": "@jupyter-widgets/controls",
      "model_module_version": "1.5.0",
      "model_name": "IntSliderModel",
      "state": {
       "description": "d",
       "layout": "IPY_MODEL_adf9985fa69b4ca1884c938eabde86cf",
       "max": 10,
       "style": "IPY_MODEL_540b72b3554342e6802f6f314a0d8a7a",
       "value": 5
      }
     },
     "7f7baf89e6364717afd527e47ecad9bc": {
      "model_module": "@jupyter-widgets/base",
      "model_module_version": "1.2.0",
      "model_name": "LayoutModel",
      "state": {}
     },
     "7fcbc72dadb5432890447ed3788662d0": {
      "model_module": "@jupyter-widgets/controls",
      "model_module_version": "1.5.0",
      "model_name": "IntSliderModel",
      "state": {
       "description": "d",
       "layout": "IPY_MODEL_d96cefb157344c47a90a127b47aa99dc",
       "max": 10,
       "style": "IPY_MODEL_67f28a46aa0247f7bbf840a12192f9cc"
      }
     },
     "802333613e9e40699633b31b0ec758dd": {
      "model_module": "@jupyter-widgets/base",
      "model_module_version": "1.2.0",
      "model_name": "LayoutModel",
      "state": {}
     },
     "8126d6b2a1c442fbbc3d2dd51839e449": {
      "model_module": "@jupyter-widgets/controls",
      "model_module_version": "1.5.0",
      "model_name": "SliderStyleModel",
      "state": {
       "description_width": ""
      }
     },
     "81c73343d4f84bb6bc6b8fb02298c5d5": {
      "model_module": "@jupyter-widgets/controls",
      "model_module_version": "1.5.0",
      "model_name": "IntSliderModel",
      "state": {
       "description": "e",
       "layout": "IPY_MODEL_78307f801c9144f1b42f8b597ac3ef3e",
       "max": 10,
       "style": "IPY_MODEL_1a581aa698d34474b66f90a101b52b1b"
      }
     },
     "821be336e2364e54b7828ec5d7523f0a": {
      "model_module": "@jupyter-widgets/base",
      "model_module_version": "1.2.0",
      "model_name": "LayoutModel",
      "state": {}
     },
     "827a6e8245774d199f188c75fc1db56b": {
      "model_module": "@jupyter-widgets/controls",
      "model_module_version": "1.5.0",
      "model_name": "IntSliderModel",
      "state": {
       "description": "d",
       "layout": "IPY_MODEL_6b74e4b7e4614a9286a992c239e4cf89",
       "max": 10,
       "style": "IPY_MODEL_aa8978be9cec4300933dcef1cb3d0b07",
       "value": 5
      }
     },
     "83fecc6337884bf382e5f8a5216e4ab7": {
      "model_module": "@jupyter-widgets/controls",
      "model_module_version": "1.5.0",
      "model_name": "SliderStyleModel",
      "state": {
       "description_width": ""
      }
     },
     "84448f3f2bb247a294a9e27cd0610465": {
      "model_module": "@jupyter-widgets/base",
      "model_module_version": "1.2.0",
      "model_name": "LayoutModel",
      "state": {}
     },
     "849f35fec4b54a3dbb3284e71e7d026a": {
      "model_module": "@jupyter-widgets/controls",
      "model_module_version": "1.5.0",
      "model_name": "IntSliderModel",
      "state": {
       "description": "c",
       "layout": "IPY_MODEL_8e607aa383d54108810d883a92ed1e06",
       "max": 10,
       "style": "IPY_MODEL_ff0e3b0438d44da8930e738a3b8a8a09",
       "value": 5
      }
     },
     "8551d4ab0165490e97241cd870bcc3dd": {
      "model_module": "@jupyter-widgets/controls",
      "model_module_version": "1.5.0",
      "model_name": "SliderStyleModel",
      "state": {
       "description_width": ""
      }
     },
     "855643abc05641178c8031aa3a7b7b6c": {
      "model_module": "@jupyter-widgets/base",
      "model_module_version": "1.2.0",
      "model_name": "LayoutModel",
      "state": {}
     },
     "86b2f6df9ee742eaad08eb633d981898": {
      "model_module": "@jupyter-widgets/controls",
      "model_module_version": "1.5.0",
      "model_name": "IntSliderModel",
      "state": {
       "description": "b",
       "layout": "IPY_MODEL_325c7d62a59c45aea11c39d8ea7d9158",
       "max": 10,
       "style": "IPY_MODEL_7d2389a8f4d04b308448dd067023aa8e",
       "value": 5
      }
     },
     "880605225bd444fb9a0260838317307a": {
      "model_module": "@jupyter-widgets/base",
      "model_module_version": "1.2.0",
      "model_name": "LayoutModel",
      "state": {}
     },
     "8984a5b398b44024b989f4d107011ba5": {
      "model_module": "@jupyter-widgets/base",
      "model_module_version": "1.2.0",
      "model_name": "LayoutModel",
      "state": {}
     },
     "8a56155ae81f4cd2abc2c01d9939b098": {
      "model_module": "@jupyter-widgets/base",
      "model_module_version": "1.2.0",
      "model_name": "LayoutModel",
      "state": {}
     },
     "8b44137bbd2f49a68983c7180fc3c51f": {
      "model_module": "@jupyter-widgets/controls",
      "model_module_version": "1.5.0",
      "model_name": "IntSliderModel",
      "state": {
       "description": "a",
       "layout": "IPY_MODEL_ec5a4e97e27e4705a93874695800bfed",
       "max": 10,
       "style": "IPY_MODEL_b17a1109f12a4780b9cd36967ac891cd",
       "value": 10
      }
     },
     "8b65ee8e5d9b41a0a85f4b16b100da3f": {
      "model_module": "@jupyter-widgets/base",
      "model_module_version": "1.2.0",
      "model_name": "LayoutModel",
      "state": {}
     },
     "8b6cd1320c2b4c178797d9fc901c528f": {
      "model_module": "@jupyter-widgets/base",
      "model_module_version": "1.2.0",
      "model_name": "LayoutModel",
      "state": {}
     },
     "8cec7c7ad1974578aa7da2215dcb0af7": {
      "model_module": "@jupyter-widgets/controls",
      "model_module_version": "1.5.0",
      "model_name": "SliderStyleModel",
      "state": {
       "description_width": ""
      }
     },
     "8d3a678f78484223b5d21ba68f800b79": {
      "model_module": "@jupyter-widgets/controls",
      "model_module_version": "1.5.0",
      "model_name": "IntSliderModel",
      "state": {
       "description": "e",
       "layout": "IPY_MODEL_fdea97ac1685464f96a0eb6f5d32f486",
       "max": 10,
       "style": "IPY_MODEL_77b86877490a4c5a9cbc3a0aa077d960",
       "value": 5
      }
     },
     "8e607aa383d54108810d883a92ed1e06": {
      "model_module": "@jupyter-widgets/base",
      "model_module_version": "1.2.0",
      "model_name": "LayoutModel",
      "state": {}
     },
     "8e70222509724601ab551c368c90e830": {
      "model_module": "@jupyter-widgets/controls",
      "model_module_version": "1.5.0",
      "model_name": "IntSliderModel",
      "state": {
       "description": "d",
       "layout": "IPY_MODEL_bed617c317564764b682c900bb28751e",
       "max": 10,
       "style": "IPY_MODEL_3705bfd0757846a38f52c65eb5a94c4d",
       "value": 10
      }
     },
     "8f212f1b1bfc43129ea6023377d6c345": {
      "model_module": "@jupyter-widgets/output",
      "model_module_version": "1.0.0",
      "model_name": "OutputModel",
      "state": {
       "layout": "IPY_MODEL_e2796fcea12e46f1bdc36fc30d94b95d"
      }
     },
     "8fe4a367acb44fcfb6df31b25767b6db": {
      "model_module": "@jupyter-widgets/base",
      "model_module_version": "1.2.0",
      "model_name": "LayoutModel",
      "state": {}
     },
     "9034c12816f9453bbca19383c6574273": {
      "model_module": "@jupyter-widgets/controls",
      "model_module_version": "1.5.0",
      "model_name": "SliderStyleModel",
      "state": {
       "description_width": ""
      }
     },
     "9038736044a64eed8b2a90beb4192ac2": {
      "model_module": "@jupyter-widgets/controls",
      "model_module_version": "1.5.0",
      "model_name": "SliderStyleModel",
      "state": {
       "description_width": ""
      }
     },
     "91166f3288cc400eac8e13ea8b402c88": {
      "model_module": "@jupyter-widgets/base",
      "model_module_version": "1.2.0",
      "model_name": "LayoutModel",
      "state": {}
     },
     "919d4708abc648a98c0597e5b99d2c92": {
      "model_module": "@jupyter-widgets/controls",
      "model_module_version": "1.5.0",
      "model_name": "IntSliderModel",
      "state": {
       "description": "c",
       "layout": "IPY_MODEL_b3b4ec42d8bc4a96986d03a19c8e9034",
       "max": 10,
       "style": "IPY_MODEL_5604683bb78e4c8a8de9b3da3b08ef21",
       "value": 5
      }
     },
     "9210a3945a564f2f9f548f5235ff790b": {
      "model_module": "@jupyter-widgets/base",
      "model_module_version": "1.2.0",
      "model_name": "LayoutModel",
      "state": {}
     },
     "92f022219dd94526bfe1e222afaae2a7": {
      "model_module": "@jupyter-widgets/controls",
      "model_module_version": "1.5.0",
      "model_name": "SliderStyleModel",
      "state": {
       "description_width": ""
      }
     },
     "961f4f4f2b5548b399b89229185e79c1": {
      "model_module": "@jupyter-widgets/controls",
      "model_module_version": "1.5.0",
      "model_name": "SliderStyleModel",
      "state": {
       "description_width": ""
      }
     },
     "965bba4aade54373ab3e612d3fe12c4b": {
      "model_module": "@jupyter-widgets/output",
      "model_module_version": "1.0.0",
      "model_name": "OutputModel",
      "state": {
       "layout": "IPY_MODEL_c9d876d1effb449dbd81ad8b45bf8101",
       "outputs": [
        {
         "name": "stdout",
         "output_type": "stream",
         "text": "{'technology': ['PEME', 'Alkaline', 'SMR', 'ATR'], 'Electricity': [0, 1, 4, 3], 'Gas': [0, 3, 4, 2], 'Other OpEx': [0, 2, 4, 4], 'CapEx': [0, 2, 4, 4], 'Finance': [1, 2, 4, 4]}\n{'technology': ['PEME', 'Alkaline', 'SMR', 'ATR'], 'Electricity': [0, 1, 4, 3], 'Gas': [0, 3, 4, 2], 'Other OpEx': [0, 2, 4, 4], 'CapEx': [0, 2, 4, 4], 'Finance': [0, 2, 4, 4]}\n"
        }
       ]
      }
     },
     "9770a0fbd43b4c4ab3343d6bc45b3428": {
      "model_module": "@jupyter-widgets/controls",
      "model_module_version": "1.5.0",
      "model_name": "IntSliderModel",
      "state": {
       "description": "e",
       "layout": "IPY_MODEL_b68c66b1ee304c299473825c1cf4164f",
       "max": 10,
       "style": "IPY_MODEL_476094af7fb343ea9b8aa5eb9957bf98",
       "value": 5
      }
     },
     "97dce8d44ab54b8cb693c1360ee7150a": {
      "model_module": "@jupyter-widgets/controls",
      "model_module_version": "1.5.0",
      "model_name": "SliderStyleModel",
      "state": {
       "description_width": ""
      }
     },
     "986343c7875e40f387bded80d2650f54": {
      "model_module": "@jupyter-widgets/output",
      "model_module_version": "1.0.0",
      "model_name": "OutputModel",
      "state": {
       "layout": "IPY_MODEL_84448f3f2bb247a294a9e27cd0610465"
      }
     },
     "996717a2015848bd945fb077a2c8412d": {
      "model_module": "@jupyter-widgets/controls",
      "model_module_version": "1.5.0",
      "model_name": "VBoxModel",
      "state": {
       "_dom_classes": [
        "widget-interact"
       ],
       "children": [
        "IPY_MODEL_7c6ac1f66ef642118467ead780830115",
        "IPY_MODEL_e3bf928ecb76474eb56cd660386f1d4d",
        "IPY_MODEL_b5bc84d166ed40a8bd3dfef3bd17b647",
        "IPY_MODEL_ee58b883056442ed975e4db7c922e3c0",
        "IPY_MODEL_b39624fe10224eceb5ff48c224bddaec",
        "IPY_MODEL_238736d55e1b475891feb37e02528177"
       ],
       "layout": "IPY_MODEL_b2923e18329348c08c6daa1eb79eaad1"
      }
     },
     "9bcba409e95e46b1a69c537ffb8b2fdf": {
      "model_module": "@jupyter-widgets/controls",
      "model_module_version": "1.5.0",
      "model_name": "SliderStyleModel",
      "state": {
       "description_width": ""
      }
     },
     "9bf7fc3767904f9aa059ad80268727dd": {
      "model_module": "@jupyter-widgets/controls",
      "model_module_version": "1.5.0",
      "model_name": "IntSliderModel",
      "state": {
       "description": "a",
       "layout": "IPY_MODEL_2d9007f493794efa84696526c2f4c7f8",
       "max": 10,
       "style": "IPY_MODEL_4dbd4aba7b524b61a8f565fcdb072f04",
       "value": 5
      }
     },
     "9cd10b62f3ce4b3bbf002cbb0c3fd96f": {
      "model_module": "@jupyter-widgets/output",
      "model_module_version": "1.0.0",
      "model_name": "OutputModel",
      "state": {
       "layout": "IPY_MODEL_f8b8c264a67b4451882f27729279c320",
       "outputs": [
        {
         "ename": "NameError",
         "evalue": "name 'CAPEXs' is not defined",
         "output_type": "error",
         "traceback": [
          "\u001b[1;31m---------------------------------------------------------------------------\u001b[0m",
          "\u001b[1;31mNameError\u001b[0m                                 Traceback (most recent call last)",
          "\u001b[1;32mC:\\tools\\Anaconda3\\lib\\site-packages\\ipywidgets\\widgets\\interaction.py\u001b[0m in \u001b[0;36mupdate\u001b[1;34m(self, *args)\u001b[0m\n\u001b[0;32m    254\u001b[0m                     \u001b[0mvalue\u001b[0m \u001b[1;33m=\u001b[0m \u001b[0mwidget\u001b[0m\u001b[1;33m.\u001b[0m\u001b[0mget_interact_value\u001b[0m\u001b[1;33m(\u001b[0m\u001b[1;33m)\u001b[0m\u001b[1;33m\u001b[0m\u001b[1;33m\u001b[0m\u001b[0m\n\u001b[0;32m    255\u001b[0m                     \u001b[0mself\u001b[0m\u001b[1;33m.\u001b[0m\u001b[0mkwargs\u001b[0m\u001b[1;33m[\u001b[0m\u001b[0mwidget\u001b[0m\u001b[1;33m.\u001b[0m\u001b[0m_kwarg\u001b[0m\u001b[1;33m]\u001b[0m \u001b[1;33m=\u001b[0m \u001b[0mvalue\u001b[0m\u001b[1;33m\u001b[0m\u001b[1;33m\u001b[0m\u001b[0m\n\u001b[1;32m--> 256\u001b[1;33m                 \u001b[0mself\u001b[0m\u001b[1;33m.\u001b[0m\u001b[0mresult\u001b[0m \u001b[1;33m=\u001b[0m \u001b[0mself\u001b[0m\u001b[1;33m.\u001b[0m\u001b[0mf\u001b[0m\u001b[1;33m(\u001b[0m\u001b[1;33m**\u001b[0m\u001b[0mself\u001b[0m\u001b[1;33m.\u001b[0m\u001b[0mkwargs\u001b[0m\u001b[1;33m)\u001b[0m\u001b[1;33m\u001b[0m\u001b[1;33m\u001b[0m\u001b[0m\n\u001b[0m\u001b[0;32m    257\u001b[0m                 \u001b[0mshow_inline_matplotlib_plots\u001b[0m\u001b[1;33m(\u001b[0m\u001b[1;33m)\u001b[0m\u001b[1;33m\u001b[0m\u001b[1;33m\u001b[0m\u001b[0m\n\u001b[0;32m    258\u001b[0m                 \u001b[1;32mif\u001b[0m \u001b[0mself\u001b[0m\u001b[1;33m.\u001b[0m\u001b[0mauto_display\u001b[0m \u001b[1;32mand\u001b[0m \u001b[0mself\u001b[0m\u001b[1;33m.\u001b[0m\u001b[0mresult\u001b[0m \u001b[1;32mis\u001b[0m \u001b[1;32mnot\u001b[0m \u001b[1;32mNone\u001b[0m\u001b[1;33m:\u001b[0m\u001b[1;33m\u001b[0m\u001b[1;33m\u001b[0m\u001b[0m\n",
          "\u001b[1;32m<ipython-input-61-8239cdc1e8ac>\u001b[0m in \u001b[0;36mupdate\u001b[1;34m(a, b, c, d, e)\u001b[0m\n\u001b[0;32m      1\u001b[0m \u001b[1;32mdef\u001b[0m \u001b[0mupdate\u001b[0m\u001b[1;33m(\u001b[0m\u001b[0ma\u001b[0m\u001b[1;33m,\u001b[0m\u001b[0mb\u001b[0m\u001b[1;33m,\u001b[0m\u001b[0mc\u001b[0m\u001b[1;33m,\u001b[0m\u001b[0md\u001b[0m\u001b[1;33m,\u001b[0m\u001b[0me\u001b[0m\u001b[1;33m)\u001b[0m\u001b[1;33m:\u001b[0m\u001b[1;33m\u001b[0m\u001b[1;33m\u001b[0m\u001b[0m\n\u001b[1;32m----> 2\u001b[1;33m     \u001b[0mCAPEX\u001b[0m \u001b[1;33m=\u001b[0m \u001b[0mCAPEXs\u001b[0m\u001b[1;33m\u001b[0m\u001b[1;33m\u001b[0m\u001b[0m\n\u001b[0m\u001b[0;32m      3\u001b[0m     \u001b[0mpush_notebook\u001b[0m\u001b[1;33m(\u001b[0m\u001b[0mhandle\u001b[0m\u001b[1;33m=\u001b[0m\u001b[0mt\u001b[0m\u001b[1;33m)\u001b[0m\u001b[1;33m\u001b[0m\u001b[1;33m\u001b[0m\u001b[0m\n",
          "\u001b[1;31mNameError\u001b[0m: name 'CAPEXs' is not defined"
         ]
        }
       ]
      }
     },
     "9d892b26c26b494da8f30a584b631c87": {
      "model_module": "@jupyter-widgets/controls",
      "model_module_version": "1.5.0",
      "model_name": "IntSliderModel",
      "state": {
       "description": "d",
       "layout": "IPY_MODEL_5adeb6bd29a445898cb7cf69c740ac5a",
       "max": 10,
       "style": "IPY_MODEL_00e05c80c51e4ec4bc1194f83c307a95",
       "value": 5
      }
     },
     "9d8c9f5664e04b918c2023413c83e6a6": {
      "model_module": "@jupyter-widgets/controls",
      "model_module_version": "1.5.0",
      "model_name": "VBoxModel",
      "state": {
       "_dom_classes": [
        "widget-interact"
       ],
       "layout": "IPY_MODEL_5582d4af93274dfebdbf930136485ff6"
      }
     },
     "9dc14a23a2774571b19792406d395bc5": {
      "model_module": "@jupyter-widgets/base",
      "model_module_version": "1.2.0",
      "model_name": "LayoutModel",
      "state": {}
     },
     "9f3ae19cbda7494cbbb53afe5e655829": {
      "model_module": "@jupyter-widgets/controls",
      "model_module_version": "1.5.0",
      "model_name": "IntSliderModel",
      "state": {
       "description": "b",
       "layout": "IPY_MODEL_e14f67182c5047d8ac78b197d210ab44",
       "max": 10,
       "style": "IPY_MODEL_bf2abf2e1cd94f98a9a0f11bb4c9213b",
       "value": 5
      }
     },
     "9f62ec4731f34a55ac833be461ab7590": {
      "model_module": "@jupyter-widgets/base",
      "model_module_version": "1.2.0",
      "model_name": "LayoutModel",
      "state": {}
     },
     "9f9e1e683e424c2195e1d929abeecff0": {
      "model_module": "@jupyter-widgets/controls",
      "model_module_version": "1.5.0",
      "model_name": "IntSliderModel",
      "state": {
       "description": "a",
       "layout": "IPY_MODEL_3972ffbc24c841de8030d755e17810d7",
       "max": 10,
       "style": "IPY_MODEL_7ccc3c52132c48fd9d559093b760f978",
       "value": 5
      }
     },
     "9fc115b3989b4ead9ae49081ba9cdc47": {
      "model_module": "@jupyter-widgets/controls",
      "model_module_version": "1.5.0",
      "model_name": "SliderStyleModel",
      "state": {
       "description_width": ""
      }
     },
     "a0ee9dc961bd41bfa5b36282fd37e862": {
      "model_module": "@jupyter-widgets/controls",
      "model_module_version": "1.5.0",
      "model_name": "VBoxModel",
      "state": {
       "_dom_classes": [
        "widget-interact"
       ],
       "children": [
        "IPY_MODEL_5ab34b9a313444459531c6223ca73570",
        "IPY_MODEL_f40ab69d199741df97a4688027d57b7d",
        "IPY_MODEL_6ca8ab5168f246c896912b6f90eea80e",
        "IPY_MODEL_6e3a74de934943649bd52fd83a1ef7f8",
        "IPY_MODEL_6f038248f86a462a9fdcf9f0e0cd4fca",
        "IPY_MODEL_4ee5d4378f5d4ccb969ffaaf0e19dc34"
       ],
       "layout": "IPY_MODEL_dde7c4ccdcb04a5b94c551ec52771ecc"
      }
     },
     "a137917c964740b795e6688a0a99a61f": {
      "model_module": "@jupyter-widgets/controls",
      "model_module_version": "1.5.0",
      "model_name": "SliderStyleModel",
      "state": {
       "description_width": ""
      }
     },
     "a276f946471e49ecb8891a412d80e314": {
      "model_module": "@jupyter-widgets/controls",
      "model_module_version": "1.5.0",
      "model_name": "IntSliderModel",
      "state": {
       "description": "d",
       "layout": "IPY_MODEL_1f8e57ffcd7c470da13c6a5b9f8ddc73",
       "max": 10,
       "style": "IPY_MODEL_7d044c6eed474db1bd6463cdd7eeaa5f",
       "value": 5
      }
     },
     "a2c0695719f645599036e8561d4098fd": {
      "model_module": "@jupyter-widgets/base",
      "model_module_version": "1.2.0",
      "model_name": "LayoutModel",
      "state": {}
     },
     "a3420e610e8146d7aea0e4f57c3e3071": {
      "model_module": "@jupyter-widgets/base",
      "model_module_version": "1.2.0",
      "model_name": "LayoutModel",
      "state": {}
     },
     "a63c5e6706e143699987449c53331158": {
      "model_module": "@jupyter-widgets/controls",
      "model_module_version": "1.5.0",
      "model_name": "SliderStyleModel",
      "state": {
       "description_width": ""
      }
     },
     "a8bcfaa959fd4a53b509e322e2044cee": {
      "model_module": "@jupyter-widgets/controls",
      "model_module_version": "1.5.0",
      "model_name": "IntSliderModel",
      "state": {
       "description": "b",
       "layout": "IPY_MODEL_4c4cef49724d4ec1a4dab909796d5f11",
       "max": 10,
       "style": "IPY_MODEL_b4f0daf334014a7b88ff54e4f1f3a4e5",
       "value": 5
      }
     },
     "a99e4202d5bb4603a5c6e5d285baf131": {
      "model_module": "@jupyter-widgets/controls",
      "model_module_version": "1.5.0",
      "model_name": "SliderStyleModel",
      "state": {
       "description_width": ""
      }
     },
     "aa8978be9cec4300933dcef1cb3d0b07": {
      "model_module": "@jupyter-widgets/controls",
      "model_module_version": "1.5.0",
      "model_name": "SliderStyleModel",
      "state": {
       "description_width": ""
      }
     },
     "aa94936303e4406ba4ad872a5e986309": {
      "model_module": "@jupyter-widgets/base",
      "model_module_version": "1.2.0",
      "model_name": "LayoutModel",
      "state": {}
     },
     "ab0e99ad8a7f4e05ac57c7909d4ee776": {
      "model_module": "@jupyter-widgets/controls",
      "model_module_version": "1.5.0",
      "model_name": "SliderStyleModel",
      "state": {
       "description_width": ""
      }
     },
     "ab45b90db4e24b3a927c139063ccbc9a": {
      "model_module": "@jupyter-widgets/base",
      "model_module_version": "1.2.0",
      "model_name": "LayoutModel",
      "state": {}
     },
     "aba5ac4e728d4bf4acec5b1934fcaa55": {
      "model_module": "@jupyter-widgets/base",
      "model_module_version": "1.2.0",
      "model_name": "LayoutModel",
      "state": {}
     },
     "ac7953e6e24044e3b286eb6bd052c363": {
      "model_module": "@jupyter-widgets/controls",
      "model_module_version": "1.5.0",
      "model_name": "SliderStyleModel",
      "state": {
       "description_width": ""
      }
     },
     "acee21f509e042628f18a1819e750e6e": {
      "model_module": "@jupyter-widgets/controls",
      "model_module_version": "1.5.0",
      "model_name": "SliderStyleModel",
      "state": {
       "description_width": ""
      }
     },
     "adf9985fa69b4ca1884c938eabde86cf": {
      "model_module": "@jupyter-widgets/base",
      "model_module_version": "1.2.0",
      "model_name": "LayoutModel",
      "state": {}
     },
     "aeec0dbf2d7d45fc9c775b586546180f": {
      "model_module": "@jupyter-widgets/controls",
      "model_module_version": "1.5.0",
      "model_name": "VBoxModel",
      "state": {
       "_dom_classes": [
        "widget-interact"
       ],
       "children": [
        "IPY_MODEL_bf20e1cafd7046599a90a2f62e108d74",
        "IPY_MODEL_86b2f6df9ee742eaad08eb633d981898",
        "IPY_MODEL_919d4708abc648a98c0597e5b99d2c92",
        "IPY_MODEL_7eda7a2e0f75416aaccba3d0f8966919",
        "IPY_MODEL_da3e1a4a26cb4db8b9beecb38c3065c1",
        "IPY_MODEL_592c89c646924568bd37f2694e5ac3fa"
       ],
       "layout": "IPY_MODEL_bf894c3a7bd7486aa380c9701a6898a2"
      }
     },
     "b0678ee46f8b4e1588df89e06f4703ee": {
      "model_module": "@jupyter-widgets/base",
      "model_module_version": "1.2.0",
      "model_name": "LayoutModel",
      "state": {}
     },
     "b0ffec22c5ee41e1867cda2a1cccc140": {
      "model_module": "@jupyter-widgets/controls",
      "model_module_version": "1.5.0",
      "model_name": "IntSliderModel",
      "state": {
       "description": "c",
       "layout": "IPY_MODEL_16770c3ecbdc49cdb1f6e75e2f1212f9",
       "max": 10,
       "style": "IPY_MODEL_d2719d6243a94ab3976be1bcbbb34189",
       "value": 5
      }
     },
     "b17a1109f12a4780b9cd36967ac891cd": {
      "model_module": "@jupyter-widgets/controls",
      "model_module_version": "1.5.0",
      "model_name": "SliderStyleModel",
      "state": {
       "description_width": ""
      }
     },
     "b1af1dfcff84474b9d602cd545c22558": {
      "model_module": "@jupyter-widgets/controls",
      "model_module_version": "1.5.0",
      "model_name": "SliderStyleModel",
      "state": {
       "description_width": ""
      }
     },
     "b2079404857840688ce42b464e36ec1e": {
      "model_module": "@jupyter-widgets/controls",
      "model_module_version": "1.5.0",
      "model_name": "SliderStyleModel",
      "state": {
       "description_width": ""
      }
     },
     "b2923e18329348c08c6daa1eb79eaad1": {
      "model_module": "@jupyter-widgets/base",
      "model_module_version": "1.2.0",
      "model_name": "LayoutModel",
      "state": {}
     },
     "b39624fe10224eceb5ff48c224bddaec": {
      "model_module": "@jupyter-widgets/controls",
      "model_module_version": "1.5.0",
      "model_name": "IntSliderModel",
      "state": {
       "description": "e",
       "layout": "IPY_MODEL_2c2273e1315643719ed45b68e2cceb49",
       "max": 10,
       "style": "IPY_MODEL_dd9ec78bfc65418ead88ee58b30f4704",
       "value": 3
      }
     },
     "b396aa693b62406f99634e34085d6346": {
      "model_module": "@jupyter-widgets/controls",
      "model_module_version": "1.5.0",
      "model_name": "VBoxModel",
      "state": {
       "_dom_classes": [
        "widget-interact"
       ],
       "children": [
        "IPY_MODEL_bf3910d56f8b4d2198896852e3dbb18d",
        "IPY_MODEL_5dbaa4ee6ca444bbb886b25d955660e0",
        "IPY_MODEL_3decdffb05404c07afc72b2620a4720a",
        "IPY_MODEL_827a6e8245774d199f188c75fc1db56b",
        "IPY_MODEL_e04cbeabbb9746799a45f945351d6f61",
        "IPY_MODEL_607a0781139e4ca88bdc73c69515eec1"
       ],
       "layout": "IPY_MODEL_faf65657fe90486ab226be155b275ed5"
      }
     },
     "b3b4ec42d8bc4a96986d03a19c8e9034": {
      "model_module": "@jupyter-widgets/base",
      "model_module_version": "1.2.0",
      "model_name": "LayoutModel",
      "state": {}
     },
     "b3ec71ea1539474fbc1939f66680b301": {
      "model_module": "@jupyter-widgets/base",
      "model_module_version": "1.2.0",
      "model_name": "LayoutModel",
      "state": {}
     },
     "b448456219e04b49a52cb7e3cbfc732f": {
      "model_module": "@jupyter-widgets/base",
      "model_module_version": "1.2.0",
      "model_name": "LayoutModel",
      "state": {}
     },
     "b4e97a2da224403c86f75bfaaf51ef73": {
      "model_module": "@jupyter-widgets/base",
      "model_module_version": "1.2.0",
      "model_name": "LayoutModel",
      "state": {}
     },
     "b4f0daf334014a7b88ff54e4f1f3a4e5": {
      "model_module": "@jupyter-widgets/controls",
      "model_module_version": "1.5.0",
      "model_name": "SliderStyleModel",
      "state": {
       "description_width": ""
      }
     },
     "b57a94f53bd141d69a59ffd11fabc2e5": {
      "model_module": "@jupyter-widgets/base",
      "model_module_version": "1.2.0",
      "model_name": "LayoutModel",
      "state": {}
     },
     "b5bc84d166ed40a8bd3dfef3bd17b647": {
      "model_module": "@jupyter-widgets/controls",
      "model_module_version": "1.5.0",
      "model_name": "IntSliderModel",
      "state": {
       "description": "c",
       "layout": "IPY_MODEL_e5ced271c337419180721c6d3a55efe7",
       "max": 10,
       "style": "IPY_MODEL_83fecc6337884bf382e5f8a5216e4ab7",
       "value": 3
      }
     },
     "b61acb8e1fff4e47af97cb43ccbe048d": {
      "model_module": "@jupyter-widgets/controls",
      "model_module_version": "1.5.0",
      "model_name": "SliderStyleModel",
      "state": {
       "description_width": ""
      }
     },
     "b68c66b1ee304c299473825c1cf4164f": {
      "model_module": "@jupyter-widgets/base",
      "model_module_version": "1.2.0",
      "model_name": "LayoutModel",
      "state": {}
     },
     "b6d4af7c24a342868e44b2703cc62226": {
      "model_module": "@jupyter-widgets/controls",
      "model_module_version": "1.5.0",
      "model_name": "SliderStyleModel",
      "state": {
       "description_width": ""
      }
     },
     "b77fc8adf83741e7b69c753d782424bf": {
      "model_module": "@jupyter-widgets/base",
      "model_module_version": "1.2.0",
      "model_name": "LayoutModel",
      "state": {}
     },
     "b83679c5237f4f5485f0d409bc1cbe9e": {
      "model_module": "@jupyter-widgets/base",
      "model_module_version": "1.2.0",
      "model_name": "LayoutModel",
      "state": {}
     },
     "b876922321544fdb8a58e713d0ad92b2": {
      "model_module": "@jupyter-widgets/base",
      "model_module_version": "1.2.0",
      "model_name": "LayoutModel",
      "state": {}
     },
     "b8a5a8e7330540518269a69b41e7ca78": {
      "model_module": "@jupyter-widgets/controls",
      "model_module_version": "1.5.0",
      "model_name": "IntSliderModel",
      "state": {
       "description": "c",
       "layout": "IPY_MODEL_7c15e3049569442b8a2ad17730faa91b",
       "max": 10,
       "style": "IPY_MODEL_8cec7c7ad1974578aa7da2215dcb0af7",
       "value": 5
      }
     },
     "b9d768682b7e4006886779cbea4a622e": {
      "model_module": "@jupyter-widgets/base",
      "model_module_version": "1.2.0",
      "model_name": "LayoutModel",
      "state": {}
     },
     "ba2e52383a894f2f8a0347e59d1af642": {
      "model_module": "@jupyter-widgets/base",
      "model_module_version": "1.2.0",
      "model_name": "LayoutModel",
      "state": {}
     },
     "ba71614033f74d9f8f61ed8e69beadf6": {
      "model_module": "@jupyter-widgets/base",
      "model_module_version": "1.2.0",
      "model_name": "LayoutModel",
      "state": {}
     },
     "badb0a3292954b30a9f0d7416f81a251": {
      "model_module": "@jupyter-widgets/controls",
      "model_module_version": "1.5.0",
      "model_name": "VBoxModel",
      "state": {
       "_dom_classes": [
        "widget-interact"
       ],
       "children": [
        "IPY_MODEL_c5fff0024c3e43668adef64e3c46ebcc",
        "IPY_MODEL_9f3ae19cbda7494cbbb53afe5e655829",
        "IPY_MODEL_b8a5a8e7330540518269a69b41e7ca78",
        "IPY_MODEL_f3c894add0fc4b29a493500c31913373",
        "IPY_MODEL_562d510e8691410c8d691be6d090bd2e",
        "IPY_MODEL_73b967acdf6d4c0d98691c0d1377dc26"
       ],
       "layout": "IPY_MODEL_e7deb38d7acc4923ab86368c7eb67484"
      }
     },
     "bb557056d130440ca2ac7d1d2108acd1": {
      "model_module": "@jupyter-widgets/controls",
      "model_module_version": "1.5.0",
      "model_name": "IntSliderModel",
      "state": {
       "description": "d",
       "layout": "IPY_MODEL_e1e232c324014dcd88245e0c672db7d6",
       "max": 10,
       "style": "IPY_MODEL_cf38c6c5778140f18dbb64310671f087",
       "value": 5
      }
     },
     "bb9f25297916446b924246e3c3f14cb3": {
      "model_module": "@jupyter-widgets/controls",
      "model_module_version": "1.5.0",
      "model_name": "IntSliderModel",
      "state": {
       "description": "c",
       "layout": "IPY_MODEL_bcd64d337a094c76bcd48423bda099f7",
       "max": 10,
       "style": "IPY_MODEL_ca3c9fab4df846dda1b5c1e6a5054ecd",
       "value": 10
      }
     },
     "bcd64d337a094c76bcd48423bda099f7": {
      "model_module": "@jupyter-widgets/base",
      "model_module_version": "1.2.0",
      "model_name": "LayoutModel",
      "state": {}
     },
     "bed617c317564764b682c900bb28751e": {
      "model_module": "@jupyter-widgets/base",
      "model_module_version": "1.2.0",
      "model_name": "LayoutModel",
      "state": {}
     },
     "bf20e1cafd7046599a90a2f62e108d74": {
      "model_module": "@jupyter-widgets/controls",
      "model_module_version": "1.5.0",
      "model_name": "IntSliderModel",
      "state": {
       "description": "a",
       "layout": "IPY_MODEL_06f1b93311cd4b4a94fe3730a6e2958e",
       "max": 10,
       "style": "IPY_MODEL_ab0e99ad8a7f4e05ac57c7909d4ee776",
       "value": 5
      }
     },
     "bf2abf2e1cd94f98a9a0f11bb4c9213b": {
      "model_module": "@jupyter-widgets/controls",
      "model_module_version": "1.5.0",
      "model_name": "SliderStyleModel",
      "state": {
       "description_width": ""
      }
     },
     "bf3910d56f8b4d2198896852e3dbb18d": {
      "model_module": "@jupyter-widgets/controls",
      "model_module_version": "1.5.0",
      "model_name": "IntSliderModel",
      "state": {
       "description": "a",
       "layout": "IPY_MODEL_4e8cca75c1f34791acdbf8dc2aae6d91",
       "max": 10,
       "style": "IPY_MODEL_0e31ae24d93648e6885a581367ff2855",
       "value": 5
      }
     },
     "bf44878bd359401ea23cb100d6ba5cd0": {
      "model_module": "@jupyter-widgets/base",
      "model_module_version": "1.2.0",
      "model_name": "LayoutModel",
      "state": {}
     },
     "bf894c3a7bd7486aa380c9701a6898a2": {
      "model_module": "@jupyter-widgets/base",
      "model_module_version": "1.2.0",
      "model_name": "LayoutModel",
      "state": {}
     },
     "bfff0a3a952a4d86a0bce96af55a19d1": {
      "model_module": "@jupyter-widgets/base",
      "model_module_version": "1.2.0",
      "model_name": "LayoutModel",
      "state": {}
     },
     "c0d2f6bb9c094851a08bfe3541311eb3": {
      "model_module": "@jupyter-widgets/controls",
      "model_module_version": "1.5.0",
      "model_name": "VBoxModel",
      "state": {
       "_dom_classes": [
        "widget-interact"
       ],
       "children": [
        "IPY_MODEL_6a8302f518324bf8b4d201f5f62225a9",
        "IPY_MODEL_559138ddfebf499d9e8d05d27690bff3",
        "IPY_MODEL_7b654e762f2d4b37a45a4cf574b0f045",
        "IPY_MODEL_439d4a3fd20f4fa4a6e8cae92a656940",
        "IPY_MODEL_81c73343d4f84bb6bc6b8fb02298c5d5",
        "IPY_MODEL_965bba4aade54373ab3e612d3fe12c4b"
       ],
       "layout": "IPY_MODEL_2690c52c22c34f92ba70a80adc95c7f2"
      }
     },
     "c12cf4583c1a4bbf8b57ac1372e8cb7f": {
      "model_module": "@jupyter-widgets/controls",
      "model_module_version": "1.5.0",
      "model_name": "SliderStyleModel",
      "state": {
       "description_width": ""
      }
     },
     "c361ebbdfd3b464ba9c33e8926d14f34": {
      "model_module": "@jupyter-widgets/controls",
      "model_module_version": "1.5.0",
      "model_name": "SliderStyleModel",
      "state": {
       "description_width": ""
      }
     },
     "c43a8074be87407d8d16f7594e9d389f": {
      "model_module": "@jupyter-widgets/base",
      "model_module_version": "1.2.0",
      "model_name": "LayoutModel",
      "state": {}
     },
     "c49c4cf5c45146b7a7b20a1986cc79e1": {
      "model_module": "@jupyter-widgets/controls",
      "model_module_version": "1.5.0",
      "model_name": "VBoxModel",
      "state": {
       "_dom_classes": [
        "widget-interact"
       ],
       "children": [
        "IPY_MODEL_0a75635f658e48128a63eb3d18454301",
        "IPY_MODEL_4ccad38c21bb42569a7fba5695a14059",
        "IPY_MODEL_64e771149f7a4eae80545f0b45dcf163",
        "IPY_MODEL_bb557056d130440ca2ac7d1d2108acd1",
        "IPY_MODEL_d7227840088b49e2937e0c23461518ce",
        "IPY_MODEL_6c71488ce82f48d9b7dfb46461c8fc63"
       ],
       "layout": "IPY_MODEL_19dd0b3383a54fe987ea91c4d01ea85b"
      }
     },
     "c4c2a2df857c4d26b6248dd43e1f6610": {
      "model_module": "@jupyter-widgets/controls",
      "model_module_version": "1.5.0",
      "model_name": "IntSliderModel",
      "state": {
       "description": "e",
       "layout": "IPY_MODEL_bf44878bd359401ea23cb100d6ba5cd0",
       "max": 10,
       "style": "IPY_MODEL_306e11df6ce0475ba469f914e3feebe2",
       "value": 10
      }
     },
     "c4d2d0a5f7344847bee36265cb82edcd": {
      "model_module": "@jupyter-widgets/controls",
      "model_module_version": "1.5.0",
      "model_name": "IntSliderModel",
      "state": {
       "description": "c",
       "layout": "IPY_MODEL_43da09f0e2104a06b2dbf8a051b06bad",
       "max": 10,
       "style": "IPY_MODEL_97dce8d44ab54b8cb693c1360ee7150a",
       "value": 5
      }
     },
     "c5329878cc5d4b15bb7001612a114b30": {
      "model_module": "@jupyter-widgets/base",
      "model_module_version": "1.2.0",
      "model_name": "LayoutModel",
      "state": {}
     },
     "c5797b9d32b14e30a8cace0a21256562": {
      "model_module": "@jupyter-widgets/controls",
      "model_module_version": "1.5.0",
      "model_name": "SliderStyleModel",
      "state": {
       "description_width": ""
      }
     },
     "c58bb0fc6acf4272a5fcb1c81f7f74db": {
      "model_module": "@jupyter-widgets/controls",
      "model_module_version": "1.5.0",
      "model_name": "IntSliderModel",
      "state": {
       "description": "c",
       "layout": "IPY_MODEL_9dc14a23a2774571b19792406d395bc5",
       "max": 10,
       "style": "IPY_MODEL_7ec0419306bc45a584c3f36230fcb6df",
       "value": 5
      }
     },
     "c5fb29b1c3894d46ac23e3167f315e74": {
      "model_module": "@jupyter-widgets/controls",
      "model_module_version": "1.5.0",
      "model_name": "SliderStyleModel",
      "state": {
       "description_width": ""
      }
     },
     "c5fff0024c3e43668adef64e3c46ebcc": {
      "model_module": "@jupyter-widgets/controls",
      "model_module_version": "1.5.0",
      "model_name": "IntSliderModel",
      "state": {
       "description": "a",
       "layout": "IPY_MODEL_821be336e2364e54b7828ec5d7523f0a",
       "max": 10,
       "style": "IPY_MODEL_1125b932242241ccbfc6b74ea062f76d",
       "value": 5
      }
     },
     "c721240f6938496c8e38103f282d7091": {
      "model_module": "@jupyter-widgets/controls",
      "model_module_version": "1.5.0",
      "model_name": "IntSliderModel",
      "state": {
       "description": "e",
       "layout": "IPY_MODEL_c5329878cc5d4b15bb7001612a114b30",
       "max": 10,
       "style": "IPY_MODEL_c12cf4583c1a4bbf8b57ac1372e8cb7f",
       "value": 10
      }
     },
     "c7529392f74341329647bdea2d954cf9": {
      "model_module": "@jupyter-widgets/controls",
      "model_module_version": "1.5.0",
      "model_name": "IntSliderModel",
      "state": {
       "description": "a",
       "layout": "IPY_MODEL_5bd6d98c73034b7b91c3722d7b1b7793",
       "max": 10,
       "style": "IPY_MODEL_45480d9a002f421fa48f133ed32e0492",
       "value": 5
      }
     },
     "c7b9a2b6ab034943aaa27d8048fbf469": {
      "model_module": "@jupyter-widgets/controls",
      "model_module_version": "1.5.0",
      "model_name": "IntSliderModel",
      "state": {
       "description": "a",
       "layout": "IPY_MODEL_75401055651d4fa79858bc44fb8e7fdb",
       "max": 10,
       "style": "IPY_MODEL_1f447246a3b64d4ba0acde5abd37c94f",
       "value": 3
      }
     },
     "c8751b9bce6e463a9b5e9605874db61d": {
      "model_module": "@jupyter-widgets/output",
      "model_module_version": "1.0.0",
      "model_name": "OutputModel",
      "state": {
       "layout": "IPY_MODEL_48302091572c4c598e8d4acd1d519a73",
       "outputs": [
        {
         "name": "stdout",
         "output_type": "stream",
         "text": "{'technology': ['PEME', 'Alkaline', 'SMR', 'ATR'], 'Electricity': [10, 1, 4, 3], 'Gas': [10, 3, 4, 2], 'Other OpEx': [10, 2, 4, 4], 'CapEx': [10, 2, 4, 4], 'Finance': [7, 2, 4, 4]}\n{'technology': ['PEME', 'Alkaline', 'SMR', 'ATR'], 'Electricity': [10, 1, 4, 3], 'Gas': [10, 3, 4, 2], 'Other OpEx': [10, 2, 4, 4], 'CapEx': [10, 2, 4, 4], 'Finance': [10, 2, 4, 4]}\n"
        }
       ]
      }
     },
     "c8d53e791dcf4bc49e1dc078f77b8880": {
      "model_module": "@jupyter-widgets/controls",
      "model_module_version": "1.5.0",
      "model_name": "IntSliderModel",
      "state": {
       "description": "c",
       "layout": "IPY_MODEL_8a56155ae81f4cd2abc2c01d9939b098",
       "max": 10,
       "style": "IPY_MODEL_09792b029b104279a4937aa4c804d5e4",
       "value": 5
      }
     },
     "c9081fcc4bb24622ad3b74475fb1276e": {
      "model_module": "@jupyter-widgets/base",
      "model_module_version": "1.2.0",
      "model_name": "LayoutModel",
      "state": {}
     },
     "c97e1e1c518d4b0eaed04a1730f5c7e5": {
      "model_module": "@jupyter-widgets/controls",
      "model_module_version": "1.5.0",
      "model_name": "IntSliderModel",
      "state": {
       "description": "a",
       "layout": "IPY_MODEL_91166f3288cc400eac8e13ea8b402c88",
       "max": 10,
       "style": "IPY_MODEL_0d6d67f793674e349fe5aefc41acef90",
       "value": 10
      }
     },
     "c9d876d1effb449dbd81ad8b45bf8101": {
      "model_module": "@jupyter-widgets/base",
      "model_module_version": "1.2.0",
      "model_name": "LayoutModel",
      "state": {}
     },
     "ca3c9fab4df846dda1b5c1e6a5054ecd": {
      "model_module": "@jupyter-widgets/controls",
      "model_module_version": "1.5.0",
      "model_name": "SliderStyleModel",
      "state": {
       "description_width": ""
      }
     },
     "cae8afba5e9d4927b17f96e454deeb86": {
      "model_module": "@jupyter-widgets/controls",
      "model_module_version": "1.5.0",
      "model_name": "IntSliderModel",
      "state": {
       "description": "d",
       "layout": "IPY_MODEL_7a65e069476b40f3b5551f3a6b128dbb",
       "max": 10,
       "style": "IPY_MODEL_27910267ca244b1d9491de7344f3e275",
       "value": 10
      }
     },
     "cb9c028b9ec5429bb8afab0dfd682573": {
      "model_module": "@jupyter-widgets/base",
      "model_module_version": "1.2.0",
      "model_name": "LayoutModel",
      "state": {}
     },
     "cc9af357e8b64d0384d2f8b1dd5dd106": {
      "model_module": "@jupyter-widgets/controls",
      "model_module_version": "1.5.0",
      "model_name": "SliderStyleModel",
      "state": {
       "description_width": ""
      }
     },
     "ceac7ead042b4a5ea61469f52299abf2": {
      "model_module": "@jupyter-widgets/controls",
      "model_module_version": "1.5.0",
      "model_name": "IntSliderModel",
      "state": {
       "description": "e",
       "layout": "IPY_MODEL_51c76602a3174542ba1edc2eb7918ce9",
       "max": 10,
       "style": "IPY_MODEL_12150079f096403c9a2f6c6b181364cc",
       "value": 5
      }
     },
     "ceef28dd822d46e4b5f39df3700bb524": {
      "model_module": "@jupyter-widgets/controls",
      "model_module_version": "1.5.0",
      "model_name": "SliderStyleModel",
      "state": {
       "description_width": ""
      }
     },
     "cf38c6c5778140f18dbb64310671f087": {
      "model_module": "@jupyter-widgets/controls",
      "model_module_version": "1.5.0",
      "model_name": "SliderStyleModel",
      "state": {
       "description_width": ""
      }
     },
     "cf755af5734d4d9892c6154527f704ad": {
      "model_module": "@jupyter-widgets/controls",
      "model_module_version": "1.5.0",
      "model_name": "IntSliderModel",
      "state": {
       "description": "b",
       "layout": "IPY_MODEL_d4d6515eecec4220a549ce1dee3047b1",
       "max": 10,
       "style": "IPY_MODEL_a63c5e6706e143699987449c53331158",
       "value": 5
      }
     },
     "d1e96a569c76485b91f20a7517caf125": {
      "model_module": "@jupyter-widgets/controls",
      "model_module_version": "1.5.0",
      "model_name": "SliderStyleModel",
      "state": {
       "description_width": ""
      }
     },
     "d24c9f90a99b4bc687529a522d38370e": {
      "model_module": "@jupyter-widgets/controls",
      "model_module_version": "1.5.0",
      "model_name": "IntSliderModel",
      "state": {
       "description": "c",
       "layout": "IPY_MODEL_02a4c346ca3449d2b24f381d70e1e28b",
       "max": 10,
       "style": "IPY_MODEL_9bcba409e95e46b1a69c537ffb8b2fdf",
       "value": 5
      }
     },
     "d2719d6243a94ab3976be1bcbbb34189": {
      "model_module": "@jupyter-widgets/controls",
      "model_module_version": "1.5.0",
      "model_name": "SliderStyleModel",
      "state": {
       "description_width": ""
      }
     },
     "d2d9bd1a3db84fcba02476b9c6444aac": {
      "model_module": "@jupyter-widgets/controls",
      "model_module_version": "1.5.0",
      "model_name": "SliderStyleModel",
      "state": {
       "description_width": ""
      }
     },
     "d42d5a708bb04adfaf51ca4ca71c8ee4": {
      "model_module": "@jupyter-widgets/controls",
      "model_module_version": "1.5.0",
      "model_name": "IntSliderModel",
      "state": {
       "description": "a",
       "layout": "IPY_MODEL_57ff85d8938b44128bd9fd23a4027731",
       "max": 10,
       "style": "IPY_MODEL_0ddf8cd849074f748763950f43e0e5ea",
       "value": 5
      }
     },
     "d460277cf3ab47a999cc611fcdcdb6df": {
      "model_module": "@jupyter-widgets/base",
      "model_module_version": "1.2.0",
      "model_name": "LayoutModel",
      "state": {}
     },
     "d4d6515eecec4220a549ce1dee3047b1": {
      "model_module": "@jupyter-widgets/base",
      "model_module_version": "1.2.0",
      "model_name": "LayoutModel",
      "state": {}
     },
     "d63eeac16efe4f7e9eb1c323ffa6d980": {
      "model_module": "@jupyter-widgets/controls",
      "model_module_version": "1.5.0",
      "model_name": "VBoxModel",
      "state": {
       "_dom_classes": [
        "widget-interact"
       ],
       "children": [
        "IPY_MODEL_7223d5bac4ea440ea50337669d216ee6",
        "IPY_MODEL_28747465d7f64940aec81a2b1069a28d",
        "IPY_MODEL_b0ffec22c5ee41e1867cda2a1cccc140",
        "IPY_MODEL_7687f16051c244af9449d1e794ad0b3b",
        "IPY_MODEL_01fefa6fef0f43da9bd2ee30d4334097",
        "IPY_MODEL_0cbb043346b3421fa766997ebb0842d1"
       ],
       "layout": "IPY_MODEL_ab45b90db4e24b3a927c139063ccbc9a"
      }
     },
     "d7227840088b49e2937e0c23461518ce": {
      "model_module": "@jupyter-widgets/controls",
      "model_module_version": "1.5.0",
      "model_name": "IntSliderModel",
      "state": {
       "description": "e",
       "layout": "IPY_MODEL_3300885b5be84449adcf92115ef79569",
       "max": 10,
       "style": "IPY_MODEL_7ab791f1d8a0448d9a801f230f1f4845",
       "value": 5
      }
     },
     "d89dbe6cbd0546279b2bc31b7644bd5d": {
      "model_module": "@jupyter-widgets/controls",
      "model_module_version": "1.5.0",
      "model_name": "IntSliderModel",
      "state": {
       "description": "e",
       "layout": "IPY_MODEL_8fe4a367acb44fcfb6df31b25767b6db",
       "max": 10,
       "style": "IPY_MODEL_9038736044a64eed8b2a90beb4192ac2",
       "value": 5
      }
     },
     "d96cefb157344c47a90a127b47aa99dc": {
      "model_module": "@jupyter-widgets/base",
      "model_module_version": "1.2.0",
      "model_name": "LayoutModel",
      "state": {}
     },
     "da3e1a4a26cb4db8b9beecb38c3065c1": {
      "model_module": "@jupyter-widgets/controls",
      "model_module_version": "1.5.0",
      "model_name": "IntSliderModel",
      "state": {
       "description": "e",
       "layout": "IPY_MODEL_3082f9761e4c4e8280a7fb964a466cef",
       "max": 10,
       "style": "IPY_MODEL_7c1420765a744c539244162945dc7dd9",
       "value": 5
      }
     },
     "db518d67c9b04c61bd3f1c2432548d2e": {
      "model_module": "@jupyter-widgets/controls",
      "model_module_version": "1.5.0",
      "model_name": "IntSliderModel",
      "state": {
       "description": "c",
       "layout": "IPY_MODEL_22e9776c8ce34213a54cdbaec1e2d716",
       "max": 10,
       "style": "IPY_MODEL_c361ebbdfd3b464ba9c33e8926d14f34",
       "value": 5
      }
     },
     "dc4c60c2738e46b79b0e1f9690e816cc": {
      "model_module": "@jupyter-widgets/output",
      "model_module_version": "1.0.0",
      "model_name": "OutputModel",
      "state": {
       "layout": "IPY_MODEL_b4e97a2da224403c86f75bfaaf51ef73",
       "outputs": [
        {
         "ename": "ValueError",
         "evalue": "expected an element of ColumnData(String, Seq(Any)), got {'technology': ['PEME', 'Alkaline', 'SMR', 'ATR'], 'Electricity': [2, 1, 4, 3], 'Gas': [5, 3, 4, 2], 'Other OpEx': [3, 2, 4, 4], 'CapEx': [3, 2, 4, 4], 'Finance': [3, 2, 4, 4], 'costs': {'Electricity': [5, 1, 4, 3]}}",
         "output_type": "error",
         "traceback": [
          "\u001b[1;31m---------------------------------------------------------------------------\u001b[0m",
          "\u001b[1;31mValueError\u001b[0m                                Traceback (most recent call last)",
          "\u001b[1;32mC:\\tools\\Anaconda3\\lib\\site-packages\\ipywidgets\\widgets\\interaction.py\u001b[0m in \u001b[0;36mupdate\u001b[1;34m(self, *args)\u001b[0m\n\u001b[0;32m    254\u001b[0m                     \u001b[0mvalue\u001b[0m \u001b[1;33m=\u001b[0m \u001b[0mwidget\u001b[0m\u001b[1;33m.\u001b[0m\u001b[0mget_interact_value\u001b[0m\u001b[1;33m(\u001b[0m\u001b[1;33m)\u001b[0m\u001b[1;33m\u001b[0m\u001b[1;33m\u001b[0m\u001b[0m\n\u001b[0;32m    255\u001b[0m                     \u001b[0mself\u001b[0m\u001b[1;33m.\u001b[0m\u001b[0mkwargs\u001b[0m\u001b[1;33m[\u001b[0m\u001b[0mwidget\u001b[0m\u001b[1;33m.\u001b[0m\u001b[0m_kwarg\u001b[0m\u001b[1;33m]\u001b[0m \u001b[1;33m=\u001b[0m \u001b[0mvalue\u001b[0m\u001b[1;33m\u001b[0m\u001b[1;33m\u001b[0m\u001b[0m\n\u001b[1;32m--> 256\u001b[1;33m                 \u001b[0mself\u001b[0m\u001b[1;33m.\u001b[0m\u001b[0mresult\u001b[0m \u001b[1;33m=\u001b[0m \u001b[0mself\u001b[0m\u001b[1;33m.\u001b[0m\u001b[0mf\u001b[0m\u001b[1;33m(\u001b[0m\u001b[1;33m**\u001b[0m\u001b[0mself\u001b[0m\u001b[1;33m.\u001b[0m\u001b[0mkwargs\u001b[0m\u001b[1;33m)\u001b[0m\u001b[1;33m\u001b[0m\u001b[1;33m\u001b[0m\u001b[0m\n\u001b[0m\u001b[0;32m    257\u001b[0m                 \u001b[0mshow_inline_matplotlib_plots\u001b[0m\u001b[1;33m(\u001b[0m\u001b[1;33m)\u001b[0m\u001b[1;33m\u001b[0m\u001b[1;33m\u001b[0m\u001b[0m\n\u001b[0;32m    258\u001b[0m                 \u001b[1;32mif\u001b[0m \u001b[0mself\u001b[0m\u001b[1;33m.\u001b[0m\u001b[0mauto_display\u001b[0m \u001b[1;32mand\u001b[0m \u001b[0mself\u001b[0m\u001b[1;33m.\u001b[0m\u001b[0mresult\u001b[0m \u001b[1;32mis\u001b[0m \u001b[1;32mnot\u001b[0m \u001b[1;32mNone\u001b[0m\u001b[1;33m:\u001b[0m\u001b[1;33m\u001b[0m\u001b[1;33m\u001b[0m\u001b[0m\n",
          "\u001b[1;32m<ipython-input-74-5fdfde1d0555>\u001b[0m in \u001b[0;36mupdate\u001b[1;34m(a, b, c, d, e)\u001b[0m\n\u001b[0;32m      8\u001b[0m        }\n\u001b[0;32m      9\u001b[0m     \u001b[0mdata2\u001b[0m \u001b[1;33m=\u001b[0m \u001b[1;33m{\u001b[0m\u001b[1;34m'Electricity'\u001b[0m   \u001b[1;33m:\u001b[0m \u001b[1;33m[\u001b[0m\u001b[0ma\u001b[0m\u001b[1;33m,\u001b[0m \u001b[1;36m1\u001b[0m\u001b[1;33m,\u001b[0m \u001b[1;36m4\u001b[0m\u001b[1;33m,\u001b[0m \u001b[1;36m3\u001b[0m\u001b[1;33m]\u001b[0m\u001b[1;33m}\u001b[0m\u001b[1;33m\u001b[0m\u001b[1;33m\u001b[0m\u001b[0m\n\u001b[1;32m---> 10\u001b[1;33m     \u001b[0mvbarplot\u001b[0m\u001b[1;33m[\u001b[0m\u001b[1;36m0\u001b[0m\u001b[1;33m]\u001b[0m\u001b[1;33m.\u001b[0m\u001b[0mdata_source\u001b[0m\u001b[1;33m.\u001b[0m\u001b[0mdata\u001b[0m\u001b[1;33m[\u001b[0m\u001b[1;34m'costs'\u001b[0m\u001b[1;33m]\u001b[0m\u001b[1;33m=\u001b[0m\u001b[0mdata2\u001b[0m\u001b[1;33m\u001b[0m\u001b[1;33m\u001b[0m\u001b[0m\n\u001b[0m\u001b[0;32m     11\u001b[0m     \u001b[0mpush_notebook\u001b[0m\u001b[1;33m(\u001b[0m\u001b[0mhandle\u001b[0m\u001b[1;33m=\u001b[0m\u001b[0mt\u001b[0m\u001b[1;33m)\u001b[0m\u001b[1;33m\u001b[0m\u001b[1;33m\u001b[0m\u001b[0m\n",
          "\u001b[1;32mC:\\tools\\Anaconda3\\lib\\site-packages\\bokeh\\core\\property\\wrappers.py\u001b[0m in \u001b[0;36m__setitem__\u001b[1;34m(self, i, y)\u001b[0m\n\u001b[0;32m    358\u001b[0m     \u001b[1;31m# don't wrap with notify_owner --- notifies owners explicitly\u001b[0m\u001b[1;33m\u001b[0m\u001b[1;33m\u001b[0m\u001b[1;33m\u001b[0m\u001b[0m\n\u001b[0;32m    359\u001b[0m     \u001b[1;32mdef\u001b[0m \u001b[0m__setitem__\u001b[0m\u001b[1;33m(\u001b[0m\u001b[0mself\u001b[0m\u001b[1;33m,\u001b[0m \u001b[0mi\u001b[0m\u001b[1;33m,\u001b[0m \u001b[0my\u001b[0m\u001b[1;33m)\u001b[0m\u001b[1;33m:\u001b[0m\u001b[1;33m\u001b[0m\u001b[1;33m\u001b[0m\u001b[0m\n\u001b[1;32m--> 360\u001b[1;33m         \u001b[1;32mreturn\u001b[0m \u001b[0mself\u001b[0m\u001b[1;33m.\u001b[0m\u001b[0mupdate\u001b[0m\u001b[1;33m(\u001b[0m\u001b[1;33m[\u001b[0m\u001b[1;33m(\u001b[0m\u001b[0mi\u001b[0m\u001b[1;33m,\u001b[0m \u001b[0my\u001b[0m\u001b[1;33m)\u001b[0m\u001b[1;33m]\u001b[0m\u001b[1;33m)\u001b[0m\u001b[1;33m\u001b[0m\u001b[1;33m\u001b[0m\u001b[0m\n\u001b[0m\u001b[0;32m    361\u001b[0m \u001b[1;33m\u001b[0m\u001b[0m\n\u001b[0;32m    362\u001b[0m     \u001b[1;32mdef\u001b[0m \u001b[0m__copy__\u001b[0m\u001b[1;33m(\u001b[0m\u001b[0mself\u001b[0m\u001b[1;33m)\u001b[0m\u001b[1;33m:\u001b[0m\u001b[1;33m\u001b[0m\u001b[1;33m\u001b[0m\u001b[0m\n",
          "\u001b[1;32mC:\\tools\\Anaconda3\\lib\\site-packages\\bokeh\\core\\property\\wrappers.py\u001b[0m in \u001b[0;36mupdate\u001b[1;34m(self, *args, **kwargs)\u001b[0m\n\u001b[0;32m    391\u001b[0m         \u001b[1;32mfor\u001b[0m \u001b[1;33m(\u001b[0m\u001b[0mowner\u001b[0m\u001b[1;33m,\u001b[0m \u001b[0mdescriptor\u001b[0m\u001b[1;33m)\u001b[0m \u001b[1;32min\u001b[0m \u001b[0mself\u001b[0m\u001b[1;33m.\u001b[0m\u001b[0m_owners\u001b[0m\u001b[1;33m:\u001b[0m\u001b[1;33m\u001b[0m\u001b[1;33m\u001b[0m\u001b[0m\n\u001b[0;32m    392\u001b[0m             \u001b[0mhint\u001b[0m \u001b[1;33m=\u001b[0m \u001b[0mColumnDataChangedEvent\u001b[0m\u001b[1;33m(\u001b[0m\u001b[0mowner\u001b[0m\u001b[1;33m.\u001b[0m\u001b[0mdocument\u001b[0m\u001b[1;33m,\u001b[0m \u001b[0mowner\u001b[0m\u001b[1;33m,\u001b[0m \u001b[0mcols\u001b[0m\u001b[1;33m=\u001b[0m\u001b[0mlist\u001b[0m\u001b[1;33m(\u001b[0m\u001b[0mcols\u001b[0m\u001b[1;33m)\u001b[0m\u001b[1;33m)\u001b[0m\u001b[1;33m\u001b[0m\u001b[1;33m\u001b[0m\u001b[0m\n\u001b[1;32m--> 393\u001b[1;33m             \u001b[0mdescriptor\u001b[0m\u001b[1;33m.\u001b[0m\u001b[0m_notify_mutated\u001b[0m\u001b[1;33m(\u001b[0m\u001b[0mowner\u001b[0m\u001b[1;33m,\u001b[0m \u001b[0mold\u001b[0m\u001b[1;33m,\u001b[0m \u001b[0mhint\u001b[0m\u001b[1;33m=\u001b[0m\u001b[0mhint\u001b[0m\u001b[1;33m)\u001b[0m\u001b[1;33m\u001b[0m\u001b[1;33m\u001b[0m\u001b[0m\n\u001b[0m\u001b[0;32m    394\u001b[0m \u001b[1;33m\u001b[0m\u001b[0m\n\u001b[0;32m    395\u001b[0m         \u001b[1;32mreturn\u001b[0m \u001b[0mresult\u001b[0m\u001b[1;33m\u001b[0m\u001b[1;33m\u001b[0m\u001b[0m\n",
          "\u001b[1;32mC:\\tools\\Anaconda3\\lib\\site-packages\\bokeh\\core\\property\\descriptors.py\u001b[0m in \u001b[0;36m_notify_mutated\u001b[1;34m(self, obj, old, hint)\u001b[0m\n\u001b[0;32m    871\u001b[0m         \u001b[1;31m# re-validate because the contents of 'old' have changed,\u001b[0m\u001b[1;33m\u001b[0m\u001b[1;33m\u001b[0m\u001b[1;33m\u001b[0m\u001b[0m\n\u001b[0;32m    872\u001b[0m         \u001b[1;31m# in some cases this could give us a new object for the value\u001b[0m\u001b[1;33m\u001b[0m\u001b[1;33m\u001b[0m\u001b[1;33m\u001b[0m\u001b[0m\n\u001b[1;32m--> 873\u001b[1;33m         \u001b[0mvalue\u001b[0m \u001b[1;33m=\u001b[0m \u001b[0mself\u001b[0m\u001b[1;33m.\u001b[0m\u001b[0mproperty\u001b[0m\u001b[1;33m.\u001b[0m\u001b[0mprepare_value\u001b[0m\u001b[1;33m(\u001b[0m\u001b[0mobj\u001b[0m\u001b[1;33m,\u001b[0m \u001b[0mself\u001b[0m\u001b[1;33m.\u001b[0m\u001b[0mname\u001b[0m\u001b[1;33m,\u001b[0m \u001b[0mvalue\u001b[0m\u001b[1;33m)\u001b[0m\u001b[1;33m\u001b[0m\u001b[1;33m\u001b[0m\u001b[0m\n\u001b[0m\u001b[0;32m    874\u001b[0m \u001b[1;33m\u001b[0m\u001b[0m\n\u001b[0;32m    875\u001b[0m         \u001b[0mself\u001b[0m\u001b[1;33m.\u001b[0m\u001b[0m_real_set\u001b[0m\u001b[1;33m(\u001b[0m\u001b[0mobj\u001b[0m\u001b[1;33m,\u001b[0m \u001b[0mold\u001b[0m\u001b[1;33m,\u001b[0m \u001b[0mvalue\u001b[0m\u001b[1;33m,\u001b[0m \u001b[0mhint\u001b[0m\u001b[1;33m=\u001b[0m\u001b[0mhint\u001b[0m\u001b[1;33m)\u001b[0m\u001b[1;33m\u001b[0m\u001b[1;33m\u001b[0m\u001b[0m\n",
          "\u001b[1;32mC:\\tools\\Anaconda3\\lib\\site-packages\\bokeh\\core\\property\\bases.py\u001b[0m in \u001b[0;36mprepare_value\u001b[1;34m(self, obj_or_cls, name, value)\u001b[0m\n\u001b[0;32m    325\u001b[0m                     \u001b[1;32mbreak\u001b[0m\u001b[1;33m\u001b[0m\u001b[1;33m\u001b[0m\u001b[0m\n\u001b[0;32m    326\u001b[0m             \u001b[1;32melse\u001b[0m\u001b[1;33m:\u001b[0m\u001b[1;33m\u001b[0m\u001b[1;33m\u001b[0m\u001b[0m\n\u001b[1;32m--> 327\u001b[1;33m                 \u001b[1;32mraise\u001b[0m \u001b[0me\u001b[0m\u001b[1;33m\u001b[0m\u001b[1;33m\u001b[0m\u001b[0m\n\u001b[0m\u001b[0;32m    328\u001b[0m         \u001b[1;32melse\u001b[0m\u001b[1;33m:\u001b[0m\u001b[1;33m\u001b[0m\u001b[1;33m\u001b[0m\u001b[0m\n\u001b[0;32m    329\u001b[0m             \u001b[0mvalue\u001b[0m \u001b[1;33m=\u001b[0m \u001b[0mself\u001b[0m\u001b[1;33m.\u001b[0m\u001b[0mtransform\u001b[0m\u001b[1;33m(\u001b[0m\u001b[0mvalue\u001b[0m\u001b[1;33m)\u001b[0m\u001b[1;33m\u001b[0m\u001b[1;33m\u001b[0m\u001b[0m\n",
          "\u001b[1;32mC:\\tools\\Anaconda3\\lib\\site-packages\\bokeh\\core\\property\\bases.py\u001b[0m in \u001b[0;36mprepare_value\u001b[1;34m(self, obj_or_cls, name, value)\u001b[0m\n\u001b[0;32m    318\u001b[0m         \u001b[1;32mtry\u001b[0m\u001b[1;33m:\u001b[0m\u001b[1;33m\u001b[0m\u001b[1;33m\u001b[0m\u001b[0m\n\u001b[0;32m    319\u001b[0m             \u001b[1;32mif\u001b[0m \u001b[0mvalidation_on\u001b[0m\u001b[1;33m(\u001b[0m\u001b[1;33m)\u001b[0m\u001b[1;33m:\u001b[0m\u001b[1;33m\u001b[0m\u001b[1;33m\u001b[0m\u001b[0m\n\u001b[1;32m--> 320\u001b[1;33m                 \u001b[0mself\u001b[0m\u001b[1;33m.\u001b[0m\u001b[0mvalidate\u001b[0m\u001b[1;33m(\u001b[0m\u001b[0mvalue\u001b[0m\u001b[1;33m)\u001b[0m\u001b[1;33m\u001b[0m\u001b[1;33m\u001b[0m\u001b[0m\n\u001b[0m\u001b[0;32m    321\u001b[0m         \u001b[1;32mexcept\u001b[0m \u001b[0mValueError\u001b[0m \u001b[1;32mas\u001b[0m \u001b[0me\u001b[0m\u001b[1;33m:\u001b[0m\u001b[1;33m\u001b[0m\u001b[1;33m\u001b[0m\u001b[0m\n\u001b[0;32m    322\u001b[0m             \u001b[1;32mfor\u001b[0m \u001b[0mtp\u001b[0m\u001b[1;33m,\u001b[0m \u001b[0mconverter\u001b[0m \u001b[1;32min\u001b[0m \u001b[0mself\u001b[0m\u001b[1;33m.\u001b[0m\u001b[0malternatives\u001b[0m\u001b[1;33m:\u001b[0m\u001b[1;33m\u001b[0m\u001b[1;33m\u001b[0m\u001b[0m\n",
          "\u001b[1;32mC:\\tools\\Anaconda3\\lib\\site-packages\\bokeh\\core\\property\\container.py\u001b[0m in \u001b[0;36mvalidate\u001b[1;34m(self, value, detail)\u001b[0m\n\u001b[0;32m    188\u001b[0m                     all(self.keys_type.is_valid(key) and self.values_type.is_valid(val) for key, val in iteritems(value))):\n\u001b[0;32m    189\u001b[0m                 \u001b[0mmsg\u001b[0m \u001b[1;33m=\u001b[0m \u001b[1;34m\"\"\u001b[0m \u001b[1;32mif\u001b[0m \u001b[1;32mnot\u001b[0m \u001b[0mdetail\u001b[0m \u001b[1;32melse\u001b[0m \u001b[1;34m\"expected an element of %s, got %r\"\u001b[0m \u001b[1;33m%\u001b[0m \u001b[1;33m(\u001b[0m\u001b[0mself\u001b[0m\u001b[1;33m,\u001b[0m \u001b[0mvalue\u001b[0m\u001b[1;33m)\u001b[0m\u001b[1;33m\u001b[0m\u001b[1;33m\u001b[0m\u001b[0m\n\u001b[1;32m--> 190\u001b[1;33m                 \u001b[1;32mraise\u001b[0m \u001b[0mValueError\u001b[0m\u001b[1;33m(\u001b[0m\u001b[0mmsg\u001b[0m\u001b[1;33m)\u001b[0m\u001b[1;33m\u001b[0m\u001b[1;33m\u001b[0m\u001b[0m\n\u001b[0m\u001b[0;32m    191\u001b[0m \u001b[1;33m\u001b[0m\u001b[0m\n\u001b[0;32m    192\u001b[0m     \u001b[1;33m@\u001b[0m\u001b[0mclassmethod\u001b[0m\u001b[1;33m\u001b[0m\u001b[1;33m\u001b[0m\u001b[0m\n",
          "\u001b[1;31mValueError\u001b[0m: expected an element of ColumnData(String, Seq(Any)), got {'technology': ['PEME', 'Alkaline', 'SMR', 'ATR'], 'Electricity': [2, 1, 4, 3], 'Gas': [5, 3, 4, 2], 'Other OpEx': [3, 2, 4, 4], 'CapEx': [3, 2, 4, 4], 'Finance': [3, 2, 4, 4], 'costs': {'Electricity': [5, 1, 4, 3]}}"
         ]
        }
       ]
      }
     },
     "dc91a13a8c974739b8031d064eea67b4": {
      "model_module": "@jupyter-widgets/output",
      "model_module_version": "1.0.0",
      "model_name": "OutputModel",
      "state": {
       "layout": "IPY_MODEL_fc0bee04df3f4f85b5cbda59cc0b6dcd",
       "outputs": [
        {
         "ename": "ValueError",
         "evalue": "expected an element of ColumnData(String, Seq(Any)), got {'technology': ['PEME', 'Alkaline', 'SMR', 'ATR'], 'Electricity': [2, 1, 4, 3], 'Gas': [5, 3, 4, 2], 'Other OpEx': [3, 2, 4, 4], 'CapEx': [3, 2, 4, 4], 'Finance': [3, 2, 4, 4], 'costs': {'technology': ['PEME', 'Alkaline', 'SMR', 'ATR'], 'Electricity': [10, 1, 4, 3], 'Gas': [9, 3, 4, 2], 'Other OpEx': [5, 2, 4, 4], 'CapEx': [5, 2, 4, 4], 'Finance': [5, 2, 4, 4]}}",
         "output_type": "error",
         "traceback": [
          "\u001b[1;31m---------------------------------------------------------------------------\u001b[0m",
          "\u001b[1;31mValueError\u001b[0m                                Traceback (most recent call last)",
          "\u001b[1;32mC:\\tools\\Anaconda3\\lib\\site-packages\\ipywidgets\\widgets\\interaction.py\u001b[0m in \u001b[0;36mupdate\u001b[1;34m(self, *args)\u001b[0m\n\u001b[0;32m    254\u001b[0m                     \u001b[0mvalue\u001b[0m \u001b[1;33m=\u001b[0m \u001b[0mwidget\u001b[0m\u001b[1;33m.\u001b[0m\u001b[0mget_interact_value\u001b[0m\u001b[1;33m(\u001b[0m\u001b[1;33m)\u001b[0m\u001b[1;33m\u001b[0m\u001b[1;33m\u001b[0m\u001b[0m\n\u001b[0;32m    255\u001b[0m                     \u001b[0mself\u001b[0m\u001b[1;33m.\u001b[0m\u001b[0mkwargs\u001b[0m\u001b[1;33m[\u001b[0m\u001b[0mwidget\u001b[0m\u001b[1;33m.\u001b[0m\u001b[0m_kwarg\u001b[0m\u001b[1;33m]\u001b[0m \u001b[1;33m=\u001b[0m \u001b[0mvalue\u001b[0m\u001b[1;33m\u001b[0m\u001b[1;33m\u001b[0m\u001b[0m\n\u001b[1;32m--> 256\u001b[1;33m                 \u001b[0mself\u001b[0m\u001b[1;33m.\u001b[0m\u001b[0mresult\u001b[0m \u001b[1;33m=\u001b[0m \u001b[0mself\u001b[0m\u001b[1;33m.\u001b[0m\u001b[0mf\u001b[0m\u001b[1;33m(\u001b[0m\u001b[1;33m**\u001b[0m\u001b[0mself\u001b[0m\u001b[1;33m.\u001b[0m\u001b[0mkwargs\u001b[0m\u001b[1;33m)\u001b[0m\u001b[1;33m\u001b[0m\u001b[1;33m\u001b[0m\u001b[0m\n\u001b[0m\u001b[0;32m    257\u001b[0m                 \u001b[0mshow_inline_matplotlib_plots\u001b[0m\u001b[1;33m(\u001b[0m\u001b[1;33m)\u001b[0m\u001b[1;33m\u001b[0m\u001b[1;33m\u001b[0m\u001b[0m\n\u001b[0;32m    258\u001b[0m                 \u001b[1;32mif\u001b[0m \u001b[0mself\u001b[0m\u001b[1;33m.\u001b[0m\u001b[0mauto_display\u001b[0m \u001b[1;32mand\u001b[0m \u001b[0mself\u001b[0m\u001b[1;33m.\u001b[0m\u001b[0mresult\u001b[0m \u001b[1;32mis\u001b[0m \u001b[1;32mnot\u001b[0m \u001b[1;32mNone\u001b[0m\u001b[1;33m:\u001b[0m\u001b[1;33m\u001b[0m\u001b[1;33m\u001b[0m\u001b[0m\n",
          "\u001b[1;32m<ipython-input-102-05349d466c5b>\u001b[0m in \u001b[0;36mupdate\u001b[1;34m(a, b, c, d, e)\u001b[0m\n\u001b[0;32m      7\u001b[0m         \u001b[1;34m'Finance'\u001b[0m   \u001b[1;33m:\u001b[0m \u001b[1;33m[\u001b[0m\u001b[0me\u001b[0m\u001b[1;33m,\u001b[0m \u001b[1;36m2\u001b[0m\u001b[1;33m,\u001b[0m \u001b[1;36m4\u001b[0m\u001b[1;33m,\u001b[0m \u001b[1;36m4\u001b[0m\u001b[1;33m]\u001b[0m\u001b[1;33m,\u001b[0m\u001b[1;33m\u001b[0m\u001b[1;33m\u001b[0m\u001b[0m\n\u001b[0;32m      8\u001b[0m        }\n\u001b[1;32m----> 9\u001b[1;33m     \u001b[0mvbarplot\u001b[0m\u001b[1;33m[\u001b[0m\u001b[1;36m0\u001b[0m\u001b[1;33m]\u001b[0m\u001b[1;33m.\u001b[0m\u001b[0mdata_source\u001b[0m\u001b[1;33m.\u001b[0m\u001b[0mdata\u001b[0m\u001b[1;33m[\u001b[0m\u001b[1;34m'costs'\u001b[0m\u001b[1;33m]\u001b[0m\u001b[1;33m=\u001b[0m\u001b[0mdata\u001b[0m\u001b[1;33m\u001b[0m\u001b[1;33m\u001b[0m\u001b[0m\n\u001b[0m\u001b[0;32m     10\u001b[0m     \u001b[0mpush_notebook\u001b[0m\u001b[1;33m(\u001b[0m\u001b[1;33m)\u001b[0m\u001b[1;33m\u001b[0m\u001b[1;33m\u001b[0m\u001b[0m\n",
          "\u001b[1;32mC:\\tools\\Anaconda3\\lib\\site-packages\\bokeh\\core\\property\\wrappers.py\u001b[0m in \u001b[0;36m__setitem__\u001b[1;34m(self, i, y)\u001b[0m\n\u001b[0;32m    358\u001b[0m     \u001b[1;31m# don't wrap with notify_owner --- notifies owners explicitly\u001b[0m\u001b[1;33m\u001b[0m\u001b[1;33m\u001b[0m\u001b[1;33m\u001b[0m\u001b[0m\n\u001b[0;32m    359\u001b[0m     \u001b[1;32mdef\u001b[0m \u001b[0m__setitem__\u001b[0m\u001b[1;33m(\u001b[0m\u001b[0mself\u001b[0m\u001b[1;33m,\u001b[0m \u001b[0mi\u001b[0m\u001b[1;33m,\u001b[0m \u001b[0my\u001b[0m\u001b[1;33m)\u001b[0m\u001b[1;33m:\u001b[0m\u001b[1;33m\u001b[0m\u001b[1;33m\u001b[0m\u001b[0m\n\u001b[1;32m--> 360\u001b[1;33m         \u001b[1;32mreturn\u001b[0m \u001b[0mself\u001b[0m\u001b[1;33m.\u001b[0m\u001b[0mupdate\u001b[0m\u001b[1;33m(\u001b[0m\u001b[1;33m[\u001b[0m\u001b[1;33m(\u001b[0m\u001b[0mi\u001b[0m\u001b[1;33m,\u001b[0m \u001b[0my\u001b[0m\u001b[1;33m)\u001b[0m\u001b[1;33m]\u001b[0m\u001b[1;33m)\u001b[0m\u001b[1;33m\u001b[0m\u001b[1;33m\u001b[0m\u001b[0m\n\u001b[0m\u001b[0;32m    361\u001b[0m \u001b[1;33m\u001b[0m\u001b[0m\n\u001b[0;32m    362\u001b[0m     \u001b[1;32mdef\u001b[0m \u001b[0m__copy__\u001b[0m\u001b[1;33m(\u001b[0m\u001b[0mself\u001b[0m\u001b[1;33m)\u001b[0m\u001b[1;33m:\u001b[0m\u001b[1;33m\u001b[0m\u001b[1;33m\u001b[0m\u001b[0m\n",
          "\u001b[1;32mC:\\tools\\Anaconda3\\lib\\site-packages\\bokeh\\core\\property\\wrappers.py\u001b[0m in \u001b[0;36mupdate\u001b[1;34m(self, *args, **kwargs)\u001b[0m\n\u001b[0;32m    391\u001b[0m         \u001b[1;32mfor\u001b[0m \u001b[1;33m(\u001b[0m\u001b[0mowner\u001b[0m\u001b[1;33m,\u001b[0m \u001b[0mdescriptor\u001b[0m\u001b[1;33m)\u001b[0m \u001b[1;32min\u001b[0m \u001b[0mself\u001b[0m\u001b[1;33m.\u001b[0m\u001b[0m_owners\u001b[0m\u001b[1;33m:\u001b[0m\u001b[1;33m\u001b[0m\u001b[1;33m\u001b[0m\u001b[0m\n\u001b[0;32m    392\u001b[0m             \u001b[0mhint\u001b[0m \u001b[1;33m=\u001b[0m \u001b[0mColumnDataChangedEvent\u001b[0m\u001b[1;33m(\u001b[0m\u001b[0mowner\u001b[0m\u001b[1;33m.\u001b[0m\u001b[0mdocument\u001b[0m\u001b[1;33m,\u001b[0m \u001b[0mowner\u001b[0m\u001b[1;33m,\u001b[0m \u001b[0mcols\u001b[0m\u001b[1;33m=\u001b[0m\u001b[0mlist\u001b[0m\u001b[1;33m(\u001b[0m\u001b[0mcols\u001b[0m\u001b[1;33m)\u001b[0m\u001b[1;33m)\u001b[0m\u001b[1;33m\u001b[0m\u001b[1;33m\u001b[0m\u001b[0m\n\u001b[1;32m--> 393\u001b[1;33m             \u001b[0mdescriptor\u001b[0m\u001b[1;33m.\u001b[0m\u001b[0m_notify_mutated\u001b[0m\u001b[1;33m(\u001b[0m\u001b[0mowner\u001b[0m\u001b[1;33m,\u001b[0m \u001b[0mold\u001b[0m\u001b[1;33m,\u001b[0m \u001b[0mhint\u001b[0m\u001b[1;33m=\u001b[0m\u001b[0mhint\u001b[0m\u001b[1;33m)\u001b[0m\u001b[1;33m\u001b[0m\u001b[1;33m\u001b[0m\u001b[0m\n\u001b[0m\u001b[0;32m    394\u001b[0m \u001b[1;33m\u001b[0m\u001b[0m\n\u001b[0;32m    395\u001b[0m         \u001b[1;32mreturn\u001b[0m \u001b[0mresult\u001b[0m\u001b[1;33m\u001b[0m\u001b[1;33m\u001b[0m\u001b[0m\n",
          "\u001b[1;32mC:\\tools\\Anaconda3\\lib\\site-packages\\bokeh\\core\\property\\descriptors.py\u001b[0m in \u001b[0;36m_notify_mutated\u001b[1;34m(self, obj, old, hint)\u001b[0m\n\u001b[0;32m    871\u001b[0m         \u001b[1;31m# re-validate because the contents of 'old' have changed,\u001b[0m\u001b[1;33m\u001b[0m\u001b[1;33m\u001b[0m\u001b[1;33m\u001b[0m\u001b[0m\n\u001b[0;32m    872\u001b[0m         \u001b[1;31m# in some cases this could give us a new object for the value\u001b[0m\u001b[1;33m\u001b[0m\u001b[1;33m\u001b[0m\u001b[1;33m\u001b[0m\u001b[0m\n\u001b[1;32m--> 873\u001b[1;33m         \u001b[0mvalue\u001b[0m \u001b[1;33m=\u001b[0m \u001b[0mself\u001b[0m\u001b[1;33m.\u001b[0m\u001b[0mproperty\u001b[0m\u001b[1;33m.\u001b[0m\u001b[0mprepare_value\u001b[0m\u001b[1;33m(\u001b[0m\u001b[0mobj\u001b[0m\u001b[1;33m,\u001b[0m \u001b[0mself\u001b[0m\u001b[1;33m.\u001b[0m\u001b[0mname\u001b[0m\u001b[1;33m,\u001b[0m \u001b[0mvalue\u001b[0m\u001b[1;33m)\u001b[0m\u001b[1;33m\u001b[0m\u001b[1;33m\u001b[0m\u001b[0m\n\u001b[0m\u001b[0;32m    874\u001b[0m \u001b[1;33m\u001b[0m\u001b[0m\n\u001b[0;32m    875\u001b[0m         \u001b[0mself\u001b[0m\u001b[1;33m.\u001b[0m\u001b[0m_real_set\u001b[0m\u001b[1;33m(\u001b[0m\u001b[0mobj\u001b[0m\u001b[1;33m,\u001b[0m \u001b[0mold\u001b[0m\u001b[1;33m,\u001b[0m \u001b[0mvalue\u001b[0m\u001b[1;33m,\u001b[0m \u001b[0mhint\u001b[0m\u001b[1;33m=\u001b[0m\u001b[0mhint\u001b[0m\u001b[1;33m)\u001b[0m\u001b[1;33m\u001b[0m\u001b[1;33m\u001b[0m\u001b[0m\n",
          "\u001b[1;32mC:\\tools\\Anaconda3\\lib\\site-packages\\bokeh\\core\\property\\bases.py\u001b[0m in \u001b[0;36mprepare_value\u001b[1;34m(self, obj_or_cls, name, value)\u001b[0m\n\u001b[0;32m    325\u001b[0m                     \u001b[1;32mbreak\u001b[0m\u001b[1;33m\u001b[0m\u001b[1;33m\u001b[0m\u001b[0m\n\u001b[0;32m    326\u001b[0m             \u001b[1;32melse\u001b[0m\u001b[1;33m:\u001b[0m\u001b[1;33m\u001b[0m\u001b[1;33m\u001b[0m\u001b[0m\n\u001b[1;32m--> 327\u001b[1;33m                 \u001b[1;32mraise\u001b[0m \u001b[0me\u001b[0m\u001b[1;33m\u001b[0m\u001b[1;33m\u001b[0m\u001b[0m\n\u001b[0m\u001b[0;32m    328\u001b[0m         \u001b[1;32melse\u001b[0m\u001b[1;33m:\u001b[0m\u001b[1;33m\u001b[0m\u001b[1;33m\u001b[0m\u001b[0m\n\u001b[0;32m    329\u001b[0m             \u001b[0mvalue\u001b[0m \u001b[1;33m=\u001b[0m \u001b[0mself\u001b[0m\u001b[1;33m.\u001b[0m\u001b[0mtransform\u001b[0m\u001b[1;33m(\u001b[0m\u001b[0mvalue\u001b[0m\u001b[1;33m)\u001b[0m\u001b[1;33m\u001b[0m\u001b[1;33m\u001b[0m\u001b[0m\n",
          "\u001b[1;32mC:\\tools\\Anaconda3\\lib\\site-packages\\bokeh\\core\\property\\bases.py\u001b[0m in \u001b[0;36mprepare_value\u001b[1;34m(self, obj_or_cls, name, value)\u001b[0m\n\u001b[0;32m    318\u001b[0m         \u001b[1;32mtry\u001b[0m\u001b[1;33m:\u001b[0m\u001b[1;33m\u001b[0m\u001b[1;33m\u001b[0m\u001b[0m\n\u001b[0;32m    319\u001b[0m             \u001b[1;32mif\u001b[0m \u001b[0mvalidation_on\u001b[0m\u001b[1;33m(\u001b[0m\u001b[1;33m)\u001b[0m\u001b[1;33m:\u001b[0m\u001b[1;33m\u001b[0m\u001b[1;33m\u001b[0m\u001b[0m\n\u001b[1;32m--> 320\u001b[1;33m                 \u001b[0mself\u001b[0m\u001b[1;33m.\u001b[0m\u001b[0mvalidate\u001b[0m\u001b[1;33m(\u001b[0m\u001b[0mvalue\u001b[0m\u001b[1;33m)\u001b[0m\u001b[1;33m\u001b[0m\u001b[1;33m\u001b[0m\u001b[0m\n\u001b[0m\u001b[0;32m    321\u001b[0m         \u001b[1;32mexcept\u001b[0m \u001b[0mValueError\u001b[0m \u001b[1;32mas\u001b[0m \u001b[0me\u001b[0m\u001b[1;33m:\u001b[0m\u001b[1;33m\u001b[0m\u001b[1;33m\u001b[0m\u001b[0m\n\u001b[0;32m    322\u001b[0m             \u001b[1;32mfor\u001b[0m \u001b[0mtp\u001b[0m\u001b[1;33m,\u001b[0m \u001b[0mconverter\u001b[0m \u001b[1;32min\u001b[0m \u001b[0mself\u001b[0m\u001b[1;33m.\u001b[0m\u001b[0malternatives\u001b[0m\u001b[1;33m:\u001b[0m\u001b[1;33m\u001b[0m\u001b[1;33m\u001b[0m\u001b[0m\n",
          "\u001b[1;32mC:\\tools\\Anaconda3\\lib\\site-packages\\bokeh\\core\\property\\container.py\u001b[0m in \u001b[0;36mvalidate\u001b[1;34m(self, value, detail)\u001b[0m\n\u001b[0;32m    188\u001b[0m                     all(self.keys_type.is_valid(key) and self.values_type.is_valid(val) for key, val in iteritems(value))):\n\u001b[0;32m    189\u001b[0m                 \u001b[0mmsg\u001b[0m \u001b[1;33m=\u001b[0m \u001b[1;34m\"\"\u001b[0m \u001b[1;32mif\u001b[0m \u001b[1;32mnot\u001b[0m \u001b[0mdetail\u001b[0m \u001b[1;32melse\u001b[0m \u001b[1;34m\"expected an element of %s, got %r\"\u001b[0m \u001b[1;33m%\u001b[0m \u001b[1;33m(\u001b[0m\u001b[0mself\u001b[0m\u001b[1;33m,\u001b[0m \u001b[0mvalue\u001b[0m\u001b[1;33m)\u001b[0m\u001b[1;33m\u001b[0m\u001b[1;33m\u001b[0m\u001b[0m\n\u001b[1;32m--> 190\u001b[1;33m                 \u001b[1;32mraise\u001b[0m \u001b[0mValueError\u001b[0m\u001b[1;33m(\u001b[0m\u001b[0mmsg\u001b[0m\u001b[1;33m)\u001b[0m\u001b[1;33m\u001b[0m\u001b[1;33m\u001b[0m\u001b[0m\n\u001b[0m\u001b[0;32m    191\u001b[0m \u001b[1;33m\u001b[0m\u001b[0m\n\u001b[0;32m    192\u001b[0m     \u001b[1;33m@\u001b[0m\u001b[0mclassmethod\u001b[0m\u001b[1;33m\u001b[0m\u001b[1;33m\u001b[0m\u001b[0m\n",
          "\u001b[1;31mValueError\u001b[0m: expected an element of ColumnData(String, Seq(Any)), got {'technology': ['PEME', 'Alkaline', 'SMR', 'ATR'], 'Electricity': [2, 1, 4, 3], 'Gas': [5, 3, 4, 2], 'Other OpEx': [3, 2, 4, 4], 'CapEx': [3, 2, 4, 4], 'Finance': [3, 2, 4, 4], 'costs': {'technology': ['PEME', 'Alkaline', 'SMR', 'ATR'], 'Electricity': [10, 1, 4, 3], 'Gas': [9, 3, 4, 2], 'Other OpEx': [5, 2, 4, 4], 'CapEx': [5, 2, 4, 4], 'Finance': [5, 2, 4, 4]}}"
         ]
        }
       ]
      }
     },
     "dd9ec78bfc65418ead88ee58b30f4704": {
      "model_module": "@jupyter-widgets/controls",
      "model_module_version": "1.5.0",
      "model_name": "SliderStyleModel",
      "state": {
       "description_width": ""
      }
     },
     "dde7c4ccdcb04a5b94c551ec52771ecc": {
      "model_module": "@jupyter-widgets/base",
      "model_module_version": "1.2.0",
      "model_name": "LayoutModel",
      "state": {}
     },
     "de1ae5d3725f4ce686c71a5a6e5464a2": {
      "model_module": "@jupyter-widgets/controls",
      "model_module_version": "1.5.0",
      "model_name": "VBoxModel",
      "state": {
       "_dom_classes": [
        "widget-interact"
       ],
       "children": [
        "IPY_MODEL_6ea2bf6751174c308ca486f181a389eb",
        "IPY_MODEL_19bb238d3b2b4b1a8b8bf2be45014fb4",
        "IPY_MODEL_1ba43e71928a4e0191e3eb3c82e1bac2",
        "IPY_MODEL_cae8afba5e9d4927b17f96e454deeb86",
        "IPY_MODEL_c4c2a2df857c4d26b6248dd43e1f6610",
        "IPY_MODEL_64505331455f4a5ea04a56ec9bd5a594"
       ],
       "layout": "IPY_MODEL_e0ab8a2f5d5747b88cf9b80d37564dc8"
      }
     },
     "de3c4bcfdee54151aa6b5ab08f873017": {
      "model_module": "@jupyter-widgets/controls",
      "model_module_version": "1.5.0",
      "model_name": "IntSliderModel",
      "state": {
       "description": "e",
       "layout": "IPY_MODEL_5f66d18b9f6e4bc0b3066d4a95dadd44",
       "max": 10,
       "style": "IPY_MODEL_4d3d15a852744fa5b55cef704a7c680a",
       "value": 5
      }
     },
     "e044b93771bf45d38cf786b48d04911f": {
      "model_module": "@jupyter-widgets/controls",
      "model_module_version": "1.5.0",
      "model_name": "IntSliderModel",
      "state": {
       "description": "b",
       "layout": "IPY_MODEL_0fd20f3617f8442e99217ee206832981",
       "max": 10,
       "style": "IPY_MODEL_174c093320f1406f82075de45d5fbae0",
       "value": 10
      }
     },
     "e04cbeabbb9746799a45f945351d6f61": {
      "model_module": "@jupyter-widgets/controls",
      "model_module_version": "1.5.0",
      "model_name": "IntSliderModel",
      "state": {
       "description": "e",
       "layout": "IPY_MODEL_c43a8074be87407d8d16f7594e9d389f",
       "max": 10,
       "style": "IPY_MODEL_acee21f509e042628f18a1819e750e6e",
       "value": 5
      }
     },
     "e08f1fa1c00843428b200153a7121ffe": {
      "model_module": "@jupyter-widgets/controls",
      "model_module_version": "1.5.0",
      "model_name": "SliderStyleModel",
      "state": {
       "description_width": ""
      }
     },
     "e0ab8a2f5d5747b88cf9b80d37564dc8": {
      "model_module": "@jupyter-widgets/base",
      "model_module_version": "1.2.0",
      "model_name": "LayoutModel",
      "state": {}
     },
     "e14f67182c5047d8ac78b197d210ab44": {
      "model_module": "@jupyter-widgets/base",
      "model_module_version": "1.2.0",
      "model_name": "LayoutModel",
      "state": {}
     },
     "e1c61125daa1476eb7f554e3bfb3243b": {
      "model_module": "@jupyter-widgets/controls",
      "model_module_version": "1.5.0",
      "model_name": "VBoxModel",
      "state": {
       "_dom_classes": [
        "widget-interact"
       ],
       "children": [
        "IPY_MODEL_12504e2ffe9049ce8e8c56cb84ff31bd",
        "IPY_MODEL_19d15df77c4a4671852ff5973a545f4b",
        "IPY_MODEL_c8d53e791dcf4bc49e1dc078f77b8880",
        "IPY_MODEL_17863d4c80c844daa9df13f37af44a3d",
        "IPY_MODEL_d89dbe6cbd0546279b2bc31b7644bd5d",
        "IPY_MODEL_9cd10b62f3ce4b3bbf002cbb0c3fd96f"
       ],
       "layout": "IPY_MODEL_b0678ee46f8b4e1588df89e06f4703ee"
      }
     },
     "e1e232c324014dcd88245e0c672db7d6": {
      "model_module": "@jupyter-widgets/base",
      "model_module_version": "1.2.0",
      "model_name": "LayoutModel",
      "state": {}
     },
     "e2796fcea12e46f1bdc36fc30d94b95d": {
      "model_module": "@jupyter-widgets/base",
      "model_module_version": "1.2.0",
      "model_name": "LayoutModel",
      "state": {}
     },
     "e309b4307e224a23bbbe8bdabe61ca17": {
      "model_module": "@jupyter-widgets/base",
      "model_module_version": "1.2.0",
      "model_name": "LayoutModel",
      "state": {}
     },
     "e3bf928ecb76474eb56cd660386f1d4d": {
      "model_module": "@jupyter-widgets/controls",
      "model_module_version": "1.5.0",
      "model_name": "IntSliderModel",
      "state": {
       "description": "b",
       "layout": "IPY_MODEL_a2c0695719f645599036e8561d4098fd",
       "max": 10,
       "style": "IPY_MODEL_ea5cfae139a246fea7b489797cd14131",
       "value": 4
      }
     },
     "e5ced271c337419180721c6d3a55efe7": {
      "model_module": "@jupyter-widgets/base",
      "model_module_version": "1.2.0",
      "model_name": "LayoutModel",
      "state": {}
     },
     "e7deb38d7acc4923ab86368c7eb67484": {
      "model_module": "@jupyter-widgets/base",
      "model_module_version": "1.2.0",
      "model_name": "LayoutModel",
      "state": {}
     },
     "e8eccd7e6486414c85d00126b6e9b3df": {
      "model_module": "@jupyter-widgets/output",
      "model_module_version": "1.0.0",
      "model_name": "OutputModel",
      "state": {
       "layout": "IPY_MODEL_ed31929c225d4b42a16ce3e320c23d14"
      }
     },
     "e92ebd596fb04b79b74805ef4866571e": {
      "model_module": "@jupyter-widgets/controls",
      "model_module_version": "1.5.0",
      "model_name": "SliderStyleModel",
      "state": {
       "description_width": ""
      }
     },
     "e93db230c2284fdfb6d037a357918445": {
      "model_module": "@jupyter-widgets/controls",
      "model_module_version": "1.5.0",
      "model_name": "IntSliderModel",
      "state": {
       "description": "d",
       "layout": "IPY_MODEL_e309b4307e224a23bbbe8bdabe61ca17",
       "max": 10,
       "style": "IPY_MODEL_d2d9bd1a3db84fcba02476b9c6444aac",
       "value": 10
      }
     },
     "e95b3d68948e45efb5c934295d130caf": {
      "model_module": "@jupyter-widgets/base",
      "model_module_version": "1.2.0",
      "model_name": "LayoutModel",
      "state": {}
     },
     "ea360148612d40babf598c409c6eb42b": {
      "model_module": "@jupyter-widgets/base",
      "model_module_version": "1.2.0",
      "model_name": "LayoutModel",
      "state": {}
     },
     "ea5cfae139a246fea7b489797cd14131": {
      "model_module": "@jupyter-widgets/controls",
      "model_module_version": "1.5.0",
      "model_name": "SliderStyleModel",
      "state": {
       "description_width": ""
      }
     },
     "eb99f4b38995475ab1c801bcb4520b45": {
      "model_module": "@jupyter-widgets/output",
      "model_module_version": "1.0.0",
      "model_name": "OutputModel",
      "state": {
       "layout": "IPY_MODEL_32f4ae8c7a364e0bb114241743664272",
       "outputs": [
        {
         "ename": "AttributeError",
         "evalue": "'list' object has no attribute 'data_source'",
         "output_type": "error",
         "traceback": [
          "\u001b[1;31m---------------------------------------------------------------------------\u001b[0m",
          "\u001b[1;31mAttributeError\u001b[0m                            Traceback (most recent call last)",
          "\u001b[1;32mC:\\tools\\Anaconda3\\lib\\site-packages\\ipywidgets\\widgets\\interaction.py\u001b[0m in \u001b[0;36mupdate\u001b[1;34m(self, *args)\u001b[0m\n\u001b[0;32m    254\u001b[0m                     \u001b[0mvalue\u001b[0m \u001b[1;33m=\u001b[0m \u001b[0mwidget\u001b[0m\u001b[1;33m.\u001b[0m\u001b[0mget_interact_value\u001b[0m\u001b[1;33m(\u001b[0m\u001b[1;33m)\u001b[0m\u001b[1;33m\u001b[0m\u001b[1;33m\u001b[0m\u001b[0m\n\u001b[0;32m    255\u001b[0m                     \u001b[0mself\u001b[0m\u001b[1;33m.\u001b[0m\u001b[0mkwargs\u001b[0m\u001b[1;33m[\u001b[0m\u001b[0mwidget\u001b[0m\u001b[1;33m.\u001b[0m\u001b[0m_kwarg\u001b[0m\u001b[1;33m]\u001b[0m \u001b[1;33m=\u001b[0m \u001b[0mvalue\u001b[0m\u001b[1;33m\u001b[0m\u001b[1;33m\u001b[0m\u001b[0m\n\u001b[1;32m--> 256\u001b[1;33m                 \u001b[0mself\u001b[0m\u001b[1;33m.\u001b[0m\u001b[0mresult\u001b[0m \u001b[1;33m=\u001b[0m \u001b[0mself\u001b[0m\u001b[1;33m.\u001b[0m\u001b[0mf\u001b[0m\u001b[1;33m(\u001b[0m\u001b[1;33m**\u001b[0m\u001b[0mself\u001b[0m\u001b[1;33m.\u001b[0m\u001b[0mkwargs\u001b[0m\u001b[1;33m)\u001b[0m\u001b[1;33m\u001b[0m\u001b[1;33m\u001b[0m\u001b[0m\n\u001b[0m\u001b[0;32m    257\u001b[0m                 \u001b[0mshow_inline_matplotlib_plots\u001b[0m\u001b[1;33m(\u001b[0m\u001b[1;33m)\u001b[0m\u001b[1;33m\u001b[0m\u001b[1;33m\u001b[0m\u001b[0m\n\u001b[0;32m    258\u001b[0m                 \u001b[1;32mif\u001b[0m \u001b[0mself\u001b[0m\u001b[1;33m.\u001b[0m\u001b[0mauto_display\u001b[0m \u001b[1;32mand\u001b[0m \u001b[0mself\u001b[0m\u001b[1;33m.\u001b[0m\u001b[0mresult\u001b[0m \u001b[1;32mis\u001b[0m \u001b[1;32mnot\u001b[0m \u001b[1;32mNone\u001b[0m\u001b[1;33m:\u001b[0m\u001b[1;33m\u001b[0m\u001b[1;33m\u001b[0m\u001b[0m\n",
          "\u001b[1;32m<ipython-input-70-36c31bc860e9>\u001b[0m in \u001b[0;36mupdate\u001b[1;34m(a, b, c, d, e)\u001b[0m\n\u001b[0;32m      7\u001b[0m         \u001b[1;34m'Finance'\u001b[0m   \u001b[1;33m:\u001b[0m \u001b[1;33m[\u001b[0m\u001b[0me\u001b[0m\u001b[1;33m,\u001b[0m \u001b[1;36m2\u001b[0m\u001b[1;33m,\u001b[0m \u001b[1;36m4\u001b[0m\u001b[1;33m,\u001b[0m \u001b[1;36m4\u001b[0m\u001b[1;33m]\u001b[0m\u001b[1;33m,\u001b[0m\u001b[1;33m\u001b[0m\u001b[1;33m\u001b[0m\u001b[0m\n\u001b[0;32m      8\u001b[0m        }\n\u001b[1;32m----> 9\u001b[1;33m     \u001b[0mvbarplot\u001b[0m\u001b[1;33m.\u001b[0m\u001b[0mdata_source\u001b[0m\u001b[1;33m.\u001b[0m\u001b[0mdata\u001b[0m\u001b[1;33m[\u001b[0m\u001b[1;34m'costs'\u001b[0m\u001b[1;33m]\u001b[0m\u001b[1;33m=\u001b[0m\u001b[0mdata\u001b[0m\u001b[1;33m\u001b[0m\u001b[1;33m\u001b[0m\u001b[0m\n\u001b[0m\u001b[0;32m     10\u001b[0m     \u001b[0mpush_notebook\u001b[0m\u001b[1;33m(\u001b[0m\u001b[0mhandle\u001b[0m\u001b[1;33m=\u001b[0m\u001b[0mt\u001b[0m\u001b[1;33m)\u001b[0m\u001b[1;33m\u001b[0m\u001b[1;33m\u001b[0m\u001b[0m\n",
          "\u001b[1;31mAttributeError\u001b[0m: 'list' object has no attribute 'data_source'"
         ]
        }
       ]
      }
     },
     "eb9d2080d9e142659ff962412b0d3312": {
      "model_module": "@jupyter-widgets/controls",
      "model_module_version": "1.5.0",
      "model_name": "SliderStyleModel",
      "state": {
       "description_width": ""
      }
     },
     "ec5229527b03466db70d3c750ee24b75": {
      "model_module": "@jupyter-widgets/base",
      "model_module_version": "1.2.0",
      "model_name": "LayoutModel",
      "state": {}
     },
     "ec5a4e97e27e4705a93874695800bfed": {
      "model_module": "@jupyter-widgets/base",
      "model_module_version": "1.2.0",
      "model_name": "LayoutModel",
      "state": {}
     },
     "eca10c7c4c0a45198645f767116221a3": {
      "model_module": "@jupyter-widgets/controls",
      "model_module_version": "1.5.0",
      "model_name": "SliderStyleModel",
      "state": {
       "description_width": ""
      }
     },
     "ecd4e1104d374d9bab5fe7b176cacd8c": {
      "model_module": "@jupyter-widgets/base",
      "model_module_version": "1.2.0",
      "model_name": "LayoutModel",
      "state": {}
     },
     "ecf2cceff5f14585acd5369d141b2bb7": {
      "model_module": "@jupyter-widgets/base",
      "model_module_version": "1.2.0",
      "model_name": "LayoutModel",
      "state": {}
     },
     "ed31929c225d4b42a16ce3e320c23d14": {
      "model_module": "@jupyter-widgets/base",
      "model_module_version": "1.2.0",
      "model_name": "LayoutModel",
      "state": {}
     },
     "ee58b883056442ed975e4db7c922e3c0": {
      "model_module": "@jupyter-widgets/controls",
      "model_module_version": "1.5.0",
      "model_name": "IntSliderModel",
      "state": {
       "description": "d",
       "layout": "IPY_MODEL_a3420e610e8146d7aea0e4f57c3e3071",
       "max": 10,
       "style": "IPY_MODEL_5b908ad0647348959a0dac34dbec9a5c",
       "value": 5
      }
     },
     "eead2923011f420f8d4e501009058d50": {
      "model_module": "@jupyter-widgets/controls",
      "model_module_version": "1.5.0",
      "model_name": "SliderStyleModel",
      "state": {
       "description_width": ""
      }
     },
     "eed73b28d8834217be82d73a16572e70": {
      "model_module": "@jupyter-widgets/base",
      "model_module_version": "1.2.0",
      "model_name": "LayoutModel",
      "state": {}
     },
     "f13ec8c68cb1413c93a34c65f36f10e3": {
      "model_module": "@jupyter-widgets/controls",
      "model_module_version": "1.5.0",
      "model_name": "IntSliderModel",
      "state": {
       "description": "e",
       "layout": "IPY_MODEL_64d0f32216704c018c8c726fb3e0e1ec",
       "max": 10,
       "style": "IPY_MODEL_eca10c7c4c0a45198645f767116221a3",
       "value": 5
      }
     },
     "f2569a6ad78e4efd9b56b9bff86db8a5": {
      "model_module": "@jupyter-widgets/controls",
      "model_module_version": "1.5.0",
      "model_name": "SliderStyleModel",
      "state": {
       "description_width": ""
      }
     },
     "f2f625c40a4544a785906c1bc8f17006": {
      "model_module": "@jupyter-widgets/base",
      "model_module_version": "1.2.0",
      "model_name": "LayoutModel",
      "state": {}
     },
     "f2fe2e95c3354080b9c450eeede78fe5": {
      "model_module": "@jupyter-widgets/controls",
      "model_module_version": "1.5.0",
      "model_name": "VBoxModel",
      "state": {
       "_dom_classes": [
        "widget-interact"
       ],
       "children": [
        "IPY_MODEL_d42d5a708bb04adfaf51ca4ca71c8ee4",
        "IPY_MODEL_256eaeb24ede4818be792483e1a18609",
        "IPY_MODEL_849f35fec4b54a3dbb3284e71e7d026a",
        "IPY_MODEL_a276f946471e49ecb8891a412d80e314",
        "IPY_MODEL_ceac7ead042b4a5ea61469f52299abf2",
        "IPY_MODEL_67d272cc252647d3a9fa5d7d52149f0d"
       ],
       "layout": "IPY_MODEL_2ade391722cd4af69e59f662dc780e07"
      }
     },
     "f3c894add0fc4b29a493500c31913373": {
      "model_module": "@jupyter-widgets/controls",
      "model_module_version": "1.5.0",
      "model_name": "IntSliderModel",
      "state": {
       "description": "d",
       "layout": "IPY_MODEL_5d670ee1aa564d30bac8a481fcd273c3",
       "max": 10,
       "style": "IPY_MODEL_42dd304a95fb439dbe176c2678e9be67",
       "value": 5
      }
     },
     "f40ab69d199741df97a4688027d57b7d": {
      "model_module": "@jupyter-widgets/controls",
      "model_module_version": "1.5.0",
      "model_name": "IntSliderModel",
      "state": {
       "description": "b",
       "layout": "IPY_MODEL_b876922321544fdb8a58e713d0ad92b2",
       "max": 10,
       "style": "IPY_MODEL_a99e4202d5bb4603a5c6e5d285baf131",
       "value": 5
      }
     },
     "f43246e5531144468d819712c84f54ff": {
      "model_module": "@jupyter-widgets/controls",
      "model_module_version": "1.5.0",
      "model_name": "IntSliderModel",
      "state": {
       "description": "e",
       "layout": "IPY_MODEL_13f46baea8c84e2b9e1d62973e59c9df",
       "max": 10,
       "style": "IPY_MODEL_3c99cedebc6845d5802e701dfa352018",
       "value": 10
      }
     },
     "f45790465d9b4726895973e5c80522aa": {
      "model_module": "@jupyter-widgets/controls",
      "model_module_version": "1.5.0",
      "model_name": "IntSliderModel",
      "state": {
       "description": "c",
       "layout": "IPY_MODEL_42fd181dfb7e4fb4b321e1f9fd00f2ea",
       "max": 10,
       "style": "IPY_MODEL_18b695c7912441e0b729cf51aa3a1770",
       "value": 5
      }
     },
     "f4bb9e2517414c0fa2f2fbb7aa88a206": {
      "model_module": "@jupyter-widgets/controls",
      "model_module_version": "1.5.0",
      "model_name": "VBoxModel",
      "state": {
       "_dom_classes": [
        "widget-interact"
       ],
       "children": [
        "IPY_MODEL_1c62876723694daaadbe99a7da60cf0e",
        "IPY_MODEL_5646e6ab57544c6db1dd24fe818a7d78",
        "IPY_MODEL_7d45876764474682a01b02705cf45bbd",
        "IPY_MODEL_7fcbc72dadb5432890447ed3788662d0",
        "IPY_MODEL_c721240f6938496c8e38103f282d7091",
        "IPY_MODEL_986343c7875e40f387bded80d2650f54"
       ],
       "layout": "IPY_MODEL_0d61a3d0538845be9002a66a681a07ed"
      }
     },
     "f5d13815a79b4e57a1ca5192fc1aefd3": {
      "model_module": "@jupyter-widgets/base",
      "model_module_version": "1.2.0",
      "model_name": "LayoutModel",
      "state": {}
     },
     "f621fe949a57428f935a0fa499d1d986": {
      "model_module": "@jupyter-widgets/base",
      "model_module_version": "1.2.0",
      "model_name": "LayoutModel",
      "state": {}
     },
     "f6ef02f4df4741e6af3720c9c84a5e59": {
      "model_module": "@jupyter-widgets/base",
      "model_module_version": "1.2.0",
      "model_name": "LayoutModel",
      "state": {}
     },
     "f73b0d06bd754c738bdde78f53498f05": {
      "model_module": "@jupyter-widgets/controls",
      "model_module_version": "1.5.0",
      "model_name": "SliderStyleModel",
      "state": {
       "description_width": ""
      }
     },
     "f7cde1c401184cf99f22686c0d42628b": {
      "model_module": "@jupyter-widgets/controls",
      "model_module_version": "1.5.0",
      "model_name": "IntSliderModel",
      "state": {
       "description": "e",
       "layout": "IPY_MODEL_b448456219e04b49a52cb7e3cbfc732f",
       "max": 10,
       "style": "IPY_MODEL_f950c67b47af483dbb4e685fe9f5f636",
       "value": 5
      }
     },
     "f8b8c264a67b4451882f27729279c320": {
      "model_module": "@jupyter-widgets/base",
      "model_module_version": "1.2.0",
      "model_name": "LayoutModel",
      "state": {}
     },
     "f950c67b47af483dbb4e685fe9f5f636": {
      "model_module": "@jupyter-widgets/controls",
      "model_module_version": "1.5.0",
      "model_name": "SliderStyleModel",
      "state": {
       "description_width": ""
      }
     },
     "fa9f5668e57a4dc9bd4b0703cd5d802e": {
      "model_module": "@jupyter-widgets/base",
      "model_module_version": "1.2.0",
      "model_name": "LayoutModel",
      "state": {}
     },
     "faec9da9a11f426db82fc60b3c9cd025": {
      "model_module": "@jupyter-widgets/output",
      "model_module_version": "1.0.0",
      "model_name": "OutputModel",
      "state": {
       "layout": "IPY_MODEL_357f356b57004ee19c4a5242f53b692e"
      }
     },
     "faf65657fe90486ab226be155b275ed5": {
      "model_module": "@jupyter-widgets/base",
      "model_module_version": "1.2.0",
      "model_name": "LayoutModel",
      "state": {}
     },
     "fc0bee04df3f4f85b5cbda59cc0b6dcd": {
      "model_module": "@jupyter-widgets/base",
      "model_module_version": "1.2.0",
      "model_name": "LayoutModel",
      "state": {}
     },
     "fc4244839fb44370b8dc34cb2fa17321": {
      "model_module": "@jupyter-widgets/output",
      "model_module_version": "1.0.0",
      "model_name": "OutputModel",
      "state": {
       "layout": "IPY_MODEL_28e0a42d421b46e4918e524a171e6165"
      }
     },
     "fc8b8e367d7240b99672af2a620060c1": {
      "model_module": "@jupyter-widgets/base",
      "model_module_version": "1.2.0",
      "model_name": "LayoutModel",
      "state": {}
     },
     "fc9ba38e1d5c46cf8183a0d1e8df7b40": {
      "model_module": "@jupyter-widgets/base",
      "model_module_version": "1.2.0",
      "model_name": "LayoutModel",
      "state": {}
     },
     "fd16d224eb6d4449bc175db2027e9a60": {
      "model_module": "@jupyter-widgets/controls",
      "model_module_version": "1.5.0",
      "model_name": "SliderStyleModel",
      "state": {
       "description_width": ""
      }
     },
     "fdea97ac1685464f96a0eb6f5d32f486": {
      "model_module": "@jupyter-widgets/base",
      "model_module_version": "1.2.0",
      "model_name": "LayoutModel",
      "state": {}
     },
     "ff0e3b0438d44da8930e738a3b8a8a09": {
      "model_module": "@jupyter-widgets/controls",
      "model_module_version": "1.5.0",
      "model_name": "SliderStyleModel",
      "state": {
       "description_width": ""
      }
     }
    },
    "version_major": 2,
    "version_minor": 0
   }
  }
 },
 "nbformat": 4,
 "nbformat_minor": 2
}
